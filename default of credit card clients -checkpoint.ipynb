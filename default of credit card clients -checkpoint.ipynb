{
 "cells": [
  {
   "cell_type": "code",
   "execution_count": 1,
   "metadata": {},
   "outputs": [],
   "source": [
    "import pandas as pd\n",
    "import numpy as np\n",
    "import matplotlib.pyplot as plt\n",
    "import seaborn as sns"
   ]
  },
  {
   "cell_type": "code",
   "execution_count": 2,
   "metadata": {},
   "outputs": [],
   "source": [
    "df = pd.read_excel('default_of_credit_card_clients__courseware_version_1_21_19.xls')"
   ]
  },
  {
   "cell_type": "code",
   "execution_count": 3,
   "metadata": {},
   "outputs": [],
   "source": [
    "df.head()\n",
    "df.rename({'default payment next month':'default_payment_next_month'},axis=1,inplace=True)"
   ]
  },
  {
   "cell_type": "markdown",
   "metadata": {},
   "source": [
    "The data:\n",
    "\n",
    "Note that compared to the website's description of the data dictionary, X6-X11 are\n",
    "called PAY_1-PAY_6 in our data. Similarly, X12-X17 are BILL_AMT1-BILL_AMT6, and\n",
    "X18-X23 are PAY_AMT1-PAY_AMT6.\n",
    "\n",
    "\n",
    "1. X6 - X11: History of past payment. We tracked the past monthly payment records (from April to September, 2005) as follows: X6 = the repayment status in September, 2005; X7 = the repayment status in August, 2005; . . .;X11 = the repayment status in April, 2005. The measurement scale for the repayment status is: -1 = pay duly; 1 = payment delay for one month; 2 = payment delay for two months; . . .; 8 = payment delay for eight months; 9 = payment delay for nine months and above.\n",
    "\n",
    "\n",
    "Note: Repayment is the act of paying back money previously borrowed from a lender.\n",
    "2. X12-X17: Amount of bill statement (NT dollar). X12 = amount of bill statement in September, 2005; X13 = amount of bill statement in August, 2005; . . .; X17 = amount of bill statement in April, 2005.\n",
    "3. X18-X23: Amount of previous payment (NT dollar). X18 = amount paid in September, 2005; X19 = amount paid in August, 2005; . . .;X23 = amount paid in April, 2005.\n",
    "\n",
    "\n",
    "LIMIT_BAL: Amount of the credit provided (in New Taiwanese (NT) dollar) including\n",
    "individual consumer credit and the family (supplementary) credit.\n",
    "\n",
    "SEX: Gender (1 = male; 2 = female).\n",
    "\n",
    "EDUCATION: Education (1 = graduate school; 2 = university; 3 = high school; 4 =\n",
    "others).\n",
    "\n",
    "MARRIAGE: Marital status (1 = married; 2 = single; 3 = others).\n",
    "\n",
    "AGE: Age (year).\n",
    "\n",
    "\n"
   ]
  },
  {
   "cell_type": "code",
   "execution_count": 4,
   "metadata": {},
   "outputs": [
    {
     "data": {
      "text/html": [
       "<div>\n",
       "<style scoped>\n",
       "    .dataframe tbody tr th:only-of-type {\n",
       "        vertical-align: middle;\n",
       "    }\n",
       "\n",
       "    .dataframe tbody tr th {\n",
       "        vertical-align: top;\n",
       "    }\n",
       "\n",
       "    .dataframe thead th {\n",
       "        text-align: right;\n",
       "    }\n",
       "</style>\n",
       "<table border=\"1\" class=\"dataframe\">\n",
       "  <thead>\n",
       "    <tr style=\"text-align: right;\">\n",
       "      <th></th>\n",
       "      <th>ID</th>\n",
       "      <th>LIMIT_BAL</th>\n",
       "      <th>SEX</th>\n",
       "      <th>EDUCATION</th>\n",
       "      <th>MARRIAGE</th>\n",
       "      <th>AGE</th>\n",
       "      <th>PAY_1</th>\n",
       "      <th>PAY_2</th>\n",
       "      <th>PAY_3</th>\n",
       "      <th>PAY_4</th>\n",
       "      <th>...</th>\n",
       "      <th>BILL_AMT4</th>\n",
       "      <th>BILL_AMT5</th>\n",
       "      <th>BILL_AMT6</th>\n",
       "      <th>PAY_AMT1</th>\n",
       "      <th>PAY_AMT2</th>\n",
       "      <th>PAY_AMT3</th>\n",
       "      <th>PAY_AMT4</th>\n",
       "      <th>PAY_AMT5</th>\n",
       "      <th>PAY_AMT6</th>\n",
       "      <th>default_payment_next_month</th>\n",
       "    </tr>\n",
       "  </thead>\n",
       "  <tbody>\n",
       "    <tr>\n",
       "      <th>0</th>\n",
       "      <td>798fc410-45c1</td>\n",
       "      <td>20000</td>\n",
       "      <td>2</td>\n",
       "      <td>2</td>\n",
       "      <td>1</td>\n",
       "      <td>24</td>\n",
       "      <td>2</td>\n",
       "      <td>2</td>\n",
       "      <td>-1</td>\n",
       "      <td>-1</td>\n",
       "      <td>...</td>\n",
       "      <td>0</td>\n",
       "      <td>0</td>\n",
       "      <td>0</td>\n",
       "      <td>0</td>\n",
       "      <td>689</td>\n",
       "      <td>0</td>\n",
       "      <td>0</td>\n",
       "      <td>0</td>\n",
       "      <td>0</td>\n",
       "      <td>1</td>\n",
       "    </tr>\n",
       "    <tr>\n",
       "      <th>1</th>\n",
       "      <td>8a8c8f3b-8eb4</td>\n",
       "      <td>120000</td>\n",
       "      <td>2</td>\n",
       "      <td>2</td>\n",
       "      <td>2</td>\n",
       "      <td>26</td>\n",
       "      <td>-1</td>\n",
       "      <td>2</td>\n",
       "      <td>0</td>\n",
       "      <td>0</td>\n",
       "      <td>...</td>\n",
       "      <td>3272</td>\n",
       "      <td>3455</td>\n",
       "      <td>3261</td>\n",
       "      <td>0</td>\n",
       "      <td>1000</td>\n",
       "      <td>1000</td>\n",
       "      <td>1000</td>\n",
       "      <td>0</td>\n",
       "      <td>2000</td>\n",
       "      <td>1</td>\n",
       "    </tr>\n",
       "    <tr>\n",
       "      <th>2</th>\n",
       "      <td>85698822-43f5</td>\n",
       "      <td>90000</td>\n",
       "      <td>2</td>\n",
       "      <td>2</td>\n",
       "      <td>2</td>\n",
       "      <td>34</td>\n",
       "      <td>0</td>\n",
       "      <td>0</td>\n",
       "      <td>0</td>\n",
       "      <td>0</td>\n",
       "      <td>...</td>\n",
       "      <td>14331</td>\n",
       "      <td>14948</td>\n",
       "      <td>15549</td>\n",
       "      <td>1518</td>\n",
       "      <td>1500</td>\n",
       "      <td>1000</td>\n",
       "      <td>1000</td>\n",
       "      <td>1000</td>\n",
       "      <td>5000</td>\n",
       "      <td>0</td>\n",
       "    </tr>\n",
       "    <tr>\n",
       "      <th>3</th>\n",
       "      <td>0737c11b-be42</td>\n",
       "      <td>50000</td>\n",
       "      <td>2</td>\n",
       "      <td>2</td>\n",
       "      <td>1</td>\n",
       "      <td>37</td>\n",
       "      <td>0</td>\n",
       "      <td>0</td>\n",
       "      <td>0</td>\n",
       "      <td>0</td>\n",
       "      <td>...</td>\n",
       "      <td>28314</td>\n",
       "      <td>28959</td>\n",
       "      <td>29547</td>\n",
       "      <td>2000</td>\n",
       "      <td>2019</td>\n",
       "      <td>1200</td>\n",
       "      <td>1100</td>\n",
       "      <td>1069</td>\n",
       "      <td>1000</td>\n",
       "      <td>0</td>\n",
       "    </tr>\n",
       "    <tr>\n",
       "      <th>4</th>\n",
       "      <td>3b7f77cc-dbc0</td>\n",
       "      <td>50000</td>\n",
       "      <td>1</td>\n",
       "      <td>2</td>\n",
       "      <td>1</td>\n",
       "      <td>57</td>\n",
       "      <td>-1</td>\n",
       "      <td>0</td>\n",
       "      <td>-1</td>\n",
       "      <td>0</td>\n",
       "      <td>...</td>\n",
       "      <td>20940</td>\n",
       "      <td>19146</td>\n",
       "      <td>19131</td>\n",
       "      <td>2000</td>\n",
       "      <td>36681</td>\n",
       "      <td>10000</td>\n",
       "      <td>9000</td>\n",
       "      <td>689</td>\n",
       "      <td>679</td>\n",
       "      <td>0</td>\n",
       "    </tr>\n",
       "  </tbody>\n",
       "</table>\n",
       "<p>5 rows × 25 columns</p>\n",
       "</div>"
      ],
      "text/plain": [
       "              ID  LIMIT_BAL  SEX  EDUCATION  MARRIAGE  AGE PAY_1  PAY_2  \\\n",
       "0  798fc410-45c1      20000    2          2         1   24     2      2   \n",
       "1  8a8c8f3b-8eb4     120000    2          2         2   26    -1      2   \n",
       "2  85698822-43f5      90000    2          2         2   34     0      0   \n",
       "3  0737c11b-be42      50000    2          2         1   37     0      0   \n",
       "4  3b7f77cc-dbc0      50000    1          2         1   57    -1      0   \n",
       "\n",
       "   PAY_3  PAY_4  ...  BILL_AMT4  BILL_AMT5  BILL_AMT6  PAY_AMT1  PAY_AMT2  \\\n",
       "0     -1     -1  ...          0          0          0         0       689   \n",
       "1      0      0  ...       3272       3455       3261         0      1000   \n",
       "2      0      0  ...      14331      14948      15549      1518      1500   \n",
       "3      0      0  ...      28314      28959      29547      2000      2019   \n",
       "4     -1      0  ...      20940      19146      19131      2000     36681   \n",
       "\n",
       "   PAY_AMT3  PAY_AMT4  PAY_AMT5  PAY_AMT6  default_payment_next_month  \n",
       "0         0         0         0         0                           1  \n",
       "1      1000      1000         0      2000                           1  \n",
       "2      1000      1000      1000      5000                           0  \n",
       "3      1200      1100      1069      1000                           0  \n",
       "4     10000      9000       689       679                           0  \n",
       "\n",
       "[5 rows x 25 columns]"
      ]
     },
     "execution_count": 4,
     "metadata": {},
     "output_type": "execute_result"
    }
   ],
   "source": [
    "df.head()"
   ]
  },
  {
   "cell_type": "markdown",
   "metadata": {},
   "source": [
    "# Cleaning 'Id' column to get unique ids"
   ]
  },
  {
   "cell_type": "code",
   "execution_count": 4,
   "metadata": {},
   "outputs": [
    {
     "name": "stdout",
     "output_type": "stream",
     "text": [
      "no of unique ids:  29687\n",
      "actual no of ids present in id column 30000\n"
     ]
    }
   ],
   "source": [
    "# checking if the id column has unique IDs\n",
    "\n",
    "print(\"no of unique ids: \",df['ID'].nunique())\n",
    "print(\"actual no of ids present in id column\" ,df['ID'].shape[0])    \n"
   ]
  },
  {
   "cell_type": "markdown",
   "metadata": {},
   "source": [
    "This means that ids in ID column are not unique."
   ]
  },
  {
   "cell_type": "code",
   "execution_count": 5,
   "metadata": {},
   "outputs": [
    {
     "name": "stdout",
     "output_type": "stream",
     "text": [
      "ef889a72-06f5    2\n",
      "659da309-053c    2\n",
      "249b09c0-f4c7    2\n",
      "b557f3c2-ebec    2\n",
      "379e0b03-4ca0    2\n",
      "                ..\n",
      "ddb90eb5-59d0    1\n",
      "e1a2230a-e824    1\n",
      "4240b54c-3a33    1\n",
      "2e7af1e8-1d0d    1\n",
      "0ceb381f-8c1b    1\n",
      "Name: ID, Length: 29687, dtype: int64\n"
     ]
    },
    {
     "data": {
      "text/plain": [
       "1    29374\n",
       "2      313\n",
       "Name: ID, dtype: int64"
      ]
     },
     "execution_count": 5,
     "metadata": {},
     "output_type": "execute_result"
    }
   ],
   "source": [
    "id_counts = df['ID'].value_counts()\n",
    "valuecounts = id_counts.value_counts()\n",
    "print(id_counts)\n",
    "valuecounts"
   ]
  },
  {
   "cell_type": "markdown",
   "metadata": {},
   "source": [
    "from this we can see that most of the ids occur once. and none of the ids occue more than twice"
   ]
  },
  {
   "cell_type": "code",
   "execution_count": 6,
   "metadata": {},
   "outputs": [
    {
     "data": {
      "text/plain": [
       "ef889a72-06f5     True\n",
       "659da309-053c     True\n",
       "249b09c0-f4c7     True\n",
       "b557f3c2-ebec     True\n",
       "379e0b03-4ca0     True\n",
       "                 ...  \n",
       "ddb90eb5-59d0    False\n",
       "e1a2230a-e824    False\n",
       "4240b54c-3a33    False\n",
       "2e7af1e8-1d0d    False\n",
       "0ceb381f-8c1b    False\n",
       "Name: ID, Length: 29687, dtype: bool"
      ]
     },
     "execution_count": 6,
     "metadata": {},
     "output_type": "execute_result"
    }
   ],
   "source": [
    "dupe_mask = id_counts==2\n",
    "dupe_mask\n"
   ]
  },
  {
   "cell_type": "markdown",
   "metadata": {},
   "source": [
    "1. find out ids which appear twice in id column\n",
    "2. by looking at them we can see that the second apperance of every id has all columns as 0. hence we willl remove only those id rows\n",
    "3. create new dataframe removing out rows(~ operator) found in step 2\n"
   ]
  },
  {
   "cell_type": "raw",
   "metadata": {},
   "source": [
    "dube_entries = id_counts[id_counts==2].index.tolist()\n",
    "df.loc[df['ID'].isin(dube_entries),:].head(10)\n"
   ]
  },
  {
   "cell_type": "markdown",
   "metadata": {},
   "source": [
    "by looking at the entries we can see that the second apperance of every id has all columns expect ID as 0. hence we willl remove only those id rows"
   ]
  },
  {
   "cell_type": "code",
   "execution_count": 8,
   "metadata": {},
   "outputs": [],
   "source": [
    "df_zeros = df.iloc[:,1:] == 0\n",
    "feature_id = df_zeros.all(axis=1) # .all =  If all the elements in the passed iterable are true along the axis then returns true else it returns false."
   ]
  },
  {
   "cell_type": "code",
   "execution_count": 9,
   "metadata": {},
   "outputs": [],
   "source": [
    "clean_df = df[~feature_id]\n"
   ]
  },
  {
   "cell_type": "code",
   "execution_count": 10,
   "metadata": {},
   "outputs": [
    {
     "name": "stdout",
     "output_type": "stream",
     "text": [
      "<class 'pandas.core.frame.DataFrame'>\n",
      "Int64Index: 29685 entries, 0 to 29999\n",
      "Data columns (total 25 columns):\n",
      " #   Column                      Non-Null Count  Dtype \n",
      "---  ------                      --------------  ----- \n",
      " 0   ID                          29685 non-null  object\n",
      " 1   LIMIT_BAL                   29685 non-null  int64 \n",
      " 2   SEX                         29685 non-null  int64 \n",
      " 3   EDUCATION                   29685 non-null  int64 \n",
      " 4   MARRIAGE                    29685 non-null  int64 \n",
      " 5   AGE                         29685 non-null  int64 \n",
      " 6   PAY_1                       29685 non-null  object\n",
      " 7   PAY_2                       29685 non-null  int64 \n",
      " 8   PAY_3                       29685 non-null  int64 \n",
      " 9   PAY_4                       29685 non-null  int64 \n",
      " 10  PAY_5                       29685 non-null  int64 \n",
      " 11  PAY_6                       29685 non-null  int64 \n",
      " 12  BILL_AMT1                   29685 non-null  int64 \n",
      " 13  BILL_AMT2                   29685 non-null  int64 \n",
      " 14  BILL_AMT3                   29685 non-null  int64 \n",
      " 15  BILL_AMT4                   29685 non-null  int64 \n",
      " 16  BILL_AMT5                   29685 non-null  int64 \n",
      " 17  BILL_AMT6                   29685 non-null  int64 \n",
      " 18  PAY_AMT1                    29685 non-null  int64 \n",
      " 19  PAY_AMT2                    29685 non-null  int64 \n",
      " 20  PAY_AMT3                    29685 non-null  int64 \n",
      " 21  PAY_AMT4                    29685 non-null  int64 \n",
      " 22  PAY_AMT5                    29685 non-null  int64 \n",
      " 23  PAY_AMT6                    29685 non-null  int64 \n",
      " 24  default_payment_next_month  29685 non-null  int64 \n",
      "dtypes: int64(23), object(2)\n",
      "memory usage: 5.9+ MB\n"
     ]
    }
   ],
   "source": [
    "clean_df.info()\n"
   ]
  },
  {
   "cell_type": "markdown",
   "metadata": {},
   "source": [
    "# Understanding PAY_1 column and cleaning it"
   ]
  },
  {
   "cell_type": "code",
   "execution_count": 11,
   "metadata": {},
   "outputs": [
    {
     "data": {
      "text/plain": [
       "0                13087\n",
       "-1                5047\n",
       "1                 3261\n",
       "Not available     3021\n",
       "-2                2476\n",
       "2                 2378\n",
       "3                  292\n",
       "4                   63\n",
       "5                   23\n",
       "8                   17\n",
       "6                   11\n",
       "7                    9\n",
       "Name: PAY_1, dtype: int64"
      ]
     },
     "execution_count": 11,
     "metadata": {},
     "output_type": "execute_result"
    }
   ],
   "source": [
    "clean_df['PAY_1'].value_counts()\n"
   ]
  },
  {
   "cell_type": "markdown",
   "metadata": {},
   "source": [
    "looking at this we can see that values 0,-2 are not defined . Also ,because of the Not available value in PAY_1 its datatype is object. Remove rows of the dataset, for which this feature has a missing value"
   ]
  },
  {
   "cell_type": "code",
   "execution_count": 12,
   "metadata": {},
   "outputs": [],
   "source": [
    "# removing \"Not available\" rows\n",
    "clean_df = clean_df[clean_df['PAY_1']!='Not available']\n"
   ]
  },
  {
   "cell_type": "code",
   "execution_count": 13,
   "metadata": {},
   "outputs": [],
   "source": [
    "# changing datatype to int64\n",
    "clean_df['PAY_1'] = clean_df['PAY_1'].astype('int64')\n"
   ]
  },
  {
   "cell_type": "markdown",
   "metadata": {},
   "source": [
    "now let,\n",
    "PAY_1 = -2 means the account started that month with a zero balance, and never used any\n",
    "credit\n",
    "\n",
    "• -1 means the account had a balance that was paid in full\n",
    "\n",
    "• 0 means that at least the minimum payment was made, but the entire balance\n",
    "wasn't paid (that is, a positive balance was carried to the next month)"
   ]
  },
  {
   "cell_type": "markdown",
   "metadata": {},
   "source": [
    "# Exploring the Credit Limit and Demographic Features like SEX, EDUCATION, MARRIAGE, and AGE"
   ]
  },
  {
   "cell_type": "code",
   "execution_count": 14,
   "metadata": {},
   "outputs": [],
   "source": [
    "import matplotlib as mpl\n",
    "mpl.rcParams['figure.dpi'] =80 #.rcParams to set the resolution (dpi = dots per inch) for a nice crisp image"
   ]
  },
  {
   "cell_type": "markdown",
   "metadata": {},
   "source": [
    "### continuous features"
   ]
  },
  {
   "cell_type": "code",
   "execution_count": 15,
   "metadata": {},
   "outputs": [
    {
     "data": {
      "image/png": "[encoded data removed]",
      "text/plain": [
       "<Figure size 480x320 with 2 Axes>"
      ]
     },
     "metadata": {
      "needs_background": "light"
     },
     "output_type": "display_data"
    }
   ],
   "source": [
    "\n",
    "clean_df[['LIMIT_BAL', 'AGE']].hist();\n",
    "# fig,axes = plt.subplots(1,2)\n",
    "# axes[0].hist(clean_df['LIMIT_BAL'])\n",
    "\n"
   ]
  },
  {
   "cell_type": "markdown",
   "metadata": {},
   "source": [
    "LIMIT_BAL: the credit limit, seems to make sense. The credit limits have a minimum\n",
    "of 10,000\n",
    "\n",
    "The AGE feature also looks reasonably distributed, with no one under the age of 21\n",
    "having a credit account\n"
   ]
  },
  {
   "cell_type": "markdown",
   "metadata": {},
   "source": [
    "### categorical features"
   ]
  },
  {
   "cell_type": "markdown",
   "metadata": {},
   "source": [
    "#### EDUCATION"
   ]
  },
  {
   "cell_type": "code",
   "execution_count": 16,
   "metadata": {
    "scrolled": true
   },
   "outputs": [
    {
     "data": {
      "text/plain": [
       "2    12458\n",
       "1     9412\n",
       "3     4380\n",
       "5      245\n",
       "4      115\n",
       "6       43\n",
       "0       11\n",
       "Name: EDUCATION, dtype: int64"
      ]
     },
     "execution_count": 16,
     "metadata": {},
     "output_type": "execute_result"
    }
   ],
   "source": [
    "clean_df['EDUCATION'].value_counts()\n"
   ]
  },
  {
   "cell_type": "markdown",
   "metadata": {},
   "source": [
    " Here, we see undocumented education levels 0, 5, and 6, as the data dictionary\n",
    "describes only \"Education (1 = graduate school; 2 = university; 3 = high school; 4\n",
    "= others)\".\n",
    "\n",
    "Hence putting these category in to \"others\" category"
   ]
  },
  {
   "cell_type": "code",
   "execution_count": 17,
   "metadata": {},
   "outputs": [],
   "source": [
    "clean_df['EDUCATION'].replace(to_replace=[0,5,6] ,value=4, inplace=True)\n"
   ]
  },
  {
   "cell_type": "code",
   "execution_count": 18,
   "metadata": {},
   "outputs": [
    {
     "data": {
      "text/plain": [
       "2    12458\n",
       "1     9412\n",
       "3     4380\n",
       "4      414\n",
       "Name: EDUCATION, dtype: int64"
      ]
     },
     "execution_count": 18,
     "metadata": {},
     "output_type": "execute_result"
    }
   ],
   "source": [
    "clean_df['EDUCATION'].value_counts()\n"
   ]
  },
  {
   "cell_type": "markdown",
   "metadata": {},
   "source": [
    "#### MARRIAGE"
   ]
  },
  {
   "cell_type": "code",
   "execution_count": 19,
   "metadata": {},
   "outputs": [
    {
     "data": {
      "text/plain": [
       "2    14158\n",
       "1    12172\n",
       "3      286\n",
       "0       48\n",
       "Name: MARRIAGE, dtype: int64"
      ]
     },
     "execution_count": 19,
     "metadata": {},
     "output_type": "execute_result"
    }
   ],
   "source": [
    "clean_df['MARRIAGE'].value_counts()\n"
   ]
  },
  {
   "cell_type": "code",
   "execution_count": 20,
   "metadata": {},
   "outputs": [],
   "source": [
    "clean_df['MARRIAGE'].replace(to_replace=0 ,value=3, inplace=True)"
   ]
  },
  {
   "cell_type": "code",
   "execution_count": 21,
   "metadata": {},
   "outputs": [
    {
     "data": {
      "text/plain": [
       "2    14158\n",
       "1    12172\n",
       "3      334\n",
       "Name: MARRIAGE, dtype: int64"
      ]
     },
     "execution_count": 21,
     "metadata": {},
     "output_type": "execute_result"
    }
   ],
   "source": [
    "clean_df['MARRIAGE'].value_counts()\n"
   ]
  },
  {
   "cell_type": "markdown",
   "metadata": {},
   "source": [
    "# Implementing OHE for a Categorical Feature"
   ]
  },
  {
   "cell_type": "code",
   "execution_count": 22,
   "metadata": {},
   "outputs": [],
   "source": [
    "#OHE =One Hot Encoding"
   ]
  },
  {
   "cell_type": "code",
   "execution_count": 23,
   "metadata": {},
   "outputs": [],
   "source": [
    "# convert numbers in EDUCATION column to their respective category\n",
    "\n",
    "mapping = {1: 'graduate_school', 2 :'university', 3 : 'high_school', 4: 'others'}\n",
    "ss = clean_df['EDUCATION'].map(mapping)\n"
   ]
  },
  {
   "cell_type": "code",
   "execution_count": 24,
   "metadata": {},
   "outputs": [],
   "source": [
    "set1 = pd.get_dummies(ss)  # using one hot encoding \n",
    "#concatenate set1 with clean_df dataset\n",
    "clean_df = pd.concat([clean_df,set1], axis=1)"
   ]
  },
  {
   "cell_type": "code",
   "execution_count": 25,
   "metadata": {},
   "outputs": [
    {
     "data": {
      "text/html": [
       "<div>\n",
       "<style scoped>\n",
       "    .dataframe tbody tr th:only-of-type {\n",
       "        vertical-align: middle;\n",
       "    }\n",
       "\n",
       "    .dataframe tbody tr th {\n",
       "        vertical-align: top;\n",
       "    }\n",
       "\n",
       "    .dataframe thead th {\n",
       "        text-align: right;\n",
       "    }\n",
       "</style>\n",
       "<table border=\"1\" class=\"dataframe\">\n",
       "  <thead>\n",
       "    <tr style=\"text-align: right;\">\n",
       "      <th></th>\n",
       "      <th>ID</th>\n",
       "      <th>LIMIT_BAL</th>\n",
       "      <th>SEX</th>\n",
       "      <th>EDUCATION</th>\n",
       "      <th>MARRIAGE</th>\n",
       "      <th>AGE</th>\n",
       "      <th>PAY_1</th>\n",
       "      <th>PAY_2</th>\n",
       "      <th>PAY_3</th>\n",
       "      <th>PAY_4</th>\n",
       "      <th>...</th>\n",
       "      <th>PAY_AMT2</th>\n",
       "      <th>PAY_AMT3</th>\n",
       "      <th>PAY_AMT4</th>\n",
       "      <th>PAY_AMT5</th>\n",
       "      <th>PAY_AMT6</th>\n",
       "      <th>default_payment_next_month</th>\n",
       "      <th>graduate_school</th>\n",
       "      <th>high_school</th>\n",
       "      <th>others</th>\n",
       "      <th>university</th>\n",
       "    </tr>\n",
       "  </thead>\n",
       "  <tbody>\n",
       "    <tr>\n",
       "      <th>0</th>\n",
       "      <td>798fc410-45c1</td>\n",
       "      <td>20000</td>\n",
       "      <td>2</td>\n",
       "      <td>2</td>\n",
       "      <td>1</td>\n",
       "      <td>24</td>\n",
       "      <td>2</td>\n",
       "      <td>2</td>\n",
       "      <td>-1</td>\n",
       "      <td>-1</td>\n",
       "      <td>...</td>\n",
       "      <td>689</td>\n",
       "      <td>0</td>\n",
       "      <td>0</td>\n",
       "      <td>0</td>\n",
       "      <td>0</td>\n",
       "      <td>1</td>\n",
       "      <td>0</td>\n",
       "      <td>0</td>\n",
       "      <td>0</td>\n",
       "      <td>1</td>\n",
       "    </tr>\n",
       "    <tr>\n",
       "      <th>1</th>\n",
       "      <td>8a8c8f3b-8eb4</td>\n",
       "      <td>120000</td>\n",
       "      <td>2</td>\n",
       "      <td>2</td>\n",
       "      <td>2</td>\n",
       "      <td>26</td>\n",
       "      <td>-1</td>\n",
       "      <td>2</td>\n",
       "      <td>0</td>\n",
       "      <td>0</td>\n",
       "      <td>...</td>\n",
       "      <td>1000</td>\n",
       "      <td>1000</td>\n",
       "      <td>1000</td>\n",
       "      <td>0</td>\n",
       "      <td>2000</td>\n",
       "      <td>1</td>\n",
       "      <td>0</td>\n",
       "      <td>0</td>\n",
       "      <td>0</td>\n",
       "      <td>1</td>\n",
       "    </tr>\n",
       "    <tr>\n",
       "      <th>2</th>\n",
       "      <td>85698822-43f5</td>\n",
       "      <td>90000</td>\n",
       "      <td>2</td>\n",
       "      <td>2</td>\n",
       "      <td>2</td>\n",
       "      <td>34</td>\n",
       "      <td>0</td>\n",
       "      <td>0</td>\n",
       "      <td>0</td>\n",
       "      <td>0</td>\n",
       "      <td>...</td>\n",
       "      <td>1500</td>\n",
       "      <td>1000</td>\n",
       "      <td>1000</td>\n",
       "      <td>1000</td>\n",
       "      <td>5000</td>\n",
       "      <td>0</td>\n",
       "      <td>0</td>\n",
       "      <td>0</td>\n",
       "      <td>0</td>\n",
       "      <td>1</td>\n",
       "    </tr>\n",
       "    <tr>\n",
       "      <th>3</th>\n",
       "      <td>0737c11b-be42</td>\n",
       "      <td>50000</td>\n",
       "      <td>2</td>\n",
       "      <td>2</td>\n",
       "      <td>1</td>\n",
       "      <td>37</td>\n",
       "      <td>0</td>\n",
       "      <td>0</td>\n",
       "      <td>0</td>\n",
       "      <td>0</td>\n",
       "      <td>...</td>\n",
       "      <td>2019</td>\n",
       "      <td>1200</td>\n",
       "      <td>1100</td>\n",
       "      <td>1069</td>\n",
       "      <td>1000</td>\n",
       "      <td>0</td>\n",
       "      <td>0</td>\n",
       "      <td>0</td>\n",
       "      <td>0</td>\n",
       "      <td>1</td>\n",
       "    </tr>\n",
       "    <tr>\n",
       "      <th>4</th>\n",
       "      <td>3b7f77cc-dbc0</td>\n",
       "      <td>50000</td>\n",
       "      <td>1</td>\n",
       "      <td>2</td>\n",
       "      <td>1</td>\n",
       "      <td>57</td>\n",
       "      <td>-1</td>\n",
       "      <td>0</td>\n",
       "      <td>-1</td>\n",
       "      <td>0</td>\n",
       "      <td>...</td>\n",
       "      <td>36681</td>\n",
       "      <td>10000</td>\n",
       "      <td>9000</td>\n",
       "      <td>689</td>\n",
       "      <td>679</td>\n",
       "      <td>0</td>\n",
       "      <td>0</td>\n",
       "      <td>0</td>\n",
       "      <td>0</td>\n",
       "      <td>1</td>\n",
       "    </tr>\n",
       "  </tbody>\n",
       "</table>\n",
       "<p>5 rows × 29 columns</p>\n",
       "</div>"
      ],
      "text/plain": [
       "              ID  LIMIT_BAL  SEX  EDUCATION  MARRIAGE  AGE  PAY_1  PAY_2  \\\n",
       "0  798fc410-45c1      20000    2          2         1   24      2      2   \n",
       "1  8a8c8f3b-8eb4     120000    2          2         2   26     -1      2   \n",
       "2  85698822-43f5      90000    2          2         2   34      0      0   \n",
       "3  0737c11b-be42      50000    2          2         1   37      0      0   \n",
       "4  3b7f77cc-dbc0      50000    1          2         1   57     -1      0   \n",
       "\n",
       "   PAY_3  PAY_4  ...  PAY_AMT2  PAY_AMT3  PAY_AMT4  PAY_AMT5  PAY_AMT6  \\\n",
       "0     -1     -1  ...       689         0         0         0         0   \n",
       "1      0      0  ...      1000      1000      1000         0      2000   \n",
       "2      0      0  ...      1500      1000      1000      1000      5000   \n",
       "3      0      0  ...      2019      1200      1100      1069      1000   \n",
       "4     -1      0  ...     36681     10000      9000       689       679   \n",
       "\n",
       "   default_payment_next_month  graduate_school  high_school  others  \\\n",
       "0                           1                0            0       0   \n",
       "1                           1                0            0       0   \n",
       "2                           0                0            0       0   \n",
       "3                           0                0            0       0   \n",
       "4                           0                0            0       0   \n",
       "\n",
       "   university  \n",
       "0           1  \n",
       "1           1  \n",
       "2           1  \n",
       "3           1  \n",
       "4           1  \n",
       "\n",
       "[5 rows x 29 columns]"
      ]
     },
     "execution_count": 25,
     "metadata": {},
     "output_type": "execute_result"
    }
   ],
   "source": [
    "clean_df.head() #### this is the final cleaned datafram\n"
   ]
  },
  {
   "cell_type": "code",
   "execution_count": 26,
   "metadata": {},
   "outputs": [
    {
     "data": {
      "text/plain": [
       "['PAY_1', 'PAY_2', 'PAY_3', 'PAY_4', 'PAY_5', 'PAY_6']"
      ]
     },
     "execution_count": 26,
     "metadata": {},
     "output_type": "execute_result"
    }
   ],
   "source": [
    "pay_feats = ['PAY_1', 'PAY_2', 'PAY_3', 'PAY_4', 'PAY_5', 'PAY_6']\n",
    "pay_feats"
   ]
  },
  {
   "cell_type": "code",
   "execution_count": 27,
   "metadata": {},
   "outputs": [
    {
     "data": {
      "text/plain": [
       "array([-2.5, -1.5, -0.5,  0.5,  1.5,  2.5,  3.5,  4.5,  5.5,  6.5,  7.5,\n",
       "        8.5])"
      ]
     },
     "execution_count": 27,
     "metadata": {},
     "output_type": "execute_result"
    }
   ],
   "source": [
    "pay_1_bins = np.array(range(-2,10)) - 0.5\n",
    "pay_1_bins"
   ]
  },
  {
   "cell_type": "code",
   "execution_count": 28,
   "metadata": {},
   "outputs": [
    {
     "data": {
      "text/plain": [
       "Text(0, 0.5, 'Number of accounts')"
      ]
     },
     "execution_count": 28,
     "metadata": {},
     "output_type": "execute_result"
    },
    {
     "data": {
      "image/png": "[encoded data removed]",
      "text/plain": [
       "<Figure size 480x320 with 1 Axes>"
      ]
     },
     "metadata": {
      "needs_background": "light"
     },
     "output_type": "display_data"
    }
   ],
   "source": [
    "clean_df['PAY_1'].hist()\n",
    "plt.xlabel('PAY_1')\n",
    "plt.ylabel('Number of accounts')\n"
   ]
  },
  {
   "cell_type": "code",
   "execution_count": 29,
   "metadata": {},
   "outputs": [],
   "source": [
    "bill_feats = ['BILL_AMT1', 'BILL_AMT2', 'BILL_AMT3', 'BILL_AMT4', 'BILL_AMT5', 'BILL_AMT6']"
   ]
  },
  {
   "cell_type": "code",
   "execution_count": 30,
   "metadata": {},
   "outputs": [
    {
     "data": {
      "image/png": "[encoded data removed]",
      "text/plain": [
       "<Figure size 480x320 with 6 Axes>"
      ]
     },
     "metadata": {
      "needs_background": "light"
     },
     "output_type": "display_data"
    }
   ],
   "source": [
    "clean_df[bill_feats].hist(bins=20,layout=(2,3));\n"
   ]
  },
  {
   "cell_type": "code",
   "execution_count": 31,
   "metadata": {},
   "outputs": [],
   "source": [
    "#removing rows with NAN values from \"default payment next month\" column\n"
   ]
  },
  {
   "cell_type": "code",
   "execution_count": 32,
   "metadata": {},
   "outputs": [
    {
     "data": {
      "image/png": "[encoded data removed]",
      "text/plain": [
       "<Figure size 480x320 with 6 Axes>"
      ]
     },
     "metadata": {
      "needs_background": "light"
     },
     "output_type": "display_data"
    }
   ],
   "source": [
    "pay_amt_feats = ['PAY_AMT1', 'PAY_AMT2', 'PAY_AMT3', 'PAY_AMT4', 'PAY_AMT5', 'PAY_AMT6']\n",
    "df[pay_amt_feats].hist();\n"
   ]
  },
  {
   "cell_type": "markdown",
   "metadata": {},
   "source": [
    "A quick glance at this figure indicates that this is not a very informative graphic;\n",
    "there is only one bin in most of the histograms that is of any noticeable height.\n",
    "This is not an effective way to visualize this data. It appears that the monthly\n",
    "payment amounts are mainly in a bin that includes 0. How many are in fact 0?"
   ]
  },
  {
   "cell_type": "code",
   "execution_count": 33,
   "metadata": {},
   "outputs": [
    {
     "name": "stdout",
     "output_type": "stream",
     "text": [
      "PAY_AMT1    5504\n",
      "PAY_AMT2    5663\n",
      "PAY_AMT3    6223\n",
      "PAY_AMT4    6660\n",
      "PAY_AMT5    6955\n",
      "PAY_AMT6    7416\n",
      "dtype: int64\n"
     ]
    },
    {
     "data": {
      "image/png": "[encoded data removed]",
      "text/plain": [
       "<Figure size 480x320 with 6 Axes>"
      ]
     },
     "metadata": {
      "needs_background": "light"
     },
     "output_type": "display_data"
    }
   ],
   "source": [
    "pay_zero_mask = df[pay_amt_feats] == 0\n",
    "print(pay_zero_mask.sum())\n",
    "df[pay_amt_feats][~pay_zero_mask].apply(np.log10).hist(layout=(2,3));"
   ]
  },
  {
   "cell_type": "code",
   "execution_count": 34,
   "metadata": {},
   "outputs": [],
   "source": [
    "from sklearn.linear_model import LogisticRegression"
   ]
  },
  {
   "cell_type": "markdown",
   "metadata": {},
   "source": [
    "Calculating the True and False Positive and Negative Rates and Confusion Matrix in Python"
   ]
  },
  {
   "cell_type": "code",
   "execution_count": 35,
   "metadata": {},
   "outputs": [],
   "source": [
    "from sklearn.model_selection import train_test_split\n",
    "X_train, X_test, y_train, y_test = train_test_split(\n",
    "                                        df['EDUCATION'].values.reshape(-1,1), df['default_payment_next_month'].values,\n",
    "                                        test_size=0.2, random_state=24)"
   ]
  },
  {
   "cell_type": "code",
   "execution_count": 36,
   "metadata": {},
   "outputs": [
    {
     "data": {
      "text/plain": [
       "array([0, 0, 0, ..., 0, 0, 0], dtype=int64)"
      ]
     },
     "execution_count": 36,
     "metadata": {},
     "output_type": "execute_result"
    }
   ],
   "source": [
    "model = LogisticRegression()\n",
    "model.fit(X_train,y_train)\n",
    "y_predict = model.predict(X_test)\n",
    "y_predict"
   ]
  },
  {
   "cell_type": "code",
   "execution_count": 37,
   "metadata": {},
   "outputs": [
    {
     "data": {
      "text/plain": [
       "array([[0.8007452 , 0.1992548 ],\n",
       "       [0.77942903, 0.22057097],\n",
       "       [0.8007452 , 0.1992548 ],\n",
       "       ...,\n",
       "       [0.8007452 , 0.1992548 ],\n",
       "       [0.75652584, 0.24347416],\n",
       "       [0.77942903, 0.22057097]])"
      ]
     },
     "execution_count": 37,
     "metadata": {},
     "output_type": "execute_result"
    }
   ],
   "source": [
    "y_pred_proba = model.predict_proba(X_test)\n",
    "y_pred_proba"
   ]
  },
  {
   "cell_type": "code",
   "execution_count": 38,
   "metadata": {},
   "outputs": [
    {
     "data": {
      "text/plain": [
       "4654"
      ]
     },
     "execution_count": 38,
     "metadata": {},
     "output_type": "execute_result"
    }
   ],
   "source": [
    "N = sum(y_test==0)\n",
    "N"
   ]
  },
  {
   "cell_type": "code",
   "execution_count": 39,
   "metadata": {},
   "outputs": [
    {
     "data": {
      "text/plain": [
       "4654"
      ]
     },
     "execution_count": 39,
     "metadata": {},
     "output_type": "execute_result"
    }
   ],
   "source": [
    "TN = sum((y_test==0) & (y_predict==0))\n",
    "TN"
   ]
  },
  {
   "cell_type": "code",
   "execution_count": 40,
   "metadata": {},
   "outputs": [
    {
     "data": {
      "text/plain": [
       "0"
      ]
     },
     "execution_count": 40,
     "metadata": {},
     "output_type": "execute_result"
    }
   ],
   "source": [
    "FP = sum((y_test==0) & (y_predict==1))\n",
    "FP"
   ]
  },
  {
   "cell_type": "code",
   "execution_count": 41,
   "metadata": {},
   "outputs": [
    {
     "name": "stdout",
     "output_type": "stream",
     "text": [
      "1.0 0.0\n"
     ]
    }
   ],
   "source": [
    "TNR = TN/N\n",
    "FPR = FP/N\n",
    "print(TNR, FPR)"
   ]
  },
  {
   "cell_type": "code",
   "execution_count": 42,
   "metadata": {},
   "outputs": [
    {
     "data": {
      "text/plain": [
       "1346"
      ]
     },
     "execution_count": 42,
     "metadata": {},
     "output_type": "execute_result"
    }
   ],
   "source": [
    "FN = sum((y_test==1) & (y_predict==0))\n",
    "FN"
   ]
  },
  {
   "cell_type": "code",
   "execution_count": 43,
   "metadata": {},
   "outputs": [],
   "source": [
    "from sklearn import metrics"
   ]
  },
  {
   "cell_type": "code",
   "execution_count": 44,
   "metadata": {},
   "outputs": [
    {
     "data": {
      "text/plain": [
       "array([[4654,    0],\n",
       "       [1346,    0]], dtype=int64)"
      ]
     },
     "execution_count": 44,
     "metadata": {},
     "output_type": "execute_result"
    }
   ],
   "source": [
    "metrics.confusion_matrix(y_test,y_predict)"
   ]
  },
  {
   "cell_type": "code",
   "execution_count": 45,
   "metadata": {},
   "outputs": [],
   "source": [
    "np.sum(y_pred_proba,1)\n",
    "pos_proba = y_pred_proba[:,1]"
   ]
  },
  {
   "cell_type": "code",
   "execution_count": 46,
   "metadata": {},
   "outputs": [],
   "source": [
    "fpr,tpr,thresholds = metrics.roc_curve(y_test, pos_proba)"
   ]
  },
  {
   "cell_type": "code",
   "execution_count": 47,
   "metadata": {},
   "outputs": [
    {
     "data": {
      "text/plain": [
       "array([0.        , 0.00236356, 0.01525569, 0.02127202, 0.18091964,\n",
       "       0.63107005, 0.98581865, 1.        ])"
      ]
     },
     "execution_count": 47,
     "metadata": {},
     "output_type": "execute_result"
    }
   ],
   "source": [
    "fpr"
   ]
  },
  {
   "cell_type": "code",
   "execution_count": 48,
   "metadata": {},
   "outputs": [
    {
     "data": {
      "text/plain": [
       "array([0.00000000e+00, 7.42942051e-04, 1.48588410e-03, 2.97176820e-03,\n",
       "       1.97622585e-01, 6.88707281e-01, 1.00000000e+00, 1.00000000e+00])"
      ]
     },
     "execution_count": 48,
     "metadata": {},
     "output_type": "execute_result"
    }
   ],
   "source": [
    "tpr"
   ]
  },
  {
   "cell_type": "code",
   "execution_count": 49,
   "metadata": {},
   "outputs": [
    {
     "data": {
      "text/plain": [
       "array([1.32128405, 0.32128405, 0.29390497, 0.267938  , 0.24347416,\n",
       "       0.22057097, 0.1992548 , 0.17952416])"
      ]
     },
     "execution_count": 49,
     "metadata": {},
     "output_type": "execute_result"
    }
   ],
   "source": [
    "thresholds\n"
   ]
  },
  {
   "cell_type": "markdown",
   "metadata": {},
   "source": [
    "# Examining the Relationships between Features and the Response"
   ]
  },
  {
   "cell_type": "code",
   "execution_count": 50,
   "metadata": {},
   "outputs": [
    {
     "data": {
      "text/plain": [
       "['ID',\n",
       " 'LIMIT_BAL',\n",
       " 'SEX',\n",
       " 'EDUCATION',\n",
       " 'MARRIAGE',\n",
       " 'AGE',\n",
       " 'PAY_1',\n",
       " 'PAY_2',\n",
       " 'PAY_3',\n",
       " 'PAY_4',\n",
       " 'PAY_5',\n",
       " 'PAY_6',\n",
       " 'BILL_AMT1',\n",
       " 'BILL_AMT2',\n",
       " 'BILL_AMT3',\n",
       " 'BILL_AMT4',\n",
       " 'BILL_AMT5',\n",
       " 'BILL_AMT6',\n",
       " 'PAY_AMT1',\n",
       " 'PAY_AMT2',\n",
       " 'PAY_AMT3',\n",
       " 'PAY_AMT4',\n",
       " 'PAY_AMT5',\n",
       " 'PAY_AMT6',\n",
       " 'default_payment_next_month',\n",
       " 'graduate_school',\n",
       " 'high_school',\n",
       " 'others',\n",
       " 'university']"
      ]
     },
     "execution_count": 50,
     "metadata": {},
     "output_type": "execute_result"
    }
   ],
   "source": [
    "feature_res = clean_df.columns.tolist()\n",
    "feature_res"
   ]
  },
  {
   "cell_type": "markdown",
   "metadata": {},
   "source": [
    "We are not to use the gender variable due to ethical concerns, and we\n",
    "learned that PAY_2, PAY_3, …, PAY_6 are incorrect and should be ignored. Also, we are not\n",
    "going to examine the one-hot encoding we created from the EDUCATION variable, since\n",
    "the information from those columns is already included in the original feature, at least\n",
    "in some form. We will just use the EDUCATION feature directly. Finally, it makes no sense\n",
    "to use ID as a feature, since this is simply a unique account identifier and has nothing to\n",
    "do with the response variable"
   ]
  },
  {
   "cell_type": "code",
   "execution_count": 51,
   "metadata": {},
   "outputs": [],
   "source": [
    "items_to_remove = ['ID', 'SEX', 'PAY_2', 'PAY_3', 'PAY_4', 'PAY_5', 'PAY_6', 'graduate_school', \n",
    "                   'high_school','others', 'university']"
   ]
  },
  {
   "cell_type": "code",
   "execution_count": 52,
   "metadata": {},
   "outputs": [
    {
     "data": {
      "text/plain": [
       "['LIMIT_BAL',\n",
       " 'EDUCATION',\n",
       " 'MARRIAGE',\n",
       " 'AGE',\n",
       " 'PAY_1',\n",
       " 'BILL_AMT1',\n",
       " 'BILL_AMT2',\n",
       " 'BILL_AMT3',\n",
       " 'BILL_AMT4',\n",
       " 'BILL_AMT5',\n",
       " 'BILL_AMT6',\n",
       " 'PAY_AMT1',\n",
       " 'PAY_AMT2',\n",
       " 'PAY_AMT3',\n",
       " 'PAY_AMT4',\n",
       " 'PAY_AMT5',\n",
       " 'PAY_AMT6',\n",
       " 'default_payment_next_month']"
      ]
     },
     "execution_count": 52,
     "metadata": {},
     "output_type": "execute_result"
    }
   ],
   "source": [
    "features_response = [item for item in feature_res if item not in  items_to_remove]\n",
    "features_response"
   ]
  },
  {
   "cell_type": "markdown",
   "metadata": {},
   "source": [
    "### Pearsons correlation"
   ]
  },
  {
   "cell_type": "markdown",
   "metadata": {},
   "source": [
    "Pearson correlation is used to measure the strength and direction (that is,positive or negative) of the linear relationship between two variables. .corr() provides linear correlation.\n",
    "\n",
    "All the correlations are between -1 and 1"
   ]
  },
  {
   "cell_type": "code",
   "execution_count": 53,
   "metadata": {},
   "outputs": [],
   "source": [
    "cor = clean_df[features_response].corr()"
   ]
  },
  {
   "cell_type": "code",
   "execution_count": 54,
   "metadata": {},
   "outputs": [
    {
     "data": {
      "text/html": [
       "<div>\n",
       "<style scoped>\n",
       "    .dataframe tbody tr th:only-of-type {\n",
       "        vertical-align: middle;\n",
       "    }\n",
       "\n",
       "    .dataframe tbody tr th {\n",
       "        vertical-align: top;\n",
       "    }\n",
       "\n",
       "    .dataframe thead th {\n",
       "        text-align: right;\n",
       "    }\n",
       "</style>\n",
       "<table border=\"1\" class=\"dataframe\">\n",
       "  <thead>\n",
       "    <tr style=\"text-align: right;\">\n",
       "      <th></th>\n",
       "      <th>LIMIT_BAL</th>\n",
       "      <th>EDUCATION</th>\n",
       "      <th>MARRIAGE</th>\n",
       "      <th>AGE</th>\n",
       "      <th>PAY_1</th>\n",
       "      <th>BILL_AMT1</th>\n",
       "      <th>BILL_AMT2</th>\n",
       "      <th>BILL_AMT3</th>\n",
       "      <th>BILL_AMT4</th>\n",
       "      <th>BILL_AMT5</th>\n",
       "      <th>BILL_AMT6</th>\n",
       "      <th>PAY_AMT1</th>\n",
       "      <th>PAY_AMT2</th>\n",
       "      <th>PAY_AMT3</th>\n",
       "      <th>PAY_AMT4</th>\n",
       "      <th>PAY_AMT5</th>\n",
       "      <th>PAY_AMT6</th>\n",
       "      <th>default_payment_next_month</th>\n",
       "    </tr>\n",
       "  </thead>\n",
       "  <tbody>\n",
       "    <tr>\n",
       "      <th>LIMIT_BAL</th>\n",
       "      <td>1.000000</td>\n",
       "      <td>-0.232688</td>\n",
       "      <td>-0.111873</td>\n",
       "      <td>0.149157</td>\n",
       "      <td>-0.273396</td>\n",
       "      <td>0.287009</td>\n",
       "      <td>0.279289</td>\n",
       "      <td>0.285299</td>\n",
       "      <td>0.294342</td>\n",
       "      <td>0.295198</td>\n",
       "      <td>0.289818</td>\n",
       "      <td>0.194820</td>\n",
       "      <td>0.188049</td>\n",
       "      <td>0.207638</td>\n",
       "      <td>0.202795</td>\n",
       "      <td>0.218082</td>\n",
       "      <td>0.221305</td>\n",
       "      <td>-0.154423</td>\n",
       "    </tr>\n",
       "    <tr>\n",
       "      <th>EDUCATION</th>\n",
       "      <td>-0.232688</td>\n",
       "      <td>1.000000</td>\n",
       "      <td>-0.137097</td>\n",
       "      <td>0.179035</td>\n",
       "      <td>0.112653</td>\n",
       "      <td>0.016156</td>\n",
       "      <td>0.012307</td>\n",
       "      <td>0.007683</td>\n",
       "      <td>-0.005862</td>\n",
       "      <td>-0.013174</td>\n",
       "      <td>-0.012670</td>\n",
       "      <td>-0.040092</td>\n",
       "      <td>-0.033610</td>\n",
       "      <td>-0.042349</td>\n",
       "      <td>-0.039319</td>\n",
       "      <td>-0.044946</td>\n",
       "      <td>-0.046859</td>\n",
       "      <td>0.034966</td>\n",
       "    </tr>\n",
       "    <tr>\n",
       "      <th>MARRIAGE</th>\n",
       "      <td>-0.111873</td>\n",
       "      <td>-0.137097</td>\n",
       "      <td>1.000000</td>\n",
       "      <td>-0.412828</td>\n",
       "      <td>0.019759</td>\n",
       "      <td>-0.028610</td>\n",
       "      <td>-0.026009</td>\n",
       "      <td>-0.029192</td>\n",
       "      <td>-0.027740</td>\n",
       "      <td>-0.029895</td>\n",
       "      <td>-0.024414</td>\n",
       "      <td>-0.002951</td>\n",
       "      <td>-0.007548</td>\n",
       "      <td>-0.003408</td>\n",
       "      <td>-0.014387</td>\n",
       "      <td>-0.000410</td>\n",
       "      <td>-0.009461</td>\n",
       "      <td>-0.026030</td>\n",
       "    </tr>\n",
       "    <tr>\n",
       "      <th>AGE</th>\n",
       "      <td>0.149157</td>\n",
       "      <td>0.179035</td>\n",
       "      <td>-0.412828</td>\n",
       "      <td>1.000000</td>\n",
       "      <td>-0.044277</td>\n",
       "      <td>0.056245</td>\n",
       "      <td>0.054099</td>\n",
       "      <td>0.054107</td>\n",
       "      <td>0.051241</td>\n",
       "      <td>0.049701</td>\n",
       "      <td>0.047519</td>\n",
       "      <td>0.025437</td>\n",
       "      <td>0.025421</td>\n",
       "      <td>0.029876</td>\n",
       "      <td>0.025307</td>\n",
       "      <td>0.020541</td>\n",
       "      <td>0.021640</td>\n",
       "      <td>0.014334</td>\n",
       "    </tr>\n",
       "    <tr>\n",
       "      <th>PAY_1</th>\n",
       "      <td>-0.273396</td>\n",
       "      <td>0.112653</td>\n",
       "      <td>0.019759</td>\n",
       "      <td>-0.044277</td>\n",
       "      <td>1.000000</td>\n",
       "      <td>0.185826</td>\n",
       "      <td>0.188799</td>\n",
       "      <td>0.181257</td>\n",
       "      <td>0.178812</td>\n",
       "      <td>0.180438</td>\n",
       "      <td>0.177486</td>\n",
       "      <td>-0.081450</td>\n",
       "      <td>-0.073295</td>\n",
       "      <td>-0.072682</td>\n",
       "      <td>-0.064112</td>\n",
       "      <td>-0.057021</td>\n",
       "      <td>-0.061031</td>\n",
       "      <td>0.325365</td>\n",
       "    </tr>\n",
       "  </tbody>\n",
       "</table>\n",
       "</div>"
      ],
      "text/plain": [
       "           LIMIT_BAL  EDUCATION  MARRIAGE       AGE     PAY_1  BILL_AMT1  \\\n",
       "LIMIT_BAL   1.000000  -0.232688 -0.111873  0.149157 -0.273396   0.287009   \n",
       "EDUCATION  -0.232688   1.000000 -0.137097  0.179035  0.112653   0.016156   \n",
       "MARRIAGE   -0.111873  -0.137097  1.000000 -0.412828  0.019759  -0.028610   \n",
       "AGE         0.149157   0.179035 -0.412828  1.000000 -0.044277   0.056245   \n",
       "PAY_1      -0.273396   0.112653  0.019759 -0.044277  1.000000   0.185826   \n",
       "\n",
       "           BILL_AMT2  BILL_AMT3  BILL_AMT4  BILL_AMT5  BILL_AMT6  PAY_AMT1  \\\n",
       "LIMIT_BAL   0.279289   0.285299   0.294342   0.295198   0.289818  0.194820   \n",
       "EDUCATION   0.012307   0.007683  -0.005862  -0.013174  -0.012670 -0.040092   \n",
       "MARRIAGE   -0.026009  -0.029192  -0.027740  -0.029895  -0.024414 -0.002951   \n",
       "AGE         0.054099   0.054107   0.051241   0.049701   0.047519  0.025437   \n",
       "PAY_1       0.188799   0.181257   0.178812   0.180438   0.177486 -0.081450   \n",
       "\n",
       "           PAY_AMT2  PAY_AMT3  PAY_AMT4  PAY_AMT5  PAY_AMT6  \\\n",
       "LIMIT_BAL  0.188049  0.207638  0.202795  0.218082  0.221305   \n",
       "EDUCATION -0.033610 -0.042349 -0.039319 -0.044946 -0.046859   \n",
       "MARRIAGE  -0.007548 -0.003408 -0.014387 -0.000410 -0.009461   \n",
       "AGE        0.025421  0.029876  0.025307  0.020541  0.021640   \n",
       "PAY_1     -0.073295 -0.072682 -0.064112 -0.057021 -0.061031   \n",
       "\n",
       "           default_payment_next_month  \n",
       "LIMIT_BAL                   -0.154423  \n",
       "EDUCATION                    0.034966  \n",
       "MARRIAGE                    -0.026030  \n",
       "AGE                          0.014334  \n",
       "PAY_1                        0.325365  "
      ]
     },
     "execution_count": 54,
     "metadata": {},
     "output_type": "execute_result"
    }
   ],
   "source": [
    "cor.head()"
   ]
  },
  {
   "cell_type": "code",
   "execution_count": 55,
   "metadata": {},
   "outputs": [
    {
     "data": {
      "image/png": "[encoded data removed]",
      "text/plain": [
       "<Figure size 480x320 with 2 Axes>"
      ]
     },
     "metadata": {
      "needs_background": "light"
     },
     "output_type": "display_data"
    }
   ],
   "source": [
    "sns.heatmap(cor,xticklabels=cor.columns.values,yticklabels=cor.columns.values,center=0);\n",
    "# the center of\n",
    "# colorbar should be 0, so that positive and negative correlation are distinguishable as red\n",
    "# and blue, respectively."
   ]
  },
  {
   "cell_type": "markdown",
   "metadata": {},
   "source": [
    "## F-test and Univariate Feature Selection"
   ]
  },
  {
   "cell_type": "code",
   "execution_count": 56,
   "metadata": {},
   "outputs": [],
   "source": [
    "X = clean_df[features_response].iloc[:,:-1].values\n",
    "y = clean_df[features_response].iloc[:,-1].values"
   ]
  },
  {
   "cell_type": "markdown",
   "metadata": {},
   "source": [
    "In the context of the F-test, the p-value answers the question: \"For the samples in the\n",
    "positive class, how likely is it that the average value(mean) of this feature is the same as that\n",
    "of samples in the negative class?\" If a feature has very different average values(mean) between\n",
    "the positive and negative classes, it will:\n",
    "\n",
    "• Be very unlikely that those average values are the same (low p-value)\n",
    "\n",
    "• Probably be a good feature in our model because it will help us discriminate\n",
    "between positive and negative classes"
   ]
  },
  {
   "cell_type": "code",
   "execution_count": 57,
   "metadata": {},
   "outputs": [],
   "source": [
    "from sklearn.feature_selection import f_classif"
   ]
  },
  {
   "cell_type": "code",
   "execution_count": 58,
   "metadata": {},
   "outputs": [],
   "source": [
    "[f_stat, f_p_value] = f_classif(X,y)"
   ]
  },
  {
   "cell_type": "markdown",
   "metadata": {},
   "source": [
    "Let's create a new DataFrame\n",
    "containing the feature names and these outputs, to facilitate our inspection"
   ]
  },
  {
   "cell_type": "code",
   "execution_count": 59,
   "metadata": {},
   "outputs": [
    {
     "data": {
      "text/html": [
       "<div>\n",
       "<style scoped>\n",
       "    .dataframe tbody tr th:only-of-type {\n",
       "        vertical-align: middle;\n",
       "    }\n",
       "\n",
       "    .dataframe tbody tr th {\n",
       "        vertical-align: top;\n",
       "    }\n",
       "\n",
       "    .dataframe thead th {\n",
       "        text-align: right;\n",
       "    }\n",
       "</style>\n",
       "<table border=\"1\" class=\"dataframe\">\n",
       "  <thead>\n",
       "    <tr style=\"text-align: right;\">\n",
       "      <th></th>\n",
       "      <th>feature_name</th>\n",
       "      <th>F_static</th>\n",
       "      <th>p_value</th>\n",
       "    </tr>\n",
       "  </thead>\n",
       "  <tbody>\n",
       "    <tr>\n",
       "      <th>4</th>\n",
       "      <td>PAY_1</td>\n",
       "      <td>3156.672300</td>\n",
       "      <td>0.000000e+00</td>\n",
       "    </tr>\n",
       "    <tr>\n",
       "      <th>0</th>\n",
       "      <td>LIMIT_BAL</td>\n",
       "      <td>651.324071</td>\n",
       "      <td>5.838366e-142</td>\n",
       "    </tr>\n",
       "    <tr>\n",
       "      <th>11</th>\n",
       "      <td>PAY_AMT1</td>\n",
       "      <td>140.612679</td>\n",
       "      <td>2.358354e-32</td>\n",
       "    </tr>\n",
       "    <tr>\n",
       "      <th>12</th>\n",
       "      <td>PAY_AMT2</td>\n",
       "      <td>101.408321</td>\n",
       "      <td>8.256124e-24</td>\n",
       "    </tr>\n",
       "    <tr>\n",
       "      <th>13</th>\n",
       "      <td>PAY_AMT3</td>\n",
       "      <td>90.023873</td>\n",
       "      <td>2.542641e-21</td>\n",
       "    </tr>\n",
       "    <tr>\n",
       "      <th>15</th>\n",
       "      <td>PAY_AMT5</td>\n",
       "      <td>85.843295</td>\n",
       "      <td>2.090120e-20</td>\n",
       "    </tr>\n",
       "    <tr>\n",
       "      <th>16</th>\n",
       "      <td>PAY_AMT6</td>\n",
       "      <td>80.420784</td>\n",
       "      <td>3.219565e-19</td>\n",
       "    </tr>\n",
       "    <tr>\n",
       "      <th>14</th>\n",
       "      <td>PAY_AMT4</td>\n",
       "      <td>79.640021</td>\n",
       "      <td>4.774112e-19</td>\n",
       "    </tr>\n",
       "    <tr>\n",
       "      <th>1</th>\n",
       "      <td>EDUCATION</td>\n",
       "      <td>32.637768</td>\n",
       "      <td>1.122175e-08</td>\n",
       "    </tr>\n",
       "    <tr>\n",
       "      <th>2</th>\n",
       "      <td>MARRIAGE</td>\n",
       "      <td>18.078027</td>\n",
       "      <td>2.127555e-05</td>\n",
       "    </tr>\n",
       "    <tr>\n",
       "      <th>5</th>\n",
       "      <td>BILL_AMT1</td>\n",
       "      <td>11.218406</td>\n",
       "      <td>8.110226e-04</td>\n",
       "    </tr>\n",
       "    <tr>\n",
       "      <th>7</th>\n",
       "      <td>BILL_AMT3</td>\n",
       "      <td>5.722938</td>\n",
       "      <td>1.675157e-02</td>\n",
       "    </tr>\n",
       "    <tr>\n",
       "      <th>6</th>\n",
       "      <td>BILL_AMT2</td>\n",
       "      <td>5.668454</td>\n",
       "      <td>1.727965e-02</td>\n",
       "    </tr>\n",
       "    <tr>\n",
       "      <th>3</th>\n",
       "      <td>AGE</td>\n",
       "      <td>5.479140</td>\n",
       "      <td>1.925206e-02</td>\n",
       "    </tr>\n",
       "    <tr>\n",
       "      <th>8</th>\n",
       "      <td>BILL_AMT4</td>\n",
       "      <td>3.434740</td>\n",
       "      <td>6.384965e-02</td>\n",
       "    </tr>\n",
       "    <tr>\n",
       "      <th>9</th>\n",
       "      <td>BILL_AMT5</td>\n",
       "      <td>1.216082</td>\n",
       "      <td>2.701409e-01</td>\n",
       "    </tr>\n",
       "    <tr>\n",
       "      <th>10</th>\n",
       "      <td>BILL_AMT6</td>\n",
       "      <td>1.049561</td>\n",
       "      <td>3.056176e-01</td>\n",
       "    </tr>\n",
       "  </tbody>\n",
       "</table>\n",
       "</div>"
      ],
      "text/plain": [
       "   feature_name     F_static        p_value\n",
       "4         PAY_1  3156.672300   0.000000e+00\n",
       "0     LIMIT_BAL   651.324071  5.838366e-142\n",
       "11     PAY_AMT1   140.612679   2.358354e-32\n",
       "12     PAY_AMT2   101.408321   8.256124e-24\n",
       "13     PAY_AMT3    90.023873   2.542641e-21\n",
       "15     PAY_AMT5    85.843295   2.090120e-20\n",
       "16     PAY_AMT6    80.420784   3.219565e-19\n",
       "14     PAY_AMT4    79.640021   4.774112e-19\n",
       "1     EDUCATION    32.637768   1.122175e-08\n",
       "2      MARRIAGE    18.078027   2.127555e-05\n",
       "5     BILL_AMT1    11.218406   8.110226e-04\n",
       "7     BILL_AMT3     5.722938   1.675157e-02\n",
       "6     BILL_AMT2     5.668454   1.727965e-02\n",
       "3           AGE     5.479140   1.925206e-02\n",
       "8     BILL_AMT4     3.434740   6.384965e-02\n",
       "9     BILL_AMT5     1.216082   2.701409e-01\n",
       "10    BILL_AMT6     1.049561   3.056176e-01"
      ]
     },
     "execution_count": 59,
     "metadata": {},
     "output_type": "execute_result"
    }
   ],
   "source": [
    "f_test_df = pd.DataFrame({'feature_name':features_response[:-1], 'F_static':f_stat,'p_value':f_p_value})\n",
    "f_test_df.sort_values(by='p_value')"
   ]
  },
  {
   "cell_type": "markdown",
   "metadata": {},
   "source": [
    "Note that for every decrease in p-value, there is an increase in the F-statistic,\n",
    "so the information in these columns is essentially the same in terms of ranking\n",
    "features.\n",
    "\n",
    "The conclusions we can draw from the DataFrame of F-statistics and p-values are\n",
    "similar to what we observed in the correlation plot: PAY_1 and LIMIT_BAL appear\n",
    "to be the most useful features. They have the smallest p-values, indicating the\n",
    "average values of these features between the positive and negative classes are\n",
    "significantly different, and these features will help predict which class a sample\n",
    "belongs to."
   ]
  },
  {
   "cell_type": "markdown",
   "metadata": {},
   "source": [
    "if we wanted to retrieve only the 20% of features with the highest F-statistics, we can do\n",
    "this easily with the \"SelectPercentile\" class. Also note there is a similar class\n",
    "for selection the top \"k\" features (where k is any number you specify), called\n",
    "\"SelectKBest\". Here we demonstrate how to select the top 20%."
   ]
  },
  {
   "cell_type": "code",
   "execution_count": 60,
   "metadata": {},
   "outputs": [],
   "source": [
    "#To select the top 20% of features according to the F-test, first import the SelectPercentile class\n",
    "from sklearn.feature_selection import SelectPercentile\n"
   ]
  },
  {
   "cell_type": "code",
   "execution_count": 61,
   "metadata": {},
   "outputs": [],
   "source": [
    "# Instantiate an object of this class, indicating we'd like to use the same feature selection criteria, ANOVA F-test, \\\n",
    "#that we've already been considering in this exercise, and that we'd like to select the top 20% of featuress\n",
    "selector = SelectPercentile(f_classif, percentile = 20)"
   ]
  },
  {
   "cell_type": "code",
   "execution_count": 62,
   "metadata": {},
   "outputs": [
    {
     "data": {
      "text/plain": [
       "SelectPercentile(percentile=20,\n",
       "                 score_func=<function f_classif at 0x0000023472499948>)"
      ]
     },
     "execution_count": 62,
     "metadata": {},
     "output_type": "execute_result"
    }
   ],
   "source": [
    "#Use the .fit method to fit the object on our features and response data, similar to how a model would be fit:\n",
    "\n",
    "selector.fit(X,y)"
   ]
  },
  {
   "cell_type": "markdown",
   "metadata": {},
   "source": [
    "There are several ways to access the selected features directly, which you may\n",
    "learn about in the scikit-learn documentation (that is, the .transform method,\n",
    "or in the same step as fitting with .fit_transform). However, these methods will\n",
    "return NumPy arrays, which don't tell you the names of the features that were\n",
    "selected, just the values. For that, you can use the \".get_support\" method of the\n",
    "feature selector object, which will give you the column indices of the feature array\n",
    "that were selected."
   ]
  },
  {
   "cell_type": "code",
   "execution_count": 63,
   "metadata": {},
   "outputs": [
    {
     "data": {
      "text/plain": [
       "array([ True, False, False, False,  True, False, False, False, False,\n",
       "       False, False,  True,  True, False, False, False, False])"
      ]
     },
     "execution_count": 63,
     "metadata": {},
     "output_type": "execute_result"
    }
   ],
   "source": [
    "# capturing the indices of the selected features\n",
    "best_features_ix = selector.get_support()\n",
    "best_features_ix \n",
    "#The output should appear as follows, indicating a logical index that can be used with an array of feature_names, \n",
    "#as well as values, assuming they're in the same order as the features array supplied to \"SelectPercentile\""
   ]
  },
  {
   "cell_type": "code",
   "execution_count": 64,
   "metadata": {},
   "outputs": [],
   "source": [
    "best_features = [features_response[counter] for counter in range(len(features_response)-1) if best_features_ix[counter]==True ]"
   ]
  },
  {
   "cell_type": "code",
   "execution_count": 65,
   "metadata": {},
   "outputs": [
    {
     "data": {
      "text/plain": [
       "['LIMIT_BAL', 'PAY_1', 'PAY_AMT1', 'PAY_AMT2']"
      ]
     },
     "execution_count": 65,
     "metadata": {},
     "output_type": "execute_result"
    }
   ],
   "source": [
    "best_features"
   ]
  },
  {
   "cell_type": "markdown",
   "metadata": {},
   "source": [
    "### Hypothesis for 'PAY_1' and 'LIMIT_BAL'"
   ]
  },
  {
   "cell_type": "markdown",
   "metadata": {},
   "source": [
    "for PAY_1 : Accounts with\n",
    "delayed payments last month, were accounts that could be considered in default\n",
    "\n",
    "people who have\n",
    "defaulted before are probably at the highest risk of defaulting again"
   ]
  },
  {
   "cell_type": "markdown",
   "metadata": {},
   "source": [
    "for LIMIT_BAL : Thinking about how credit limits are\n",
    "assigned, it is likely that our client has assessed how risky a borrower is when deciding\n",
    "their credit limit. Riskier clients should be given lower limits, so the creditor is less\n",
    "exposed. Therefore, we may expect to see a higher probability of default, for accounts\n",
    "with lower values of LIMIT_BAL."
   ]
  },
  {
   "cell_type": "markdown",
   "metadata": {},
   "source": [
    "### analysing PAY_1"
   ]
  },
  {
   "cell_type": "code",
   "execution_count": 66,
   "metadata": {},
   "outputs": [
    {
     "data": {
      "text/plain": [
       "0.2217971797179718"
      ]
     },
     "execution_count": 66,
     "metadata": {},
     "output_type": "execute_result"
    }
   ],
   "source": [
    "#Calculate a baseline for the response variable of the default rate across the whole dataset using.mean():\n",
    "overall_default_rate = clean_df['default_payment_next_month'].mean()\n",
    "overall_default_rate"
   ]
  },
  {
   "cell_type": "code",
   "execution_count": 67,
   "metadata": {},
   "outputs": [
    {
     "data": {
      "text/html": [
       "<div>\n",
       "<style scoped>\n",
       "    .dataframe tbody tr th:only-of-type {\n",
       "        vertical-align: middle;\n",
       "    }\n",
       "\n",
       "    .dataframe tbody tr th {\n",
       "        vertical-align: top;\n",
       "    }\n",
       "\n",
       "    .dataframe thead th {\n",
       "        text-align: right;\n",
       "    }\n",
       "</style>\n",
       "<table border=\"1\" class=\"dataframe\">\n",
       "  <thead>\n",
       "    <tr style=\"text-align: right;\">\n",
       "      <th></th>\n",
       "      <th>default_payment_next_month</th>\n",
       "    </tr>\n",
       "    <tr>\n",
       "      <th>PAY_1</th>\n",
       "      <th></th>\n",
       "    </tr>\n",
       "  </thead>\n",
       "  <tbody>\n",
       "    <tr>\n",
       "      <th>0</th>\n",
       "      <td>0.128295</td>\n",
       "    </tr>\n",
       "    <tr>\n",
       "      <th>-2</th>\n",
       "      <td>0.131664</td>\n",
       "    </tr>\n",
       "    <tr>\n",
       "      <th>-1</th>\n",
       "      <td>0.170002</td>\n",
       "    </tr>\n",
       "    <tr>\n",
       "      <th>1</th>\n",
       "      <td>0.336400</td>\n",
       "    </tr>\n",
       "    <tr>\n",
       "      <th>5</th>\n",
       "      <td>0.434783</td>\n",
       "    </tr>\n",
       "    <tr>\n",
       "      <th>6</th>\n",
       "      <td>0.545455</td>\n",
       "    </tr>\n",
       "    <tr>\n",
       "      <th>8</th>\n",
       "      <td>0.588235</td>\n",
       "    </tr>\n",
       "    <tr>\n",
       "      <th>4</th>\n",
       "      <td>0.682540</td>\n",
       "    </tr>\n",
       "    <tr>\n",
       "      <th>2</th>\n",
       "      <td>0.694701</td>\n",
       "    </tr>\n",
       "    <tr>\n",
       "      <th>3</th>\n",
       "      <td>0.773973</td>\n",
       "    </tr>\n",
       "    <tr>\n",
       "      <th>7</th>\n",
       "      <td>0.777778</td>\n",
       "    </tr>\n",
       "  </tbody>\n",
       "</table>\n",
       "</div>"
      ],
      "text/plain": [
       "       default_payment_next_month\n",
       "PAY_1                            \n",
       " 0                       0.128295\n",
       "-2                       0.131664\n",
       "-1                       0.170002\n",
       " 1                       0.336400\n",
       " 5                       0.434783\n",
       " 6                       0.545455\n",
       " 8                       0.588235\n",
       " 4                       0.682540\n",
       " 2                       0.694701\n",
       " 3                       0.773973\n",
       " 7                       0.777778"
      ]
     },
     "execution_count": 67,
     "metadata": {},
     "output_type": "execute_result"
    }
   ],
   "source": [
    "#What would be a good way to visualize default rates for different values of thePAY_1 feature? :groupby/mean\n",
    "groupby_pay_mean_y = clean_df.groupby('PAY_1').agg({'default_payment_next_month':np.mean})\n",
    "groupby_pay_mean_y.sort_values(by='default_payment_next_month')"
   ]
  },
  {
   "cell_type": "code",
   "execution_count": 68,
   "metadata": {},
   "outputs": [
    {
     "data": {
      "image/png": "[encoded data removed]",
      "text/plain": [
       "<Figure size 480x320 with 1 Axes>"
      ]
     },
     "metadata": {
      "needs_background": "light"
     },
     "output_type": "display_data"
    }
   ],
   "source": [
    "# In Matplotlib, every plot exists on an axes, and within a figure window. By creating objects for axes and figures, \n",
    "# you can directly access and change their properties,including axis labels, tick marks, and other things on the axes,\n",
    "# or the dimensions of the figure.\n",
    "\n",
    "# 1. Create an axes object in a variable also called axes, using the following code:\n",
    "axes = plt.axes()\n",
    "\n",
    "# 2. Plot the overall default rate as a red horizontal line. you just have to indicate the y-intercept of this line\n",
    "# with the axhline function.\n",
    "axes.axhline(overall_default_rate,color='red')\n",
    "\n",
    "# 3.over this line, we want to plot the default rate within each group of PAY_1 values.\n",
    "groupby_pay_mean_y.plot(marker='x', ax=axes,legend=False)\n",
    "axes.set_ylabel(\"Proportion of credit defaults\")\n",
    "axes.legend(['Entire dataset','Groups of PAY_1']);\n",
    "\n"
   ]
  },
  {
   "cell_type": "markdown",
   "metadata": {},
   "source": [
    "Our visualization of payment statuses has revealed a clear, and probably expected,\n",
    "story: those who defaulted before, are in fact more likely to default again. The\n",
    "default rate of accounts in good standing is well below the overall default rate,\n",
    "which we know from before is about 22%. However, at least 30% of the accounts\n",
    "that were in default last month will be in default again next month, according to\n",
    "this."
   ]
  },
  {
   "cell_type": "markdown",
   "metadata": {},
   "source": [
    "### analysing LIMIT_BAL"
   ]
  },
  {
   "cell_type": "code",
   "execution_count": 69,
   "metadata": {},
   "outputs": [],
   "source": [
    "pos_mask = y == 1\n",
    "neg_mask = y == 0"
   ]
  },
  {
   "cell_type": "code",
   "execution_count": 70,
   "metadata": {},
   "outputs": [],
   "source": [
    "clean_df['LIMIT_BAL'].max() # gives 800000\n",
    "bin_edges = list(range(0,800000,50000))"
   ]
  },
  {
   "cell_type": "code",
   "execution_count": 71,
   "metadata": {},
   "outputs": [
    {
     "data": {
      "image/png": "[encoded data removed]",
      "text/plain": [
       "<Figure size 480x320 with 1 Axes>"
      ]
     },
     "metadata": {
      "needs_background": "light"
     },
     "output_type": "display_data"
    }
   ],
   "source": [
    "\n",
    "\n",
    "axes = plt.axes()\n",
    "axes.hist(clean_df[pos_mask].LIMIT_BAL,alpha=0.5, color = 'blue',bins =bin_edges,density=True)\n",
    "axes.hist(clean_df[neg_mask].LIMIT_BAL, axes = axes,alpha=0.5,color='red',bins =bin_edges,density=True)\n",
    "axes.tick_params(axis='x',labelrotation=45 )\n",
    "axes.set_xlabel('Credit limit(NT$)')\n",
    "axes.set_ylabel('proportion of accounts')\n",
    "y_ticks = axes.get_yticks()\n",
    "axes.set_yticklabels(np.round(y_ticks*5000,2))\n",
    "axes.legend(['Not Defaulted','defaulted'])\n",
    "axes.set_title('Normalised histogram of Credit limit by response variable');\n"
   ]
  },
  {
   "cell_type": "markdown",
   "metadata": {},
   "source": [
    "the accounts that default tend to\n",
    "have a higher proportion of lower credit limits. Accounts with credit limits less than\n",
    "NT$150,000 are relatively more likely to default, while the opposite is true for accounts\n",
    "with limits higher than this."
   ]
  },
  {
   "cell_type": "markdown",
   "metadata": {},
   "source": [
    "Our\n",
    "hypothesis was that the client would give riskier accounts lower limits. This intuition is\n",
    "compatible with the higher proportions of defaulters with lower credit limits that we\n",
    "observed here."
   ]
  },
  {
   "cell_type": "markdown",
   "metadata": {},
   "source": [
    "### fitting Logistic regression model"
   ]
  },
  {
   "cell_type": "code",
   "execution_count": 72,
   "metadata": {},
   "outputs": [],
   "source": [
    "from sklearn.model_selection import train_test_split"
   ]
  },
  {
   "cell_type": "code",
   "execution_count": 73,
   "metadata": {},
   "outputs": [],
   "source": [
    "X_train, X_test,y_train, y_test = train_test_split(\n",
    "                                    clean_df[['PAY_1','LIMIT_BAL']].values, clean_df['default_payment_next_month'].values,\n",
    "                                    test_size=0.2 , random_state = 24)"
   ]
  },
  {
   "cell_type": "code",
   "execution_count": 74,
   "metadata": {},
   "outputs": [],
   "source": [
    "from sklearn.linear_model import LogisticRegression"
   ]
  },
  {
   "cell_type": "code",
   "execution_count": 75,
   "metadata": {},
   "outputs": [
    {
     "data": {
      "text/plain": [
       "LogisticRegression(C=1.0, class_weight=None, dual=False, fit_intercept=True,\n",
       "                   intercept_scaling=1, l1_ratio=None, max_iter=100,\n",
       "                   multi_class='auto', n_jobs=None, penalty='l2',\n",
       "                   random_state=None, solver='liblinear', tol=0.0001, verbose=0,\n",
       "                   warm_start=False)"
      ]
     },
     "execution_count": 75,
     "metadata": {},
     "output_type": "execute_result"
    }
   ],
   "source": [
    "lr_model = LogisticRegression(solver='liblinear')\n",
    "lr_model.fit(X_train, y_train)"
   ]
  },
  {
   "cell_type": "code",
   "execution_count": 76,
   "metadata": {},
   "outputs": [],
   "source": [
    "y_pred = lr_model.predict(X_test)"
   ]
  },
  {
   "cell_type": "code",
   "execution_count": 77,
   "metadata": {},
   "outputs": [
    {
     "data": {
      "text/plain": [
       "array([[0.74826924, 0.25173076],\n",
       "       [0.584297  , 0.415703  ],\n",
       "       [0.79604453, 0.20395547],\n",
       "       ...,\n",
       "       [0.584297  , 0.415703  ],\n",
       "       [0.82721498, 0.17278502],\n",
       "       [0.66393435, 0.33606565]])"
      ]
     },
     "execution_count": 77,
     "metadata": {},
     "output_type": "execute_result"
    }
   ],
   "source": [
    "y_pred_prob = lr_model.predict_proba(X_test)\n",
    "y_pred_prob\n",
    "#clean_df.shape"
   ]
  },
  {
   "cell_type": "code",
   "execution_count": 78,
   "metadata": {},
   "outputs": [
    {
     "name": "stdout",
     "output_type": "stream",
     "text": [
      "[[ 8.27451187e-11 -6.80876727e-06]] [-6.57647457e-11]\n"
     ]
    }
   ],
   "source": [
    "print(lr_model.coef_, lr_model.intercept_)"
   ]
  },
  {
   "cell_type": "code",
   "execution_count": 79,
   "metadata": {},
   "outputs": [
    {
     "data": {
      "text/plain": [
       "array([[ 1.0e+00,  2.0e+00,  1.6e+05],\n",
       "       [ 1.0e+00,  1.0e+00,  5.0e+04],\n",
       "       [ 1.0e+00, -1.0e+00,  2.0e+05],\n",
       "       ...,\n",
       "       [ 1.0e+00, -1.0e+00,  5.0e+04],\n",
       "       [ 1.0e+00,  1.0e+00,  2.3e+05],\n",
       "       [ 1.0e+00,  2.0e+00,  1.0e+05]])"
      ]
     },
     "execution_count": 79,
     "metadata": {},
     "output_type": "execute_result"
    }
   ],
   "source": [
    "ones_and_features = np.hstack([np.ones((X_test.shape[0],1)), X_test])\n",
    "ones_and_features"
   ]
  },
  {
   "cell_type": "code",
   "execution_count": 80,
   "metadata": {},
   "outputs": [],
   "source": [
    "intercepts_and_coeff = np.concatenate([lr_model.intercept_.reshape(1,1), lr_model.coef_], axis=1)"
   ]
  },
  {
   "cell_type": "code",
   "execution_count": 81,
   "metadata": {},
   "outputs": [],
   "source": [
    "X_lin_comb = np.dot(intercepts_and_coeff, ones_and_features.T )\n"
   ]
  },
  {
   "cell_type": "code",
   "execution_count": 82,
   "metadata": {},
   "outputs": [],
   "source": [
    "def sigmoid(X):\n",
    "    return (1/(1+np.exp(-X)))\n",
    "y_pred_proba_manual =  sigmoid(X_lin_comb)"
   ]
  },
  {
   "cell_type": "code",
   "execution_count": 83,
   "metadata": {},
   "outputs": [],
   "source": [
    "y_pred_manual = y_pred_proba_manual >= 0.5\n"
   ]
  },
  {
   "cell_type": "code",
   "execution_count": 84,
   "metadata": {},
   "outputs": [
    {
     "data": {
      "text/plain": [
       "(5333,)"
      ]
     },
     "execution_count": 84,
     "metadata": {},
     "output_type": "execute_result"
    }
   ],
   "source": [
    "y_pred.shape\n"
   ]
  },
  {
   "cell_type": "code",
   "execution_count": 85,
   "metadata": {},
   "outputs": [
    {
     "data": {
      "text/plain": [
       "(1, 5333)"
      ]
     },
     "execution_count": 85,
     "metadata": {},
     "output_type": "execute_result"
    }
   ],
   "source": [
    "y_pred_manual.shape\n"
   ]
  },
  {
   "cell_type": "code",
   "execution_count": 86,
   "metadata": {},
   "outputs": [
    {
     "data": {
      "text/plain": [
       "True"
      ]
     },
     "execution_count": 86,
     "metadata": {},
     "output_type": "execute_result"
    }
   ],
   "source": [
    "np.array_equal(y_pred.reshape(1,-1), y_pred_manual)\n"
   ]
  },
  {
   "cell_type": "markdown",
   "metadata": {},
   "source": [
    "### Plotting ROC curve and finding AUC "
   ]
  },
  {
   "cell_type": "code",
   "execution_count": 87,
   "metadata": {},
   "outputs": [],
   "source": [
    "from sklearn.metrics import roc_auc_score"
   ]
  },
  {
   "cell_type": "code",
   "execution_count": 88,
   "metadata": {},
   "outputs": [
    {
     "data": {
      "text/plain": [
       "0.627207450280691"
      ]
     },
     "execution_count": 88,
     "metadata": {},
     "output_type": "execute_result"
    }
   ],
   "source": [
    "roc_auc_score(y_test, y_pred_proba_manual.reshape(y_pred_proba_manual.shape[1]))\n"
   ]
  },
  {
   "cell_type": "code",
   "execution_count": 89,
   "metadata": {},
   "outputs": [
    {
     "data": {
      "text/plain": [
       "(5333,)"
      ]
     },
     "execution_count": 89,
     "metadata": {},
     "output_type": "execute_result"
    }
   ],
   "source": [
    "y_pred_prob[:,1].shape"
   ]
  },
  {
   "cell_type": "code",
   "execution_count": 90,
   "metadata": {},
   "outputs": [
    {
     "data": {
      "text/plain": [
       "0.627207450280691"
      ]
     },
     "execution_count": 90,
     "metadata": {},
     "output_type": "execute_result"
    }
   ],
   "source": [
    "roc_auc_score(y_test, y_pred_prob[:,1])"
   ]
  },
  {
   "cell_type": "code",
   "execution_count": 91,
   "metadata": {},
   "outputs": [
    {
     "data": {
      "text/plain": [
       "array([[0.25173076, 0.415703  , 0.20395547, ..., 0.415703  , 0.17278502,\n",
       "        0.33606565]])"
      ]
     },
     "execution_count": 91,
     "metadata": {},
     "output_type": "execute_result"
    }
   ],
   "source": [
    "y_pred_proba_manual"
   ]
  },
  {
   "cell_type": "code",
   "execution_count": 92,
   "metadata": {},
   "outputs": [],
   "source": [
    "from sklearn import metrics"
   ]
  },
  {
   "cell_type": "code",
   "execution_count": 93,
   "metadata": {},
   "outputs": [
    {
     "data": {
      "text/plain": [
       "array([[0.74826924, 0.25173076],\n",
       "       [0.584297  , 0.415703  ],\n",
       "       [0.79604453, 0.20395547],\n",
       "       ...,\n",
       "       [0.584297  , 0.415703  ],\n",
       "       [0.82721498, 0.17278502],\n",
       "       [0.66393435, 0.33606565]])"
      ]
     },
     "execution_count": 93,
     "metadata": {},
     "output_type": "execute_result"
    }
   ],
   "source": [
    "y_pred_prob"
   ]
  },
  {
   "cell_type": "code",
   "execution_count": 94,
   "metadata": {},
   "outputs": [],
   "source": [
    "fpr, tpr, thresholds = metrics.roc_curve(y_test, y_pred_prob[:,1] )"
   ]
  },
  {
   "cell_type": "code",
   "execution_count": 95,
   "metadata": {},
   "outputs": [
    {
     "data": {
      "image/png": "[encoded data removed]",
      "text/plain": [
       "<Figure size 1200x720 with 1 Axes>"
      ]
     },
     "metadata": {
      "needs_background": "light"
     },
     "output_type": "display_data"
    }
   ],
   "source": [
    "plt.figure(figsize=(15,9))\n",
    "plt.plot(fpr, tpr,'+-')\n",
    "plt.plot([0,1], [0,1],'r--')\n",
    "plt.legend(['Logistics Regression','Random chance'])\n",
    "plt.xlabel('FPR')\n",
    "plt.ylabel('TPR')\n",
    "plt.grid()\n",
    "plt.title('ROC curve');"
   ]
  },
  {
   "cell_type": "markdown",
   "metadata": {},
   "source": [
    "# Cross-Validation and Feature Engineering"
   ]
  },
  {
   "cell_type": "code",
   "execution_count": 96,
   "metadata": {},
   "outputs": [
    {
     "data": {
      "text/plain": [
       "['LIMIT_BAL',\n",
       " 'EDUCATION',\n",
       " 'MARRIAGE',\n",
       " 'AGE',\n",
       " 'PAY_1',\n",
       " 'BILL_AMT1',\n",
       " 'BILL_AMT2',\n",
       " 'BILL_AMT3',\n",
       " 'BILL_AMT4',\n",
       " 'BILL_AMT5',\n",
       " 'BILL_AMT6',\n",
       " 'PAY_AMT1',\n",
       " 'PAY_AMT2',\n",
       " 'PAY_AMT3',\n",
       " 'PAY_AMT4',\n",
       " 'PAY_AMT5',\n",
       " 'PAY_AMT6']"
      ]
     },
     "execution_count": 96,
     "metadata": {},
     "output_type": "execute_result"
    }
   ],
   "source": [
    "features = features_response[:-1]\n",
    "features\n"
   ]
  },
  {
   "cell_type": "code",
   "execution_count": 97,
   "metadata": {},
   "outputs": [
    {
     "name": "stdout",
     "output_type": "stream",
     "text": [
      "(26664, 17)\n"
     ]
    },
    {
     "data": {
      "text/plain": [
       "array([[ 20000,      2,      1, ...,      0,      0,      0],\n",
       "       [120000,      2,      2, ...,   1000,      0,   2000],\n",
       "       [ 90000,      2,      2, ...,   1000,   1000,   5000],\n",
       "       ...,\n",
       "       [ 30000,      2,      2, ...,   4200,   2000,   3100],\n",
       "       [ 80000,      3,      1, ...,   1926,  52964,   1804],\n",
       "       [ 50000,      2,      1, ...,   1000,   1000,   1000]], dtype=int64)"
      ]
     },
     "execution_count": 97,
     "metadata": {},
     "output_type": "execute_result"
    }
   ],
   "source": [
    "X =clean_df[features].values\n",
    "print(X.shape)\n",
    "X"
   ]
  },
  {
   "cell_type": "code",
   "execution_count": 98,
   "metadata": {},
   "outputs": [],
   "source": [
    "# train/ Test split\n",
    "X_train, X_test, y_train, y_test = train_test_split(X,clean_df['default_payment_next_month'].values,\n",
    "                                                    \n",
    "                                                   test_size=0.2, random_state=24)"
   ]
  },
  {
   "cell_type": "code",
   "execution_count": 99,
   "metadata": {},
   "outputs": [
    {
     "name": "stdout",
     "output_type": "stream",
     "text": [
      "(21331, 17)\n",
      "(5333, 17)\n"
     ]
    }
   ],
   "source": [
    "print(X_train.shape)\n",
    "print(X_test.shape)"
   ]
  },
  {
   "cell_type": "code",
   "execution_count": 100,
   "metadata": {},
   "outputs": [],
   "source": [
    "# inoder to use saga solver in logistic regression we need min max solver\n",
    "\n",
    "from sklearn.preprocessing import MinMaxScaler\n"
   ]
  },
  {
   "cell_type": "code",
   "execution_count": 101,
   "metadata": {},
   "outputs": [],
   "source": [
    "min_max_sc = MinMaxScaler()"
   ]
  },
  {
   "cell_type": "code",
   "execution_count": 102,
   "metadata": {},
   "outputs": [],
   "source": [
    "lr = LogisticRegression(solver='saga', penalty='l1', max_iter=1000)"
   ]
  },
  {
   "cell_type": "code",
   "execution_count": 103,
   "metadata": {},
   "outputs": [
    {
     "data": {
      "text/plain": [
       "LogisticRegression(C=1.0, class_weight=None, dual=False, fit_intercept=True,\n",
       "                   intercept_scaling=1, l1_ratio=None, max_iter=1000,\n",
       "                   multi_class='auto', n_jobs=None, penalty='l1',\n",
       "                   random_state=None, solver='saga', tol=0.0001, verbose=0,\n",
       "                   warm_start=False)"
      ]
     },
     "execution_count": 103,
     "metadata": {},
     "output_type": "execute_result"
    }
   ],
   "source": [
    "lr"
   ]
  },
  {
   "cell_type": "code",
   "execution_count": 104,
   "metadata": {},
   "outputs": [],
   "source": [
    "from sklearn.pipeline import Pipeline"
   ]
  },
  {
   "cell_type": "code",
   "execution_count": 105,
   "metadata": {},
   "outputs": [],
   "source": [
    "scale_lr_pipeline = Pipeline(steps = [('scaler', min_max_sc), ('model', lr)])"
   ]
  },
  {
   "cell_type": "code",
   "execution_count": 106,
   "metadata": {},
   "outputs": [
    {
     "data": {
      "text/plain": [
       "{'memory': None,\n",
       " 'steps': [('scaler', MinMaxScaler(copy=True, feature_range=(0, 1))),\n",
       "  ('model',\n",
       "   LogisticRegression(C=1.0, class_weight=None, dual=False, fit_intercept=True,\n",
       "                      intercept_scaling=1, l1_ratio=None, max_iter=1000,\n",
       "                      multi_class='auto', n_jobs=None, penalty='l1',\n",
       "                      random_state=None, solver='saga', tol=0.0001, verbose=0,\n",
       "                      warm_start=False))],\n",
       " 'verbose': False,\n",
       " 'scaler': MinMaxScaler(copy=True, feature_range=(0, 1)),\n",
       " 'model': LogisticRegression(C=1.0, class_weight=None, dual=False, fit_intercept=True,\n",
       "                    intercept_scaling=1, l1_ratio=None, max_iter=1000,\n",
       "                    multi_class='auto', n_jobs=None, penalty='l1',\n",
       "                    random_state=None, solver='saga', tol=0.0001, verbose=0,\n",
       "                    warm_start=False),\n",
       " 'scaler__copy': True,\n",
       " 'scaler__feature_range': (0, 1),\n",
       " 'model__C': 1.0,\n",
       " 'model__class_weight': None,\n",
       " 'model__dual': False,\n",
       " 'model__fit_intercept': True,\n",
       " 'model__intercept_scaling': 1,\n",
       " 'model__l1_ratio': None,\n",
       " 'model__max_iter': 1000,\n",
       " 'model__multi_class': 'auto',\n",
       " 'model__n_jobs': None,\n",
       " 'model__penalty': 'l1',\n",
       " 'model__random_state': None,\n",
       " 'model__solver': 'saga',\n",
       " 'model__tol': 0.0001,\n",
       " 'model__verbose': 0,\n",
       " 'model__warm_start': False}"
      ]
     },
     "execution_count": 106,
     "metadata": {},
     "output_type": "execute_result"
    }
   ],
   "source": [
    "scale_lr_pipeline.get_params()"
   ]
  },
  {
   "cell_type": "code",
   "execution_count": 107,
   "metadata": {},
   "outputs": [
    {
     "data": {
      "text/plain": [
       "1.0"
      ]
     },
     "execution_count": 107,
     "metadata": {},
     "output_type": "execute_result"
    }
   ],
   "source": [
    "scale_lr_pipeline.get_params()['model__C']  #you can access the parameters of steps of a pipeline by using '__’"
   ]
  },
  {
   "cell_type": "code",
   "execution_count": 108,
   "metadata": {},
   "outputs": [
    {
     "data": {
      "text/plain": [
       "Pipeline(memory=None,\n",
       "         steps=[('scaler', MinMaxScaler(copy=True, feature_range=(0, 1))),\n",
       "                ('model',\n",
       "                 LogisticRegression(C=2, class_weight=None, dual=False,\n",
       "                                    fit_intercept=True, intercept_scaling=1,\n",
       "                                    l1_ratio=None, max_iter=1000,\n",
       "                                    multi_class='auto', n_jobs=None,\n",
       "                                    penalty='l1', random_state=None,\n",
       "                                    solver='saga', tol=0.0001, verbose=0,\n",
       "                                    warm_start=False))],\n",
       "         verbose=False)"
      ]
     },
     "execution_count": 108,
     "metadata": {},
     "output_type": "execute_result"
    }
   ],
   "source": [
    "scale_lr_pipeline.set_params(model__C=2)# example of how u can set C value for logistic regression in a pipeline"
   ]
  },
  {
   "cell_type": "code",
   "execution_count": 109,
   "metadata": {},
   "outputs": [
    {
     "data": {
      "text/plain": [
       "array([ 2.,  1.,  0., -1., -2., -3.])"
      ]
     },
     "execution_count": 109,
     "metadata": {},
     "output_type": "execute_result"
    }
   ],
   "source": [
    "C_val_exponents = np.linspace(2,-3, 6)\n",
    "C_val_exponents"
   ]
  },
  {
   "cell_type": "code",
   "execution_count": 110,
   "metadata": {},
   "outputs": [
    {
     "data": {
      "text/plain": [
       "array([1.e+02, 1.e+01, 1.e+00, 1.e-01, 1.e-02, 1.e-03])"
      ]
     },
     "execution_count": 110,
     "metadata": {},
     "output_type": "execute_result"
    }
   ],
   "source": [
    "C_vals = np.float(10)**C_val_exponents\n",
    "C_vals"
   ]
  },
  {
   "cell_type": "code",
   "execution_count": 111,
   "metadata": {},
   "outputs": [],
   "source": [
    "def cross_val_C_search_pipe(k_folds, C_vals, pipeline, X,Y):\n",
    "    n_folds = k_folds.n_splits\n",
    "    cv_train_roc_auc = np.empty((n_folds, len(C_vals)))\n",
    "    cv_test_roc_auc = np.empty((n_folds, len(C_vals)))\n",
    "    cv_test_roc = [[]]*len(C_vals)\n",
    "    pipeline.set_params(model__max_iter = 10000)\n",
    "    \n",
    "    for c_val_counter in range(len(C_vals)):\n",
    "        #Set the C value for the model object\n",
    "        pipeline.set_params(model__C = C_vals[c_val_counter])\n",
    "        #Count folds for each value of C\n",
    "        fold_counter = 0\n",
    "        #Get training and testing indices for each fold\n",
    "        for train_index, test_index in k_folds.split(X, Y):\n",
    "            #Subset the features and response, for training and testing data for\n",
    "            #this fold\n",
    "            X_cv_train, X_cv_test = X[train_index], X[test_index]\n",
    "            y_cv_train, y_cv_test = Y[train_index], Y[test_index]\n",
    "\n",
    "            #Fit the model on the training data\n",
    "            pipeline.fit(X_cv_train, y_cv_train)\n",
    "\n",
    "            #Get the training ROC AUC\n",
    "            y_cv_train_predict_proba = pipeline.predict_proba(X_cv_train)\n",
    "            cv_train_roc_auc[fold_counter, c_val_counter] = roc_auc_score(y_cv_train, y_cv_train_predict_proba[:,1])\n",
    "\n",
    "            #Get the testing ROC AUC\n",
    "            y_cv_test_predict_proba = pipeline.predict_proba(X_cv_test)\n",
    "            cv_test_roc_auc[fold_counter, c_val_counter] = \\\n",
    "            roc_auc_score(y_cv_test, y_cv_test_predict_proba[:,1])\n",
    "\n",
    "            #Testing ROC curves for each fold\n",
    "            this_fold_roc = roc_curve(y_cv_test, y_cv_test_predict_proba[:,1])\n",
    "            cv_test_roc[c_val_counter].append(this_fold_roc)\n",
    "\n",
    "            #Increment the fold counter\n",
    "            fold_counter += 1\n",
    "\n",
    "        #Indicate progress\n",
    "        print('Done with C = {}'.format(pipeline.get_params()['model__C']))\n",
    "\n",
    "    return cv_train_roc_auc, cv_test_roc_auc, cv_test_roc"
   ]
  },
  {
   "cell_type": "code",
   "execution_count": 112,
   "metadata": {},
   "outputs": [
    {
     "name": "stdout",
     "output_type": "stream",
     "text": [
      "Done with C = 100.0\n",
      "Done with C = 10.0\n",
      "Done with C = 1.0\n",
      "Done with C = 0.1\n",
      "Done with C = 0.01\n",
      "Done with C = 0.001\n"
     ]
    }
   ],
   "source": [
    "from sklearn.model_selection import KFold\n",
    "from sklearn.metrics import roc_auc_score\n",
    "from sklearn.metrics import roc_curve\n",
    "\n",
    "n_folds = 4\n",
    "k_folds = KFold(n_splits=n_folds, shuffle=False)\n",
    "cv_train_roc_auc, cv_test_roc_auc, cv_test_roc = cross_val_C_search_pipe(k_folds, C_vals, scale_lr_pipeline, X_train,y_train)"
   ]
  },
  {
   "cell_type": "code",
   "execution_count": 113,
   "metadata": {},
   "outputs": [
    {
     "data": {
      "text/plain": [
       "Text(0.5, 1.0, 'Cross validation')"
      ]
     },
     "execution_count": 113,
     "metadata": {},
     "output_type": "execute_result"
    },
    {
     "data": {
      "image/png": "[encoded data removed]",
      "text/plain": [
       "<Figure size 480x320 with 1 Axes>"
      ]
     },
     "metadata": {
      "needs_background": "light"
     },
     "output_type": "display_data"
    }
   ],
   "source": [
    "plt.plot(C_val_exponents, np.mean(cv_train_roc_auc, axis=0),\n",
    "         '-0', label=\"Average training score\")\n",
    "plt.plot(C_val_exponents, np.mean(cv_test_roc_auc, axis=0), '-x',\n",
    "        label='Average testing score')\n",
    "plt.ylabel('ROC AUC')\n",
    "plt.xlabel('log$_{10}$(C)')\n",
    "plt.legend()\n",
    "plt.title('Cross validation')"
   ]
  },
  {
   "cell_type": "code",
   "execution_count": 114,
   "metadata": {},
   "outputs": [
    {
     "data": {
      "text/plain": [
       "array([0.71816275, 0.71800631, 0.71662881, 0.71506363, 0.71661792,\n",
       "       0.5       ])"
      ]
     },
     "execution_count": 114,
     "metadata": {},
     "output_type": "execute_result"
    }
   ],
   "source": [
    "np.mean(cv_test_roc_auc, axis=0)"
   ]
  },
  {
   "cell_type": "markdown",
   "metadata": {},
   "source": [
    "notice that regularization does not impart much benefit here, as\n",
    "may be expected. While we are able to increase model performance over our\n",
    "previous efforts by using all the features available, it appears there is no overfitting\n",
    "going on. Instead, the training and testing scores are about the same. Instead of\n",
    "overfitting, it's possible that we may be underfitting. Let's try engineering some\n",
    "interaction features to see if they can improve performance"
   ]
  },
  {
   "cell_type": "markdown",
   "metadata": {},
   "source": [
    "sometimes we may underfit the model using only the 17 features that came\n",
    "with the data. One strategy to deal with this is to engineer new features. Some simple\n",
    "feature engineering that we've discussed is to use interaction, or polynomial features.\n",
    "Polynomials may not make sense given the way that some of the data has been\n",
    "encoded; for example, -12 = 1, which may not be sensible for PAY_1. However, we may\n",
    "wish to try creating interaction features to capture the relationships between features.\n",
    "PolynomialFeatures can be used to create interaction features only, without polynomial\n",
    "features."
   ]
  },
  {
   "cell_type": "markdown",
   "metadata": {},
   "source": [
    "# using Polynomial features to create new interaction features"
   ]
  },
  {
   "cell_type": "code",
   "execution_count": 115,
   "metadata": {},
   "outputs": [],
   "source": [
    "from sklearn.preprocessing import PolynomialFeatures"
   ]
  },
  {
   "cell_type": "code",
   "execution_count": 116,
   "metadata": {},
   "outputs": [],
   "source": [
    "\n",
    "# interaction_only takes a Boolean value (setting it to True implies that only interaction features are created), and\n",
    "# so does inlcude_bias, which adds an intercept to the model (the default value is False,\n",
    "# which is correct here as the logistic regression model will add an intercept).\n",
    "\n",
    "make_interactions = PolynomialFeatures(degree=2, interaction_only=True, include_bias=True)\n",
    "X_interactions = make_interactions.fit_transform(X)\n"
   ]
  },
  {
   "cell_type": "code",
   "execution_count": 117,
   "metadata": {},
   "outputs": [
    {
     "data": {
      "text/plain": [
       "(26664, 154)"
      ]
     },
     "execution_count": 117,
     "metadata": {},
     "output_type": "execute_result"
    }
   ],
   "source": [
    "X_interactions.shape"
   ]
  },
  {
   "cell_type": "code",
   "execution_count": 118,
   "metadata": {},
   "outputs": [],
   "source": [
    "X_train, X_test, y_train, y_test = train_test_split( X_interactions, \n",
    "                                                    clean_df['default_payment_next_month'].values,\n",
    "                                                    test_size=0.2, random_state=24)\n"
   ]
  },
  {
   "cell_type": "code",
   "execution_count": 119,
   "metadata": {},
   "outputs": [
    {
     "name": "stdout",
     "output_type": "stream",
     "text": [
      "(21331, 154)\n",
      "(5333, 154)\n"
     ]
    }
   ],
   "source": [
    "\n",
    "print(X_train.shape)\n",
    "print(X_test.shape)"
   ]
  },
  {
   "cell_type": "code",
   "execution_count": 120,
   "metadata": {},
   "outputs": [
    {
     "name": "stdout",
     "output_type": "stream",
     "text": [
      "Done with C = 100.0\n",
      "Done with C = 10.0\n",
      "Done with C = 1.0\n",
      "Done with C = 0.1\n",
      "Done with C = 0.01\n",
      "Done with C = 0.001\n"
     ]
    }
   ],
   "source": [
    "cv_train_roc_auc, cv_test_roc_auc, cv_test_roc = \\\n",
    "cross_val_C_search_pipe(k_folds, C_vals, scale_lr_pipeline, X_train, y_train)"
   ]
  },
  {
   "cell_type": "code",
   "execution_count": 121,
   "metadata": {},
   "outputs": [
    {
     "data": {
      "text/plain": [
       "Text(0.5, 1.0, 'Cross validation on Case Study problem')"
      ]
     },
     "execution_count": 121,
     "metadata": {},
     "output_type": "execute_result"
    },
    {
     "data": {
      "image/png": "[encoded data removed]",
      "text/plain": [
       "<Figure size 480x320 with 1 Axes>"
      ]
     },
     "metadata": {
      "needs_background": "light"
     },
     "output_type": "display_data"
    }
   ],
   "source": [
    "\n",
    "plt.plot(C_val_exponents, np.mean(cv_train_roc_auc, axis=0), '-o',\n",
    "        label='Average training score')\n",
    "plt.plot(C_val_exponents, np.mean(cv_test_roc_auc, axis=0), '-x',\n",
    "        label='Average testing score')\n",
    "plt.ylabel('ROC AUC')\n",
    "plt.xlabel('log$_{10}$(C)')\n",
    "plt.legend()\n",
    "plt.title('Cross validation on Case Study problem')"
   ]
  },
  {
   "cell_type": "markdown",
   "metadata": {},
   "source": [
    "Engineering the interaction features increases the best model testing score to about\n",
    "ROC AUC = 0.74 on average across the folds, from about 0.72 without including\n",
    "interactions. These scores happen at C = 100  (log10(C)=2), that is, with negligible regularization. On\n",
    "the plot of training versus testing scores for the model with interactions, you can see\n",
    "that the training score is a bit higher than the testing score, so it could be said that\n",
    "some amount of overfitting is going on. However, we cannot increase the testing score\n",
    "through regularization here, so this may not be a problematic instance of overfitting. In\n",
    "most cases, whatever strategy yields the highest testing score is the best strategy."
   ]
  },
  {
   "cell_type": "markdown",
   "metadata": {},
   "source": [
    "# Using Decision Tree algorithm"
   ]
  },
  {
   "cell_type": "code",
   "execution_count": 122,
   "metadata": {},
   "outputs": [],
   "source": [
    "from sklearn.model_selection import train_test_split\n",
    "from sklearn import tree\n",
    "import matplotlib as mpl #add'l plotting functionality\n",
    "#mpl.rcParams['figure.dpi'] = 400 #high res figures\n",
    "import graphviz #to visualize decision trees"
   ]
  },
  {
   "cell_type": "code",
   "execution_count": 123,
   "metadata": {},
   "outputs": [],
   "source": [
    "X_train, X_test, y_train, y_test = train_test_split(clean_df[features_response[:-1]].values,\n",
    "                                                    clean_df['default_payment_next_month'].values,\n",
    "                                                    test_size=0.2, random_state=24)"
   ]
  },
  {
   "cell_type": "code",
   "execution_count": 124,
   "metadata": {},
   "outputs": [
    {
     "data": {
      "text/plain": [
       "DecisionTreeClassifier(ccp_alpha=0.0, class_weight=None, criterion='gini',\n",
       "                       max_depth=2, max_features=None, max_leaf_nodes=None,\n",
       "                       min_impurity_decrease=0.0, min_impurity_split=None,\n",
       "                       min_samples_leaf=1, min_samples_split=2,\n",
       "                       min_weight_fraction_leaf=0.0, presort='deprecated',\n",
       "                       random_state=None, splitter='best')"
      ]
     },
     "execution_count": 124,
     "metadata": {},
     "output_type": "execute_result"
    }
   ],
   "source": [
    "dt = tree.DecisionTreeClassifier(max_depth = 2)\n",
    "dt"
   ]
  },
  {
   "cell_type": "code",
   "execution_count": 125,
   "metadata": {},
   "outputs": [
    {
     "data": {
      "text/plain": [
       "DecisionTreeClassifier(ccp_alpha=0.0, class_weight=None, criterion='gini',\n",
       "                       max_depth=2, max_features=None, max_leaf_nodes=None,\n",
       "                       min_impurity_decrease=0.0, min_impurity_split=None,\n",
       "                       min_samples_leaf=1, min_samples_split=2,\n",
       "                       min_weight_fraction_leaf=0.0, presort='deprecated',\n",
       "                       random_state=None, splitter='best')"
      ]
     },
     "execution_count": 125,
     "metadata": {},
     "output_type": "execute_result"
    }
   ],
   "source": [
    "dt.fit(X_train, y_train)"
   ]
  },
  {
   "cell_type": "code",
   "execution_count": 126,
   "metadata": {},
   "outputs": [],
   "source": [
    "dot_data = tree.export_graphviz(dt, out_file=None, filled=True, rounded=True,\n",
    "                                feature_names=features_response[:-1], proportion=True,\n",
    "                               class_names=['Not defaulted', 'Defaulted'])\n",
    "\n",
    "\n"
   ]
  },
  {
   "cell_type": "markdown",
   "metadata": {},
   "source": [
    "***description of .export method***:\n",
    "we need to say which trained model we'd like to graph, which we've got in the\n",
    "dt object. Next, we say we don't want an output file: out_file=None. Instead, we\n",
    "provide the dot_data variable to hold the output of this method. The rest of the\n",
    "options are used as follows:\n",
    "1. filled=True: Each node will be filled with a color.\n",
    "2. rounded=True: The nodes will appear with rounded edges as opposed to rectangles.\n",
    "3. feature_names=features_response[:-1]: The names of the features from our list will be used as opposed to generic names such as X[0]\n",
    "4. proportion=True: The proportion of samples in each node will be displayed \n",
    "5. class_names=['Not defaulted', 'Defaulted']: The name of the predicted class will be displayed for each node.\n",
    "  \n",
    "  \n",
    "***What is the output of this method?***\n",
    "If you examine the contents of dot_data, you will see that it is a long text string.\n",
    "The graphviz package can interpret this text string to create a visualization."
   ]
  },
  {
   "cell_type": "code",
   "execution_count": 127,
   "metadata": {},
   "outputs": [
    {
     "ename": "ExecutableNotFound",
     "evalue": "failed to execute ['dot', '-Tsvg'], make sure the Graphviz executables are on your systems' PATH",
     "output_type": "error",
     "traceback": [
      "\u001b[1;31m---------------------------------------------------------------------------\u001b[0m",
      "\u001b[1;31mFileNotFoundError\u001b[0m                         Traceback (most recent call last)",
      "\u001b[1;32m~\\Anaconda3\\lib\\site-packages\\graphviz\\backend.py\u001b[0m in \u001b[0;36mrun\u001b[1;34m(cmd, input, capture_output, check, encoding, quiet, **kwargs)\u001b[0m\n\u001b[0;32m    163\u001b[0m     \u001b[1;32mtry\u001b[0m\u001b[1;33m:\u001b[0m\u001b[1;33m\u001b[0m\u001b[1;33m\u001b[0m\u001b[0m\n\u001b[1;32m--> 164\u001b[1;33m         \u001b[0mproc\u001b[0m \u001b[1;33m=\u001b[0m \u001b[0msubprocess\u001b[0m\u001b[1;33m.\u001b[0m\u001b[0mPopen\u001b[0m\u001b[1;33m(\u001b[0m\u001b[0mcmd\u001b[0m\u001b[1;33m,\u001b[0m \u001b[0mstartupinfo\u001b[0m\u001b[1;33m=\u001b[0m\u001b[0mget_startupinfo\u001b[0m\u001b[1;33m(\u001b[0m\u001b[1;33m)\u001b[0m\u001b[1;33m,\u001b[0m \u001b[1;33m**\u001b[0m\u001b[0mkwargs\u001b[0m\u001b[1;33m)\u001b[0m\u001b[1;33m\u001b[0m\u001b[1;33m\u001b[0m\u001b[0m\n\u001b[0m\u001b[0;32m    165\u001b[0m     \u001b[1;32mexcept\u001b[0m \u001b[0mOSError\u001b[0m \u001b[1;32mas\u001b[0m \u001b[0me\u001b[0m\u001b[1;33m:\u001b[0m\u001b[1;33m\u001b[0m\u001b[1;33m\u001b[0m\u001b[0m\n",
      "\u001b[1;32m~\\Anaconda3\\lib\\subprocess.py\u001b[0m in \u001b[0;36m__init__\u001b[1;34m(self, args, bufsize, executable, stdin, stdout, stderr, preexec_fn, close_fds, shell, cwd, env, universal_newlines, startupinfo, creationflags, restore_signals, start_new_session, pass_fds, encoding, errors, text)\u001b[0m\n\u001b[0;32m    799\u001b[0m                                 \u001b[0merrread\u001b[0m\u001b[1;33m,\u001b[0m \u001b[0merrwrite\u001b[0m\u001b[1;33m,\u001b[0m\u001b[1;33m\u001b[0m\u001b[1;33m\u001b[0m\u001b[0m\n\u001b[1;32m--> 800\u001b[1;33m                                 restore_signals, start_new_session)\n\u001b[0m\u001b[0;32m    801\u001b[0m         \u001b[1;32mexcept\u001b[0m\u001b[1;33m:\u001b[0m\u001b[1;33m\u001b[0m\u001b[1;33m\u001b[0m\u001b[0m\n",
      "\u001b[1;32m~\\Anaconda3\\lib\\subprocess.py\u001b[0m in \u001b[0;36m_execute_child\u001b[1;34m(self, args, executable, preexec_fn, close_fds, pass_fds, cwd, env, startupinfo, creationflags, shell, p2cread, p2cwrite, c2pread, c2pwrite, errread, errwrite, unused_restore_signals, unused_start_new_session)\u001b[0m\n\u001b[0;32m   1206\u001b[0m                                          \u001b[0mos\u001b[0m\u001b[1;33m.\u001b[0m\u001b[0mfspath\u001b[0m\u001b[1;33m(\u001b[0m\u001b[0mcwd\u001b[0m\u001b[1;33m)\u001b[0m \u001b[1;32mif\u001b[0m \u001b[0mcwd\u001b[0m \u001b[1;32mis\u001b[0m \u001b[1;32mnot\u001b[0m \u001b[1;32mNone\u001b[0m \u001b[1;32melse\u001b[0m \u001b[1;32mNone\u001b[0m\u001b[1;33m,\u001b[0m\u001b[1;33m\u001b[0m\u001b[1;33m\u001b[0m\u001b[0m\n\u001b[1;32m-> 1207\u001b[1;33m                                          startupinfo)\n\u001b[0m\u001b[0;32m   1208\u001b[0m             \u001b[1;32mfinally\u001b[0m\u001b[1;33m:\u001b[0m\u001b[1;33m\u001b[0m\u001b[1;33m\u001b[0m\u001b[0m\n",
      "\u001b[1;31mFileNotFoundError\u001b[0m: [WinError 2] The system cannot find the file specified",
      "\nDuring handling of the above exception, another exception occurred:\n",
      "\u001b[1;31mExecutableNotFound\u001b[0m                        Traceback (most recent call last)",
      "\u001b[1;32m~\\Anaconda3\\lib\\site-packages\\IPython\\core\\formatters.py\u001b[0m in \u001b[0;36m__call__\u001b[1;34m(self, obj)\u001b[0m\n\u001b[0;32m    343\u001b[0m             \u001b[0mmethod\u001b[0m \u001b[1;33m=\u001b[0m \u001b[0mget_real_method\u001b[0m\u001b[1;33m(\u001b[0m\u001b[0mobj\u001b[0m\u001b[1;33m,\u001b[0m \u001b[0mself\u001b[0m\u001b[1;33m.\u001b[0m\u001b[0mprint_method\u001b[0m\u001b[1;33m)\u001b[0m\u001b[1;33m\u001b[0m\u001b[1;33m\u001b[0m\u001b[0m\n\u001b[0;32m    344\u001b[0m             \u001b[1;32mif\u001b[0m \u001b[0mmethod\u001b[0m \u001b[1;32mis\u001b[0m \u001b[1;32mnot\u001b[0m \u001b[1;32mNone\u001b[0m\u001b[1;33m:\u001b[0m\u001b[1;33m\u001b[0m\u001b[1;33m\u001b[0m\u001b[0m\n\u001b[1;32m--> 345\u001b[1;33m                 \u001b[1;32mreturn\u001b[0m \u001b[0mmethod\u001b[0m\u001b[1;33m(\u001b[0m\u001b[1;33m)\u001b[0m\u001b[1;33m\u001b[0m\u001b[1;33m\u001b[0m\u001b[0m\n\u001b[0m\u001b[0;32m    346\u001b[0m             \u001b[1;32mreturn\u001b[0m \u001b[1;32mNone\u001b[0m\u001b[1;33m\u001b[0m\u001b[1;33m\u001b[0m\u001b[0m\n\u001b[0;32m    347\u001b[0m         \u001b[1;32melse\u001b[0m\u001b[1;33m:\u001b[0m\u001b[1;33m\u001b[0m\u001b[1;33m\u001b[0m\u001b[0m\n",
      "\u001b[1;32m~\\Anaconda3\\lib\\site-packages\\graphviz\\files.py\u001b[0m in \u001b[0;36m_repr_svg_\u001b[1;34m(self)\u001b[0m\n\u001b[0;32m    111\u001b[0m \u001b[1;33m\u001b[0m\u001b[0m\n\u001b[0;32m    112\u001b[0m     \u001b[1;32mdef\u001b[0m \u001b[0m_repr_svg_\u001b[0m\u001b[1;33m(\u001b[0m\u001b[0mself\u001b[0m\u001b[1;33m)\u001b[0m\u001b[1;33m:\u001b[0m\u001b[1;33m\u001b[0m\u001b[1;33m\u001b[0m\u001b[0m\n\u001b[1;32m--> 113\u001b[1;33m         \u001b[1;32mreturn\u001b[0m \u001b[0mself\u001b[0m\u001b[1;33m.\u001b[0m\u001b[0mpipe\u001b[0m\u001b[1;33m(\u001b[0m\u001b[0mformat\u001b[0m\u001b[1;33m=\u001b[0m\u001b[1;34m'svg'\u001b[0m\u001b[1;33m)\u001b[0m\u001b[1;33m.\u001b[0m\u001b[0mdecode\u001b[0m\u001b[1;33m(\u001b[0m\u001b[0mself\u001b[0m\u001b[1;33m.\u001b[0m\u001b[0m_encoding\u001b[0m\u001b[1;33m)\u001b[0m\u001b[1;33m\u001b[0m\u001b[1;33m\u001b[0m\u001b[0m\n\u001b[0m\u001b[0;32m    114\u001b[0m \u001b[1;33m\u001b[0m\u001b[0m\n\u001b[0;32m    115\u001b[0m     \u001b[1;32mdef\u001b[0m \u001b[0mpipe\u001b[0m\u001b[1;33m(\u001b[0m\u001b[0mself\u001b[0m\u001b[1;33m,\u001b[0m \u001b[0mformat\u001b[0m\u001b[1;33m=\u001b[0m\u001b[1;32mNone\u001b[0m\u001b[1;33m,\u001b[0m \u001b[0mrenderer\u001b[0m\u001b[1;33m=\u001b[0m\u001b[1;32mNone\u001b[0m\u001b[1;33m,\u001b[0m \u001b[0mformatter\u001b[0m\u001b[1;33m=\u001b[0m\u001b[1;32mNone\u001b[0m\u001b[1;33m,\u001b[0m \u001b[0mquiet\u001b[0m\u001b[1;33m=\u001b[0m\u001b[1;32mFalse\u001b[0m\u001b[1;33m)\u001b[0m\u001b[1;33m:\u001b[0m\u001b[1;33m\u001b[0m\u001b[1;33m\u001b[0m\u001b[0m\n",
      "\u001b[1;32m~\\Anaconda3\\lib\\site-packages\\graphviz\\files.py\u001b[0m in \u001b[0;36mpipe\u001b[1;34m(self, format, renderer, formatter, quiet)\u001b[0m\n\u001b[0;32m    136\u001b[0m         out = backend.pipe(self._engine, format, data,\n\u001b[0;32m    137\u001b[0m                            \u001b[0mrenderer\u001b[0m\u001b[1;33m=\u001b[0m\u001b[0mrenderer\u001b[0m\u001b[1;33m,\u001b[0m \u001b[0mformatter\u001b[0m\u001b[1;33m=\u001b[0m\u001b[0mformatter\u001b[0m\u001b[1;33m,\u001b[0m\u001b[1;33m\u001b[0m\u001b[1;33m\u001b[0m\u001b[0m\n\u001b[1;32m--> 138\u001b[1;33m                            quiet=quiet)\n\u001b[0m\u001b[0;32m    139\u001b[0m \u001b[1;33m\u001b[0m\u001b[0m\n\u001b[0;32m    140\u001b[0m         \u001b[1;32mreturn\u001b[0m \u001b[0mout\u001b[0m\u001b[1;33m\u001b[0m\u001b[1;33m\u001b[0m\u001b[0m\n",
      "\u001b[1;32m~\\Anaconda3\\lib\\site-packages\\graphviz\\backend.py\u001b[0m in \u001b[0;36mpipe\u001b[1;34m(engine, format, data, renderer, formatter, quiet)\u001b[0m\n\u001b[0;32m    242\u001b[0m     \"\"\"\n\u001b[0;32m    243\u001b[0m     \u001b[0mcmd\u001b[0m\u001b[1;33m,\u001b[0m \u001b[0m_\u001b[0m \u001b[1;33m=\u001b[0m \u001b[0mcommand\u001b[0m\u001b[1;33m(\u001b[0m\u001b[0mengine\u001b[0m\u001b[1;33m,\u001b[0m \u001b[0mformat\u001b[0m\u001b[1;33m,\u001b[0m \u001b[1;32mNone\u001b[0m\u001b[1;33m,\u001b[0m \u001b[0mrenderer\u001b[0m\u001b[1;33m,\u001b[0m \u001b[0mformatter\u001b[0m\u001b[1;33m)\u001b[0m\u001b[1;33m\u001b[0m\u001b[1;33m\u001b[0m\u001b[0m\n\u001b[1;32m--> 244\u001b[1;33m     \u001b[0mout\u001b[0m\u001b[1;33m,\u001b[0m \u001b[0m_\u001b[0m \u001b[1;33m=\u001b[0m \u001b[0mrun\u001b[0m\u001b[1;33m(\u001b[0m\u001b[0mcmd\u001b[0m\u001b[1;33m,\u001b[0m \u001b[0minput\u001b[0m\u001b[1;33m=\u001b[0m\u001b[0mdata\u001b[0m\u001b[1;33m,\u001b[0m \u001b[0mcapture_output\u001b[0m\u001b[1;33m=\u001b[0m\u001b[1;32mTrue\u001b[0m\u001b[1;33m,\u001b[0m \u001b[0mcheck\u001b[0m\u001b[1;33m=\u001b[0m\u001b[1;32mTrue\u001b[0m\u001b[1;33m,\u001b[0m \u001b[0mquiet\u001b[0m\u001b[1;33m=\u001b[0m\u001b[0mquiet\u001b[0m\u001b[1;33m)\u001b[0m\u001b[1;33m\u001b[0m\u001b[1;33m\u001b[0m\u001b[0m\n\u001b[0m\u001b[0;32m    245\u001b[0m     \u001b[1;32mreturn\u001b[0m \u001b[0mout\u001b[0m\u001b[1;33m\u001b[0m\u001b[1;33m\u001b[0m\u001b[0m\n\u001b[0;32m    246\u001b[0m \u001b[1;33m\u001b[0m\u001b[0m\n",
      "\u001b[1;32m~\\Anaconda3\\lib\\site-packages\\graphviz\\backend.py\u001b[0m in \u001b[0;36mrun\u001b[1;34m(cmd, input, capture_output, check, encoding, quiet, **kwargs)\u001b[0m\n\u001b[0;32m    165\u001b[0m     \u001b[1;32mexcept\u001b[0m \u001b[0mOSError\u001b[0m \u001b[1;32mas\u001b[0m \u001b[0me\u001b[0m\u001b[1;33m:\u001b[0m\u001b[1;33m\u001b[0m\u001b[1;33m\u001b[0m\u001b[0m\n\u001b[0;32m    166\u001b[0m         \u001b[1;32mif\u001b[0m \u001b[0me\u001b[0m\u001b[1;33m.\u001b[0m\u001b[0merrno\u001b[0m \u001b[1;33m==\u001b[0m \u001b[0merrno\u001b[0m\u001b[1;33m.\u001b[0m\u001b[0mENOENT\u001b[0m\u001b[1;33m:\u001b[0m\u001b[1;33m\u001b[0m\u001b[1;33m\u001b[0m\u001b[0m\n\u001b[1;32m--> 167\u001b[1;33m             \u001b[1;32mraise\u001b[0m \u001b[0mExecutableNotFound\u001b[0m\u001b[1;33m(\u001b[0m\u001b[0mcmd\u001b[0m\u001b[1;33m)\u001b[0m\u001b[1;33m\u001b[0m\u001b[1;33m\u001b[0m\u001b[0m\n\u001b[0m\u001b[0;32m    168\u001b[0m         \u001b[1;32melse\u001b[0m\u001b[1;33m:\u001b[0m\u001b[1;33m\u001b[0m\u001b[1;33m\u001b[0m\u001b[0m\n\u001b[0;32m    169\u001b[0m             \u001b[1;32mraise\u001b[0m\u001b[1;33m\u001b[0m\u001b[1;33m\u001b[0m\u001b[0m\n",
      "\u001b[1;31mExecutableNotFound\u001b[0m: failed to execute ['dot', '-Tsvg'], make sure the Graphviz executables are on your systems' PATH"
     ]
    },
    {
     "data": {
      "text/plain": [
       "<graphviz.files.Source at 0x23472d0d248>"
      ]
     },
     "execution_count": 127,
     "metadata": {},
     "output_type": "execute_result"
    }
   ],
   "source": [
    "#Use the .Source method of the graphviz package to create an image from dot_data and display it\n",
    "\n",
    "graph = graphviz.Source (dot_data)\n",
    "graph"
   ]
  },
  {
   "cell_type": "markdown",
   "metadata": {},
   "source": [
    "# Finding optimal parameters for a decision tree"
   ]
  },
  {
   "cell_type": "code",
   "execution_count": 128,
   "metadata": {},
   "outputs": [],
   "source": [
    "from sklearn.model_selection import GridSearchCV"
   ]
  },
  {
   "cell_type": "code",
   "execution_count": 129,
   "metadata": {},
   "outputs": [
    {
     "data": {
      "text/plain": [
       "(21331, 17)"
      ]
     },
     "execution_count": 129,
     "metadata": {},
     "output_type": "execute_result"
    }
   ],
   "source": [
    "X_train.shape"
   ]
  },
  {
   "cell_type": "markdown",
   "metadata": {},
   "source": [
    "***Goal: the best maximum depth of tree, using the max_depth parameter.***\n",
    "    \n",
    "the best maximum depth of tree, using the max_depth parameter.\n",
    "\n",
    "With 21,331 training samples and 4-fold cross-validation, there will be three-fourth\n",
    "of the samples, or about 16,000 samples, in each training fold.\n",
    "\n",
    "we know a tree that splits at every node before the last level, with n levels, has 2^n leaf\n",
    "nodes. Therefore, a tree with L leaf nodes has a depth of approximately log2(L). In\n",
    "the limiting case, if we grow the tree deep enough so that every leaf node has one\n",
    "training sample for a given fold, the depth will be log2(16,000) ≈ 14. So, 14 is the\n",
    "theoretical limit to the depth of a tree that we could grow in this case."
   ]
  },
  {
   "cell_type": "code",
   "execution_count": 130,
   "metadata": {},
   "outputs": [],
   "source": [
    "# defining a list of hyperparameter(max_depth) values \n",
    "\n",
    "params = {'max_depth':[1,2,4,6,8,10,12]} "
   ]
  },
  {
   "cell_type": "code",
   "execution_count": 131,
   "metadata": {},
   "outputs": [],
   "source": [
    "# instantiate GridSearch class\n",
    "\n",
    "cv = GridSearchCV(dt, param_grid=params, scoring='roc_auc', n_jobs=None\n",
    "                  , refit=True, cv=4, verbose=1, pre_dispatch=None,\n",
    "                 error_score=np.nan, return_train_score=True)"
   ]
  },
  {
   "cell_type": "markdown",
   "metadata": {},
   "source": [
    "we use the ROC AUC metric (scoring='roc_auc'), that we do a 4-fold cross-validation (cv=4), and that we\n",
    "calculate training scores (return_train_score=True) to assess the bias-variance trade-off.\n",
    "\n",
    "n_jobs = int or None :no of processing jobs to run in parallel.\n",
    "\n",
    "\n",
    "verbose =int : contrls how much output you will see from the cross validation procedure\n",
    "\n",
    "error_score = 'raise' or Numeric : what to do if error happens during model_fitting"
   ]
  },
  {
   "cell_type": "code",
   "execution_count": 132,
   "metadata": {},
   "outputs": [
    {
     "name": "stdout",
     "output_type": "stream",
     "text": [
      "Fitting 4 folds for each of 7 candidates, totalling 28 fits\n"
     ]
    },
    {
     "name": "stderr",
     "output_type": "stream",
     "text": [
      "[Parallel(n_jobs=1)]: Using backend SequentialBackend with 1 concurrent workers.\n",
      "[Parallel(n_jobs=1)]: Done  28 out of  28 | elapsed:    3.7s finished\n"
     ]
    },
    {
     "data": {
      "text/plain": [
       "GridSearchCV(cv=4, error_score=nan,\n",
       "             estimator=DecisionTreeClassifier(ccp_alpha=0.0, class_weight=None,\n",
       "                                              criterion='gini', max_depth=2,\n",
       "                                              max_features=None,\n",
       "                                              max_leaf_nodes=None,\n",
       "                                              min_impurity_decrease=0.0,\n",
       "                                              min_impurity_split=None,\n",
       "                                              min_samples_leaf=1,\n",
       "                                              min_samples_split=2,\n",
       "                                              min_weight_fraction_leaf=0.0,\n",
       "                                              presort='deprecated',\n",
       "                                              random_state=None,\n",
       "                                              splitter='best'),\n",
       "             iid='deprecated', n_jobs=None,\n",
       "             param_grid={'max_depth': [1, 2, 4, 6, 8, 10, 12]},\n",
       "             pre_dispatch=None, refit=True, return_train_score=True,\n",
       "             scoring='roc_auc', verbose=1)"
      ]
     },
     "execution_count": 132,
     "metadata": {},
     "output_type": "execute_result"
    }
   ],
   "source": [
    "# Once the cross-validation object is defined, we can simply use the .fit method\n",
    "# on it as we would with a model object. This encapsulates essentially all the\n",
    "# functionality of the cross-validation loop\n",
    "\n",
    "#Perform a 4-fold cross-validation to search for the optimal maximum depth\n",
    "cv.fit(X_train, y_train)"
   ]
  },
  {
   "cell_type": "markdown",
   "metadata": {},
   "source": [
    "We had\n",
    "4 folds and 7 hyperparameters, meaning 4 x 7 = 28 fits are performed. The amount\n",
    "of time this took is also displayed. You can control how much output you get from\n",
    "this procedure with the verbose keyword argument; larger numbers mean more\n",
    "output."
   ]
  },
  {
   "cell_type": "markdown",
   "metadata": {},
   "source": [
    "### Examinig the results of CrossValidation procedure "
   ]
  },
  {
   "cell_type": "markdown",
   "metadata": {},
   "source": [
    "Among the\n",
    "methods that are available on the fitted GridSearchCV object is ***.cv_results_***. This\n",
    "is a dictionary containing the names of results as keys and the results themselves\n",
    "as values. For example, the ***mean_test_score*** key holds the average testing score\n",
    "across the folds for each of the seven hyperparameters"
   ]
  },
  {
   "cell_type": "code",
   "execution_count": 133,
   "metadata": {},
   "outputs": [
    {
     "data": {
      "text/html": [
       "<div>\n",
       "<style scoped>\n",
       "    .dataframe tbody tr th:only-of-type {\n",
       "        vertical-align: middle;\n",
       "    }\n",
       "\n",
       "    .dataframe tbody tr th {\n",
       "        vertical-align: top;\n",
       "    }\n",
       "\n",
       "    .dataframe thead th {\n",
       "        text-align: right;\n",
       "    }\n",
       "</style>\n",
       "<table border=\"1\" class=\"dataframe\">\n",
       "  <thead>\n",
       "    <tr style=\"text-align: right;\">\n",
       "      <th></th>\n",
       "      <th>mean_fit_time</th>\n",
       "      <th>std_fit_time</th>\n",
       "      <th>mean_score_time</th>\n",
       "      <th>std_score_time</th>\n",
       "      <th>param_max_depth</th>\n",
       "      <th>params</th>\n",
       "      <th>split0_test_score</th>\n",
       "      <th>split1_test_score</th>\n",
       "      <th>split2_test_score</th>\n",
       "      <th>split3_test_score</th>\n",
       "      <th>mean_test_score</th>\n",
       "      <th>std_test_score</th>\n",
       "      <th>rank_test_score</th>\n",
       "      <th>split0_train_score</th>\n",
       "      <th>split1_train_score</th>\n",
       "      <th>split2_train_score</th>\n",
       "      <th>split3_train_score</th>\n",
       "      <th>mean_train_score</th>\n",
       "      <th>std_train_score</th>\n",
       "    </tr>\n",
       "  </thead>\n",
       "  <tbody>\n",
       "    <tr>\n",
       "      <th>0</th>\n",
       "      <td>0.028005</td>\n",
       "      <td>0.002837</td>\n",
       "      <td>0.001001</td>\n",
       "      <td>0.001733</td>\n",
       "      <td>1</td>\n",
       "      <td>{'max_depth': 1}</td>\n",
       "      <td>0.639514</td>\n",
       "      <td>0.643398</td>\n",
       "      <td>0.651891</td>\n",
       "      <td>0.650753</td>\n",
       "      <td>0.646389</td>\n",
       "      <td>0.005136</td>\n",
       "      <td>7</td>\n",
       "      <td>0.648680</td>\n",
       "      <td>0.647384</td>\n",
       "      <td>0.644553</td>\n",
       "      <td>0.644934</td>\n",
       "      <td>0.646388</td>\n",
       "      <td>0.001712</td>\n",
       "    </tr>\n",
       "    <tr>\n",
       "      <th>1</th>\n",
       "      <td>0.055000</td>\n",
       "      <td>0.011091</td>\n",
       "      <td>0.004001</td>\n",
       "      <td>0.002828</td>\n",
       "      <td>2</td>\n",
       "      <td>{'max_depth': 2}</td>\n",
       "      <td>0.695134</td>\n",
       "      <td>0.699022</td>\n",
       "      <td>0.713376</td>\n",
       "      <td>0.699510</td>\n",
       "      <td>0.701761</td>\n",
       "      <td>0.006917</td>\n",
       "      <td>5</td>\n",
       "      <td>0.704034</td>\n",
       "      <td>0.702700</td>\n",
       "      <td>0.698113</td>\n",
       "      <td>0.702535</td>\n",
       "      <td>0.701845</td>\n",
       "      <td>0.002232</td>\n",
       "    </tr>\n",
       "    <tr>\n",
       "      <th>2</th>\n",
       "      <td>0.087999</td>\n",
       "      <td>0.004898</td>\n",
       "      <td>0.003000</td>\n",
       "      <td>0.001732</td>\n",
       "      <td>4</td>\n",
       "      <td>{'max_depth': 4}</td>\n",
       "      <td>0.732720</td>\n",
       "      <td>0.741078</td>\n",
       "      <td>0.746946</td>\n",
       "      <td>0.743731</td>\n",
       "      <td>0.741119</td>\n",
       "      <td>0.005276</td>\n",
       "      <td>2</td>\n",
       "      <td>0.756882</td>\n",
       "      <td>0.752421</td>\n",
       "      <td>0.749368</td>\n",
       "      <td>0.753055</td>\n",
       "      <td>0.752932</td>\n",
       "      <td>0.002673</td>\n",
       "    </tr>\n",
       "    <tr>\n",
       "      <th>3</th>\n",
       "      <td>0.125999</td>\n",
       "      <td>0.004472</td>\n",
       "      <td>0.003001</td>\n",
       "      <td>0.001733</td>\n",
       "      <td>6</td>\n",
       "      <td>{'max_depth': 6}</td>\n",
       "      <td>0.745252</td>\n",
       "      <td>0.745784</td>\n",
       "      <td>0.751281</td>\n",
       "      <td>0.741614</td>\n",
       "      <td>0.745983</td>\n",
       "      <td>0.003454</td>\n",
       "      <td>1</td>\n",
       "      <td>0.782202</td>\n",
       "      <td>0.780125</td>\n",
       "      <td>0.775228</td>\n",
       "      <td>0.774750</td>\n",
       "      <td>0.778076</td>\n",
       "      <td>0.003178</td>\n",
       "    </tr>\n",
       "    <tr>\n",
       "      <th>4</th>\n",
       "      <td>0.155005</td>\n",
       "      <td>0.001736</td>\n",
       "      <td>0.002000</td>\n",
       "      <td>0.002000</td>\n",
       "      <td>8</td>\n",
       "      <td>{'max_depth': 8}</td>\n",
       "      <td>0.726793</td>\n",
       "      <td>0.731848</td>\n",
       "      <td>0.750087</td>\n",
       "      <td>0.729742</td>\n",
       "      <td>0.734618</td>\n",
       "      <td>0.009110</td>\n",
       "      <td>3</td>\n",
       "      <td>0.811837</td>\n",
       "      <td>0.808245</td>\n",
       "      <td>0.803625</td>\n",
       "      <td>0.802372</td>\n",
       "      <td>0.806520</td>\n",
       "      <td>0.003770</td>\n",
       "    </tr>\n",
       "    <tr>\n",
       "      <th>5</th>\n",
       "      <td>0.188992</td>\n",
       "      <td>0.007121</td>\n",
       "      <td>0.002992</td>\n",
       "      <td>0.001727</td>\n",
       "      <td>10</td>\n",
       "      <td>{'max_depth': 10}</td>\n",
       "      <td>0.711299</td>\n",
       "      <td>0.702234</td>\n",
       "      <td>0.719294</td>\n",
       "      <td>0.711506</td>\n",
       "      <td>0.711083</td>\n",
       "      <td>0.006040</td>\n",
       "      <td>4</td>\n",
       "      <td>0.849393</td>\n",
       "      <td>0.854318</td>\n",
       "      <td>0.841293</td>\n",
       "      <td>0.836741</td>\n",
       "      <td>0.845437</td>\n",
       "      <td>0.006843</td>\n",
       "    </tr>\n",
       "    <tr>\n",
       "      <th>6</th>\n",
       "      <td>0.217998</td>\n",
       "      <td>0.004456</td>\n",
       "      <td>0.002994</td>\n",
       "      <td>0.001729</td>\n",
       "      <td>12</td>\n",
       "      <td>{'max_depth': 12}</td>\n",
       "      <td>0.675611</td>\n",
       "      <td>0.654583</td>\n",
       "      <td>0.676309</td>\n",
       "      <td>0.678195</td>\n",
       "      <td>0.671175</td>\n",
       "      <td>0.009625</td>\n",
       "      <td>6</td>\n",
       "      <td>0.888153</td>\n",
       "      <td>0.903498</td>\n",
       "      <td>0.885988</td>\n",
       "      <td>0.876149</td>\n",
       "      <td>0.888447</td>\n",
       "      <td>0.009797</td>\n",
       "    </tr>\n",
       "  </tbody>\n",
       "</table>\n",
       "</div>"
      ],
      "text/plain": [
       "   mean_fit_time  std_fit_time  mean_score_time  std_score_time  \\\n",
       "0       0.028005      0.002837         0.001001        0.001733   \n",
       "1       0.055000      0.011091         0.004001        0.002828   \n",
       "2       0.087999      0.004898         0.003000        0.001732   \n",
       "3       0.125999      0.004472         0.003001        0.001733   \n",
       "4       0.155005      0.001736         0.002000        0.002000   \n",
       "5       0.188992      0.007121         0.002992        0.001727   \n",
       "6       0.217998      0.004456         0.002994        0.001729   \n",
       "\n",
       "  param_max_depth             params  split0_test_score  split1_test_score  \\\n",
       "0               1   {'max_depth': 1}           0.639514           0.643398   \n",
       "1               2   {'max_depth': 2}           0.695134           0.699022   \n",
       "2               4   {'max_depth': 4}           0.732720           0.741078   \n",
       "3               6   {'max_depth': 6}           0.745252           0.745784   \n",
       "4               8   {'max_depth': 8}           0.726793           0.731848   \n",
       "5              10  {'max_depth': 10}           0.711299           0.702234   \n",
       "6              12  {'max_depth': 12}           0.675611           0.654583   \n",
       "\n",
       "   split2_test_score  split3_test_score  mean_test_score  std_test_score  \\\n",
       "0           0.651891           0.650753         0.646389        0.005136   \n",
       "1           0.713376           0.699510         0.701761        0.006917   \n",
       "2           0.746946           0.743731         0.741119        0.005276   \n",
       "3           0.751281           0.741614         0.745983        0.003454   \n",
       "4           0.750087           0.729742         0.734618        0.009110   \n",
       "5           0.719294           0.711506         0.711083        0.006040   \n",
       "6           0.676309           0.678195         0.671175        0.009625   \n",
       "\n",
       "   rank_test_score  split0_train_score  split1_train_score  \\\n",
       "0                7            0.648680            0.647384   \n",
       "1                5            0.704034            0.702700   \n",
       "2                2            0.756882            0.752421   \n",
       "3                1            0.782202            0.780125   \n",
       "4                3            0.811837            0.808245   \n",
       "5                4            0.849393            0.854318   \n",
       "6                6            0.888153            0.903498   \n",
       "\n",
       "   split2_train_score  split3_train_score  mean_train_score  std_train_score  \n",
       "0            0.644553            0.644934          0.646388         0.001712  \n",
       "1            0.698113            0.702535          0.701845         0.002232  \n",
       "2            0.749368            0.753055          0.752932         0.002673  \n",
       "3            0.775228            0.774750          0.778076         0.003178  \n",
       "4            0.803625            0.802372          0.806520         0.003770  \n",
       "5            0.841293            0.836741          0.845437         0.006843  \n",
       "6            0.885988            0.876149          0.888447         0.009797  "
      ]
     },
     "execution_count": 133,
     "metadata": {},
     "output_type": "execute_result"
    }
   ],
   "source": [
    "cv_results_df = pd.DataFrame(cv.cv_results_)\n",
    "cv_results_df"
   ]
  },
  {
   "cell_type": "markdown",
   "metadata": {},
   "source": [
    "The DataFrame has one row for each combination of hyperparameters in the grid.\n",
    "Since we are only searching one hyperparameter here, there is one row for each\n",
    "of the seven values that we searched for"
   ]
  },
  {
   "cell_type": "markdown",
   "metadata": {},
   "source": [
    "The columns in the cross-validation results DataFrame include the testing scores\n",
    "for each fold, their average and standard deviation, and the same information for\n",
    "the training scores.\n",
    "Generally speaking, ***the \"best\" combination of hyperparameters is that with the\n",
    "highest average testing score.*** This is an estimation of how well the model, fit using\n",
    "these hyperparameters, could perform when scored on new data"
   ]
  },
  {
   "cell_type": "code",
   "execution_count": 134,
   "metadata": {},
   "outputs": [
    {
     "data": {
      "image/png": "[encoded data removed]",
      "text/plain": [
       "<Figure size 480x320 with 1 Axes>"
      ]
     },
     "metadata": {
      "needs_background": "light"
     },
     "output_type": "display_data"
    }
   ],
   "source": [
    "#Let's make a plot showing how the average testing score varies with the max_depth hyperparameter.\n",
    "# We will also show the average training scores on the same plot, to see how bias\n",
    "# and variance change as we allow deeper and more complex trees to be grown\n",
    "# during model fitting.\n",
    "\n",
    "\n",
    "# ****Error bars are graphical representations of the variability of data and used on graphs to indicate\n",
    "# the error or uncertainty in a reported measurementError .bars often represent one standard deviation of\n",
    "# uncertainty, one standard error, or a particular confidence interval (e.g., a 95% interval).****\n",
    "\n",
    "#***We include the standard deviations of the 4-fold training and testing scores as error bars***\n",
    "\n",
    "ax=plt.axes()\n",
    "ax.errorbar(cv_results_df['param_max_depth'], cv_results_df['mean_train_score'],\n",
    "           yerr = cv_results_df['std_train_score'], label = 'Mean $\\pm$ 1 SD training scores ')\n",
    "\n",
    "ax.errorbar(cv_results_df['param_max_depth'], cv_results_df['mean_test_score'],\n",
    "           yerr = cv_results_df['std_test_score'], label = 'Mean $\\pm$ 1 SD testing scores ')\n",
    "ax.legend()\n",
    "plt.xlabel('max_depth')\n",
    "plt.ylabel('ROC AUC score')\n",
    "plt.title(\" error barplot of training and testing scores across four folds\");\n"
   ]
  },
  {
   "cell_type": "markdown",
   "metadata": {},
   "source": [
    "things to take care of while using error bar plots:\n",
    "1. The standard deviations of the training and testing scores are shown as vertical lines at\n",
    "    each value of max_depth that was tried; the distance above and below the average score\n",
    "    is 1 standard deviation. Whenever making error bar plots, it's best to ensure that the\n",
    "    units of the error measurement are the same as the units of the y axis. In this case they\n",
    "    are, since standard deviation has the same units as the underlying data, as opposed to\n",
    "    variance, for example, which has squared units.\n",
    "\n",
    "\n",
    "2. The error bars indicate how variable the scores are across folds. If there was a large\n",
    "    amount of variation across the folds, it would indicate that the nature of the data across\n",
    "    the folds was different in a way that affected the ability of our model to describe it. This\n",
    "    could be concerning because it would indicate that we may not have enough data to\n",
    "    train a model that would reliably perform on new data. However, in our case here, there\n",
    "    is not much variability between the folds, so this is not an issue"
   ]
  },
  {
   "cell_type": "markdown",
   "metadata": {},
   "source": [
    "observations from plot:\n",
    "1. We can see that as we grow deeper and deeper trees, the model fits the training data better and better\n",
    "2. if we grew trees deep enough so that each leaf node had just one training sample, we create a model that\n",
    "   is very specific to the training data. In fact, it would fit the training data perfectly ( extremely high \n",
    "   variance).\n",
    "3. Shallower trees have more bias, since they are not fitting the training data as well. But this is fine\n",
    "    because if we accept some bias, we will have better performance on the\n",
    "    testing data, which is ultimately the metric we use to select model hyperparameters   "
   ]
  },
  {
   "cell_type": "markdown",
   "metadata": {},
   "source": [
    "***we got an average testing ROC AUC of 0.718 with logistic regression\n",
    "and 0.740 by engineering interaction features in a logistic regression. Here, with a\n",
    "decision tree, we can achieve 0.745. So, we are making gains in model performance***"
   ]
  },
  {
   "cell_type": "markdown",
   "metadata": {},
   "source": [
    "# Fitting a Random Forest\n"
   ]
  },
  {
   "cell_type": "markdown",
   "metadata": {},
   "source": [
    "***Random forests reduce the high variance (overfitting) issue that affects decision trees***\n",
    "There are two principle ways in which the trees are different in the forest :\n",
    "1. The number of features considered at each split\n",
    "2. The samples used to grow different trees    "
   ]
  },
  {
   "cell_type": "markdown",
   "metadata": {},
   "source": [
    "1.  ***The number of features considered at each split:***  We left max_features at its default\n",
    "    value of None, which meant that all features were considered at each split. By using all\n",
    "    the features to fit the training data, overfitting is possible. By limiting the number of\n",
    "    features considered at each split, some of the decision trees in a random forest will\n",
    "    potentially find better splits. This is because, although they are still greedily searching\n",
    "    for the best split, they are doing it with a limited selection of features.\n",
    "    \n",
    "    ***the default setting is 'auto', which means the algorithm will only\n",
    "    search a random selection of the square root of the number of possible features at\n",
    "    each split***, for example a random selection of √9 = 3 features from a total of 9 possible\n",
    "    features. Because each tree in the forest will likely choose different random selections\n",
    "    of features to split as the trees are being grown, the trees in the forest will not be the\n",
    "    same."
   ]
  },
  {
   "cell_type": "markdown",
   "metadata": {},
   "source": [
    "2. ***The samples used to grow different trees*** : use bootstrapped aggregation {bootstrapping, Bagging}.\n",
    "    In the case of random forest, bagging is turned on by default and the bootstrap option is set to True.\n",
    "    But if you want all the trees in the forest to be grown using all of the training data, you can set this\n",
    "    option to False."
   ]
  },
  {
   "cell_type": "markdown",
   "metadata": {},
   "source": [
    "    hyper parameter:\n",
    "\n",
    "    1. n_estimators : how many decision tree models will be included in a random forest.As the number of trees\n",
    "        increases, the variance of the overall ensemble will decrease. This should result in the\n",
    "        random forest model having better generalization to new data, which will be reflected\n",
    "        in increased testing scores. However, there will be a point of diminishing returns after\n",
    "        which increasing the number of trees does not result in a substantial improvement in\n",
    "        model performance."
   ]
  },
  {
   "cell_type": "markdown",
   "metadata": {},
   "source": [
    "***Approach to combine the trees predictions in scikit learn***\n",
    "\n",
    "\n",
    "One intuitive approach to combining the predictions of these trees into the\n",
    "ultimate prediction of the forest is to take a majority vote. That is, whatever the most\n",
    "common prediction of all the trees is becomes the prediction of the forest. However, scikit-learn\n",
    "uses a somewhat different approach: adding up the predicted probabilities for each class and\n",
    "then choosing the one with the highest probability. This captures more information\n",
    "from each tree than just the predicted class."
   ]
  },
  {
   "cell_type": "code",
   "execution_count": 135,
   "metadata": {},
   "outputs": [],
   "source": [
    "from sklearn.ensemble import RandomForestClassifier"
   ]
  },
  {
   "cell_type": "code",
   "execution_count": 136,
   "metadata": {},
   "outputs": [],
   "source": [
    "# instantiating the class with following options\n",
    "\n",
    "rf = RandomForestClassifier(n_estimators=10, criterion='gini', max_depth=3, min_samples_split=2,\n",
    "                           min_samples_leaf=1, min_weight_fraction_leaf=0.0, max_features = 'auto',\n",
    "                           max_leaf_nodes=None, min_impurity_decrease=0.0, min_impurity_split=None, \n",
    "                           bootstrap=True, oob_score=True, n_jobs=None, random_state=4, verbose=0,\n",
    "                           warm_start= False, class_weight=None)"
   ]
  },
  {
   "cell_type": "markdown",
   "metadata": {},
   "source": [
    "Here, we are only going to explore the effect of using different\n",
    "numbers of trees"
   ]
  },
  {
   "cell_type": "markdown",
   "metadata": {},
   "source": [
    "* oob_score, a bool: This option controls whether or not to calculate an out of bag\n",
    "    (OOB) score for each tree. This can be thought of as a testing score, where the\n",
    "    samples that were not selected by the bagging procedure to grow a given tree\n",
    "    are used to assess model performance of that tree. Here, use True to calculate the\n",
    "    OOB score or False (the default) not to.\n",
    "* warm_start, a bool: This is False by default – if you set this to True, then reusing\n",
    "    the same random forest model object will cause additional trees to be added to the\n",
    "    already-generated forest."
   ]
  },
  {
   "cell_type": "code",
   "execution_count": 137,
   "metadata": {},
   "outputs": [
    {
     "data": {
      "text/plain": [
       "{'n_estimators': [10, 20, 30, 40, 50, 60, 70, 80, 90, 100]}"
      ]
     },
     "execution_count": 137,
     "metadata": {},
     "output_type": "execute_result"
    }
   ],
   "source": [
    "rf_params_ex = {'n_estimators': list(range(10,110,10))}\n",
    "rf_params_ex"
   ]
  },
  {
   "cell_type": "code",
   "execution_count": 138,
   "metadata": {},
   "outputs": [],
   "source": [
    "#Instantiate a grid search cross-validation object for the random forest model using the parameter grid\n",
    "\n",
    "cv_rf_ex = GridSearchCV(rf, param_grid=rf_params_ex, scoring='roc_auc',\n",
    "                        n_jobs=None, refit=True, cv=4, verbose=1,\n",
    "                        pre_dispatch=None, error_score=np.nan, return_train_score=True)"
   ]
  },
  {
   "cell_type": "code",
   "execution_count": 139,
   "metadata": {},
   "outputs": [
    {
     "name": "stdout",
     "output_type": "stream",
     "text": [
      "Fitting 4 folds for each of 10 candidates, totalling 40 fits\n"
     ]
    },
    {
     "name": "stderr",
     "output_type": "stream",
     "text": [
      "[Parallel(n_jobs=1)]: Using backend SequentialBackend with 1 concurrent workers.\n",
      "C:\\Users\\nehat4\\Anaconda3\\lib\\site-packages\\sklearn\\ensemble\\_forest.py:523: UserWarning: Some inputs do not have OOB scores. This probably means too few trees were used to compute any reliable oob estimates.\n",
      "  warn(\"Some inputs do not have OOB scores. \"\n",
      "C:\\Users\\nehat4\\Anaconda3\\lib\\site-packages\\sklearn\\ensemble\\_forest.py:528: RuntimeWarning: invalid value encountered in true_divide\n",
      "  predictions[k].sum(axis=1)[:, np.newaxis])\n",
      "C:\\Users\\nehat4\\Anaconda3\\lib\\site-packages\\sklearn\\ensemble\\_forest.py:523: UserWarning: Some inputs do not have OOB scores. This probably means too few trees were used to compute any reliable oob estimates.\n",
      "  warn(\"Some inputs do not have OOB scores. \"\n",
      "C:\\Users\\nehat4\\Anaconda3\\lib\\site-packages\\sklearn\\ensemble\\_forest.py:528: RuntimeWarning: invalid value encountered in true_divide\n",
      "  predictions[k].sum(axis=1)[:, np.newaxis])\n",
      "C:\\Users\\nehat4\\Anaconda3\\lib\\site-packages\\sklearn\\ensemble\\_forest.py:523: UserWarning: Some inputs do not have OOB scores. This probably means too few trees were used to compute any reliable oob estimates.\n",
      "  warn(\"Some inputs do not have OOB scores. \"\n",
      "C:\\Users\\nehat4\\Anaconda3\\lib\\site-packages\\sklearn\\ensemble\\_forest.py:528: RuntimeWarning: invalid value encountered in true_divide\n",
      "  predictions[k].sum(axis=1)[:, np.newaxis])\n",
      "C:\\Users\\nehat4\\Anaconda3\\lib\\site-packages\\sklearn\\ensemble\\_forest.py:523: UserWarning: Some inputs do not have OOB scores. This probably means too few trees were used to compute any reliable oob estimates.\n",
      "  warn(\"Some inputs do not have OOB scores. \"\n",
      "C:\\Users\\nehat4\\Anaconda3\\lib\\site-packages\\sklearn\\ensemble\\_forest.py:528: RuntimeWarning: invalid value encountered in true_divide\n",
      "  predictions[k].sum(axis=1)[:, np.newaxis])\n",
      "C:\\Users\\nehat4\\Anaconda3\\lib\\site-packages\\sklearn\\ensemble\\_forest.py:523: UserWarning: Some inputs do not have OOB scores. This probably means too few trees were used to compute any reliable oob estimates.\n",
      "  warn(\"Some inputs do not have OOB scores. \"\n",
      "C:\\Users\\nehat4\\Anaconda3\\lib\\site-packages\\sklearn\\ensemble\\_forest.py:528: RuntimeWarning: invalid value encountered in true_divide\n",
      "  predictions[k].sum(axis=1)[:, np.newaxis])\n",
      "C:\\Users\\nehat4\\Anaconda3\\lib\\site-packages\\sklearn\\ensemble\\_forest.py:523: UserWarning: Some inputs do not have OOB scores. This probably means too few trees were used to compute any reliable oob estimates.\n",
      "  warn(\"Some inputs do not have OOB scores. \"\n",
      "C:\\Users\\nehat4\\Anaconda3\\lib\\site-packages\\sklearn\\ensemble\\_forest.py:528: RuntimeWarning: invalid value encountered in true_divide\n",
      "  predictions[k].sum(axis=1)[:, np.newaxis])\n",
      "C:\\Users\\nehat4\\Anaconda3\\lib\\site-packages\\sklearn\\ensemble\\_forest.py:523: UserWarning: Some inputs do not have OOB scores. This probably means too few trees were used to compute any reliable oob estimates.\n",
      "  warn(\"Some inputs do not have OOB scores. \"\n",
      "C:\\Users\\nehat4\\Anaconda3\\lib\\site-packages\\sklearn\\ensemble\\_forest.py:528: RuntimeWarning: invalid value encountered in true_divide\n",
      "  predictions[k].sum(axis=1)[:, np.newaxis])\n",
      "C:\\Users\\nehat4\\Anaconda3\\lib\\site-packages\\sklearn\\ensemble\\_forest.py:523: UserWarning: Some inputs do not have OOB scores. This probably means too few trees were used to compute any reliable oob estimates.\n",
      "  warn(\"Some inputs do not have OOB scores. \"\n",
      "C:\\Users\\nehat4\\Anaconda3\\lib\\site-packages\\sklearn\\ensemble\\_forest.py:528: RuntimeWarning: invalid value encountered in true_divide\n",
      "  predictions[k].sum(axis=1)[:, np.newaxis])\n",
      "[Parallel(n_jobs=1)]: Done  40 out of  40 | elapsed:   37.4s finished\n"
     ]
    },
    {
     "data": {
      "text/plain": [
       "GridSearchCV(cv=4, error_score=nan,\n",
       "             estimator=RandomForestClassifier(bootstrap=True, ccp_alpha=0.0,\n",
       "                                              class_weight=None,\n",
       "                                              criterion='gini', max_depth=3,\n",
       "                                              max_features='auto',\n",
       "                                              max_leaf_nodes=None,\n",
       "                                              max_samples=None,\n",
       "                                              min_impurity_decrease=0.0,\n",
       "                                              min_impurity_split=None,\n",
       "                                              min_samples_leaf=1,\n",
       "                                              min_samples_split=2,\n",
       "                                              min_weight_fraction_leaf=0.0,\n",
       "                                              n_estimators=10, n_jobs=None,\n",
       "                                              oob_score=True, random_state=4,\n",
       "                                              verbose=0, warm_start=False),\n",
       "             iid='deprecated', n_jobs=None,\n",
       "             param_grid={'n_estimators': [10, 20, 30, 40, 50, 60, 70, 80, 90,\n",
       "                                          100]},\n",
       "             pre_dispatch=None, refit=True, return_train_score=True,\n",
       "             scoring='roc_auc', verbose=1)"
      ]
     },
     "execution_count": 139,
     "metadata": {},
     "output_type": "execute_result"
    }
   ],
   "source": [
    "#Fit the cross-validation object\n",
    "cv_rf_ex.fit(X_train, y_train)\n"
   ]
  },
  {
   "cell_type": "code",
   "execution_count": 140,
   "metadata": {},
   "outputs": [
    {
     "data": {
      "text/html": [
       "<div>\n",
       "<style scoped>\n",
       "    .dataframe tbody tr th:only-of-type {\n",
       "        vertical-align: middle;\n",
       "    }\n",
       "\n",
       "    .dataframe tbody tr th {\n",
       "        vertical-align: top;\n",
       "    }\n",
       "\n",
       "    .dataframe thead th {\n",
       "        text-align: right;\n",
       "    }\n",
       "</style>\n",
       "<table border=\"1\" class=\"dataframe\">\n",
       "  <thead>\n",
       "    <tr style=\"text-align: right;\">\n",
       "      <th></th>\n",
       "      <th>mean_fit_time</th>\n",
       "      <th>std_fit_time</th>\n",
       "      <th>mean_score_time</th>\n",
       "      <th>std_score_time</th>\n",
       "      <th>param_n_estimators</th>\n",
       "      <th>params</th>\n",
       "      <th>split0_test_score</th>\n",
       "      <th>split1_test_score</th>\n",
       "      <th>split2_test_score</th>\n",
       "      <th>split3_test_score</th>\n",
       "      <th>mean_test_score</th>\n",
       "      <th>std_test_score</th>\n",
       "      <th>rank_test_score</th>\n",
       "      <th>split0_train_score</th>\n",
       "      <th>split1_train_score</th>\n",
       "      <th>split2_train_score</th>\n",
       "      <th>split3_train_score</th>\n",
       "      <th>mean_train_score</th>\n",
       "      <th>std_train_score</th>\n",
       "    </tr>\n",
       "  </thead>\n",
       "  <tbody>\n",
       "    <tr>\n",
       "      <th>0</th>\n",
       "      <td>0.162000</td>\n",
       "      <td>0.020689</td>\n",
       "      <td>0.007007</td>\n",
       "      <td>0.001737</td>\n",
       "      <td>10</td>\n",
       "      <td>{'n_estimators': 10}</td>\n",
       "      <td>0.739183</td>\n",
       "      <td>0.746599</td>\n",
       "      <td>0.772127</td>\n",
       "      <td>0.771322</td>\n",
       "      <td>0.757308</td>\n",
       "      <td>0.014656</td>\n",
       "      <td>10</td>\n",
       "      <td>0.767973</td>\n",
       "      <td>0.767158</td>\n",
       "      <td>0.760550</td>\n",
       "      <td>0.763683</td>\n",
       "      <td>0.764841</td>\n",
       "      <td>0.002955</td>\n",
       "    </tr>\n",
       "    <tr>\n",
       "      <th>1</th>\n",
       "      <td>0.348837</td>\n",
       "      <td>0.080098</td>\n",
       "      <td>0.010996</td>\n",
       "      <td>0.001745</td>\n",
       "      <td>20</td>\n",
       "      <td>{'n_estimators': 20}</td>\n",
       "      <td>0.745612</td>\n",
       "      <td>0.753712</td>\n",
       "      <td>0.777616</td>\n",
       "      <td>0.771737</td>\n",
       "      <td>0.762169</td>\n",
       "      <td>0.012998</td>\n",
       "      <td>9</td>\n",
       "      <td>0.772819</td>\n",
       "      <td>0.771499</td>\n",
       "      <td>0.765944</td>\n",
       "      <td>0.765395</td>\n",
       "      <td>0.768914</td>\n",
       "      <td>0.003284</td>\n",
       "    </tr>\n",
       "    <tr>\n",
       "      <th>2</th>\n",
       "      <td>0.490033</td>\n",
       "      <td>0.126281</td>\n",
       "      <td>0.015471</td>\n",
       "      <td>0.004062</td>\n",
       "      <td>30</td>\n",
       "      <td>{'n_estimators': 30}</td>\n",
       "      <td>0.747259</td>\n",
       "      <td>0.754154</td>\n",
       "      <td>0.777954</td>\n",
       "      <td>0.771825</td>\n",
       "      <td>0.762798</td>\n",
       "      <td>0.012524</td>\n",
       "      <td>7</td>\n",
       "      <td>0.774655</td>\n",
       "      <td>0.772100</td>\n",
       "      <td>0.765026</td>\n",
       "      <td>0.766697</td>\n",
       "      <td>0.769620</td>\n",
       "      <td>0.003910</td>\n",
       "    </tr>\n",
       "    <tr>\n",
       "      <th>3</th>\n",
       "      <td>0.566006</td>\n",
       "      <td>0.021459</td>\n",
       "      <td>0.021001</td>\n",
       "      <td>0.003318</td>\n",
       "      <td>40</td>\n",
       "      <td>{'n_estimators': 40}</td>\n",
       "      <td>0.746682</td>\n",
       "      <td>0.754553</td>\n",
       "      <td>0.777709</td>\n",
       "      <td>0.773134</td>\n",
       "      <td>0.763020</td>\n",
       "      <td>0.012813</td>\n",
       "      <td>4</td>\n",
       "      <td>0.774300</td>\n",
       "      <td>0.772642</td>\n",
       "      <td>0.765051</td>\n",
       "      <td>0.765876</td>\n",
       "      <td>0.769467</td>\n",
       "      <td>0.004057</td>\n",
       "    </tr>\n",
       "    <tr>\n",
       "      <th>4</th>\n",
       "      <td>0.685000</td>\n",
       "      <td>0.006557</td>\n",
       "      <td>0.022008</td>\n",
       "      <td>0.001993</td>\n",
       "      <td>50</td>\n",
       "      <td>{'n_estimators': 50}</td>\n",
       "      <td>0.748009</td>\n",
       "      <td>0.755878</td>\n",
       "      <td>0.779465</td>\n",
       "      <td>0.771250</td>\n",
       "      <td>0.763651</td>\n",
       "      <td>0.012379</td>\n",
       "      <td>1</td>\n",
       "      <td>0.775241</td>\n",
       "      <td>0.774025</td>\n",
       "      <td>0.765732</td>\n",
       "      <td>0.766947</td>\n",
       "      <td>0.770486</td>\n",
       "      <td>0.004191</td>\n",
       "    </tr>\n",
       "    <tr>\n",
       "      <th>5</th>\n",
       "      <td>0.844987</td>\n",
       "      <td>0.012445</td>\n",
       "      <td>0.029999</td>\n",
       "      <td>0.003465</td>\n",
       "      <td>60</td>\n",
       "      <td>{'n_estimators': 60}</td>\n",
       "      <td>0.748437</td>\n",
       "      <td>0.755604</td>\n",
       "      <td>0.779478</td>\n",
       "      <td>0.770978</td>\n",
       "      <td>0.763624</td>\n",
       "      <td>0.012252</td>\n",
       "      <td>2</td>\n",
       "      <td>0.775419</td>\n",
       "      <td>0.773615</td>\n",
       "      <td>0.766133</td>\n",
       "      <td>0.767032</td>\n",
       "      <td>0.770550</td>\n",
       "      <td>0.004031</td>\n",
       "    </tr>\n",
       "    <tr>\n",
       "      <th>6</th>\n",
       "      <td>1.023501</td>\n",
       "      <td>0.090622</td>\n",
       "      <td>0.035013</td>\n",
       "      <td>0.003313</td>\n",
       "      <td>70</td>\n",
       "      <td>{'n_estimators': 70}</td>\n",
       "      <td>0.747491</td>\n",
       "      <td>0.754465</td>\n",
       "      <td>0.779104</td>\n",
       "      <td>0.771023</td>\n",
       "      <td>0.763021</td>\n",
       "      <td>0.012620</td>\n",
       "      <td>3</td>\n",
       "      <td>0.774420</td>\n",
       "      <td>0.773379</td>\n",
       "      <td>0.765960</td>\n",
       "      <td>0.766174</td>\n",
       "      <td>0.769983</td>\n",
       "      <td>0.003934</td>\n",
       "    </tr>\n",
       "    <tr>\n",
       "      <th>7</th>\n",
       "      <td>1.170743</td>\n",
       "      <td>0.032590</td>\n",
       "      <td>0.055999</td>\n",
       "      <td>0.032373</td>\n",
       "      <td>80</td>\n",
       "      <td>{'n_estimators': 80}</td>\n",
       "      <td>0.747424</td>\n",
       "      <td>0.754488</td>\n",
       "      <td>0.778753</td>\n",
       "      <td>0.770872</td>\n",
       "      <td>0.762884</td>\n",
       "      <td>0.012502</td>\n",
       "      <td>5</td>\n",
       "      <td>0.774234</td>\n",
       "      <td>0.773257</td>\n",
       "      <td>0.765978</td>\n",
       "      <td>0.766220</td>\n",
       "      <td>0.769922</td>\n",
       "      <td>0.003840</td>\n",
       "    </tr>\n",
       "    <tr>\n",
       "      <th>8</th>\n",
       "      <td>1.522577</td>\n",
       "      <td>0.235248</td>\n",
       "      <td>0.040003</td>\n",
       "      <td>0.004891</td>\n",
       "      <td>90</td>\n",
       "      <td>{'n_estimators': 90}</td>\n",
       "      <td>0.747097</td>\n",
       "      <td>0.753794</td>\n",
       "      <td>0.778507</td>\n",
       "      <td>0.770426</td>\n",
       "      <td>0.762456</td>\n",
       "      <td>0.012571</td>\n",
       "      <td>8</td>\n",
       "      <td>0.774095</td>\n",
       "      <td>0.772973</td>\n",
       "      <td>0.766022</td>\n",
       "      <td>0.765748</td>\n",
       "      <td>0.769709</td>\n",
       "      <td>0.003846</td>\n",
       "    </tr>\n",
       "    <tr>\n",
       "      <th>9</th>\n",
       "      <td>1.533071</td>\n",
       "      <td>0.212640</td>\n",
       "      <td>0.051000</td>\n",
       "      <td>0.005938</td>\n",
       "      <td>100</td>\n",
       "      <td>{'n_estimators': 100}</td>\n",
       "      <td>0.747221</td>\n",
       "      <td>0.753924</td>\n",
       "      <td>0.779195</td>\n",
       "      <td>0.770937</td>\n",
       "      <td>0.762819</td>\n",
       "      <td>0.012811</td>\n",
       "      <td>6</td>\n",
       "      <td>0.774340</td>\n",
       "      <td>0.773598</td>\n",
       "      <td>0.766103</td>\n",
       "      <td>0.766914</td>\n",
       "      <td>0.770238</td>\n",
       "      <td>0.003750</td>\n",
       "    </tr>\n",
       "  </tbody>\n",
       "</table>\n",
       "</div>"
      ],
      "text/plain": [
       "   mean_fit_time  std_fit_time  mean_score_time  std_score_time  \\\n",
       "0       0.162000      0.020689         0.007007        0.001737   \n",
       "1       0.348837      0.080098         0.010996        0.001745   \n",
       "2       0.490033      0.126281         0.015471        0.004062   \n",
       "3       0.566006      0.021459         0.021001        0.003318   \n",
       "4       0.685000      0.006557         0.022008        0.001993   \n",
       "5       0.844987      0.012445         0.029999        0.003465   \n",
       "6       1.023501      0.090622         0.035013        0.003313   \n",
       "7       1.170743      0.032590         0.055999        0.032373   \n",
       "8       1.522577      0.235248         0.040003        0.004891   \n",
       "9       1.533071      0.212640         0.051000        0.005938   \n",
       "\n",
       "  param_n_estimators                 params  split0_test_score  \\\n",
       "0                 10   {'n_estimators': 10}           0.739183   \n",
       "1                 20   {'n_estimators': 20}           0.745612   \n",
       "2                 30   {'n_estimators': 30}           0.747259   \n",
       "3                 40   {'n_estimators': 40}           0.746682   \n",
       "4                 50   {'n_estimators': 50}           0.748009   \n",
       "5                 60   {'n_estimators': 60}           0.748437   \n",
       "6                 70   {'n_estimators': 70}           0.747491   \n",
       "7                 80   {'n_estimators': 80}           0.747424   \n",
       "8                 90   {'n_estimators': 90}           0.747097   \n",
       "9                100  {'n_estimators': 100}           0.747221   \n",
       "\n",
       "   split1_test_score  split2_test_score  split3_test_score  mean_test_score  \\\n",
       "0           0.746599           0.772127           0.771322         0.757308   \n",
       "1           0.753712           0.777616           0.771737         0.762169   \n",
       "2           0.754154           0.777954           0.771825         0.762798   \n",
       "3           0.754553           0.777709           0.773134         0.763020   \n",
       "4           0.755878           0.779465           0.771250         0.763651   \n",
       "5           0.755604           0.779478           0.770978         0.763624   \n",
       "6           0.754465           0.779104           0.771023         0.763021   \n",
       "7           0.754488           0.778753           0.770872         0.762884   \n",
       "8           0.753794           0.778507           0.770426         0.762456   \n",
       "9           0.753924           0.779195           0.770937         0.762819   \n",
       "\n",
       "   std_test_score  rank_test_score  split0_train_score  split1_train_score  \\\n",
       "0        0.014656               10            0.767973            0.767158   \n",
       "1        0.012998                9            0.772819            0.771499   \n",
       "2        0.012524                7            0.774655            0.772100   \n",
       "3        0.012813                4            0.774300            0.772642   \n",
       "4        0.012379                1            0.775241            0.774025   \n",
       "5        0.012252                2            0.775419            0.773615   \n",
       "6        0.012620                3            0.774420            0.773379   \n",
       "7        0.012502                5            0.774234            0.773257   \n",
       "8        0.012571                8            0.774095            0.772973   \n",
       "9        0.012811                6            0.774340            0.773598   \n",
       "\n",
       "   split2_train_score  split3_train_score  mean_train_score  std_train_score  \n",
       "0            0.760550            0.763683          0.764841         0.002955  \n",
       "1            0.765944            0.765395          0.768914         0.003284  \n",
       "2            0.765026            0.766697          0.769620         0.003910  \n",
       "3            0.765051            0.765876          0.769467         0.004057  \n",
       "4            0.765732            0.766947          0.770486         0.004191  \n",
       "5            0.766133            0.767032          0.770550         0.004031  \n",
       "6            0.765960            0.766174          0.769983         0.003934  \n",
       "7            0.765978            0.766220          0.769922         0.003840  \n",
       "8            0.766022            0.765748          0.769709         0.003846  \n",
       "9            0.766103            0.766914          0.770238         0.003750  "
      ]
     },
     "execution_count": 140,
     "metadata": {},
     "output_type": "execute_result"
    }
   ],
   "source": [
    "cv_rf_ex_results_df = pd.DataFrame(cv_rf_ex.cv_results_)\n",
    "cv_rf_ex_results_df"
   ]
  },
  {
   "cell_type": "code",
   "execution_count": 141,
   "metadata": {},
   "outputs": [
    {
     "data": {
      "image/png": "[encoded data removed]",
      "text/plain": [
       "<Figure size 480x240 with 2 Axes>"
      ]
     },
     "metadata": {
      "needs_background": "light"
     },
     "output_type": "display_data"
    }
   ],
   "source": [
    "fig, axes = plt.subplots(nrows=1, ncols=2, figsize=(6,3))\n",
    "axes[0].plot(cv_rf_ex_results_df['param_n_estimators'],\n",
    "             cv_rf_ex_results_df['mean_fit_time'], '-o')\n",
    "axes[0].set_xlabel('No of trees')\n",
    "axes[0].set_ylabel('Mean fit time(seconds)')\n",
    "\n",
    "axes[1].errorbar(cv_rf_ex_results_df['param_n_estimators'],\n",
    "                cv_rf_ex_results_df['mean_test_score'],\n",
    "                yerr=cv_rf_ex_results_df['std_test_score'])\n",
    "axes[1].set_xlabel('No of trees')\n",
    "axes[1].set_ylabel('Mean testing ROC AUC $\\pm$ 1 SD ')\n",
    "plt.tight_layout()"
   ]
  },
  {
   "cell_type": "markdown",
   "metadata": {},
   "source": [
    "along with these higher model testing scores, notice that there is also\n",
    "more variability between the folds than what we saw with the decision tree; this\n",
    "variability is visible as larger standard deviations in model testing scores across\n",
    "the folds. While this indicates that there is a wider range in model performance\n",
    "that might be expected from using this model."
   ]
  },
  {
   "cell_type": "code",
   "execution_count": 142,
   "metadata": {},
   "outputs": [
    {
     "data": {
      "text/plain": [
       "{'n_estimators': 50}"
      ]
     },
     "execution_count": 142,
     "metadata": {},
     "output_type": "execute_result"
    }
   ],
   "source": [
    "cv_rf_ex.best_params_ #\"best\" just means the hyperparameters that resulted in the highest average model testing score"
   ]
  },
  {
   "cell_type": "code",
   "execution_count": 143,
   "metadata": {},
   "outputs": [
    {
     "data": {
      "text/html": [
       "<div>\n",
       "<style scoped>\n",
       "    .dataframe tbody tr th:only-of-type {\n",
       "        vertical-align: middle;\n",
       "    }\n",
       "\n",
       "    .dataframe tbody tr th {\n",
       "        vertical-align: top;\n",
       "    }\n",
       "\n",
       "    .dataframe thead th {\n",
       "        text-align: right;\n",
       "    }\n",
       "</style>\n",
       "<table border=\"1\" class=\"dataframe\">\n",
       "  <thead>\n",
       "    <tr style=\"text-align: right;\">\n",
       "      <th></th>\n",
       "      <th>Feature_name</th>\n",
       "      <th>Importance</th>\n",
       "    </tr>\n",
       "  </thead>\n",
       "  <tbody>\n",
       "    <tr>\n",
       "      <th>4</th>\n",
       "      <td>PAY_1</td>\n",
       "      <td>0.609609</td>\n",
       "    </tr>\n",
       "    <tr>\n",
       "      <th>11</th>\n",
       "      <td>PAY_AMT1</td>\n",
       "      <td>0.094123</td>\n",
       "    </tr>\n",
       "    <tr>\n",
       "      <th>0</th>\n",
       "      <td>LIMIT_BAL</td>\n",
       "      <td>0.079265</td>\n",
       "    </tr>\n",
       "    <tr>\n",
       "      <th>13</th>\n",
       "      <td>PAY_AMT3</td>\n",
       "      <td>0.047067</td>\n",
       "    </tr>\n",
       "    <tr>\n",
       "      <th>12</th>\n",
       "      <td>PAY_AMT2</td>\n",
       "      <td>0.035393</td>\n",
       "    </tr>\n",
       "    <tr>\n",
       "      <th>6</th>\n",
       "      <td>BILL_AMT2</td>\n",
       "      <td>0.022422</td>\n",
       "    </tr>\n",
       "    <tr>\n",
       "      <th>14</th>\n",
       "      <td>PAY_AMT4</td>\n",
       "      <td>0.021164</td>\n",
       "    </tr>\n",
       "    <tr>\n",
       "      <th>15</th>\n",
       "      <td>PAY_AMT5</td>\n",
       "      <td>0.015962</td>\n",
       "    </tr>\n",
       "    <tr>\n",
       "      <th>10</th>\n",
       "      <td>BILL_AMT6</td>\n",
       "      <td>0.014293</td>\n",
       "    </tr>\n",
       "    <tr>\n",
       "      <th>8</th>\n",
       "      <td>BILL_AMT4</td>\n",
       "      <td>0.013454</td>\n",
       "    </tr>\n",
       "    <tr>\n",
       "      <th>7</th>\n",
       "      <td>BILL_AMT3</td>\n",
       "      <td>0.013321</td>\n",
       "    </tr>\n",
       "    <tr>\n",
       "      <th>16</th>\n",
       "      <td>PAY_AMT6</td>\n",
       "      <td>0.011831</td>\n",
       "    </tr>\n",
       "    <tr>\n",
       "      <th>9</th>\n",
       "      <td>BILL_AMT5</td>\n",
       "      <td>0.011264</td>\n",
       "    </tr>\n",
       "    <tr>\n",
       "      <th>5</th>\n",
       "      <td>BILL_AMT1</td>\n",
       "      <td>0.008574</td>\n",
       "    </tr>\n",
       "    <tr>\n",
       "      <th>1</th>\n",
       "      <td>EDUCATION</td>\n",
       "      <td>0.001630</td>\n",
       "    </tr>\n",
       "    <tr>\n",
       "      <th>3</th>\n",
       "      <td>AGE</td>\n",
       "      <td>0.000459</td>\n",
       "    </tr>\n",
       "    <tr>\n",
       "      <th>2</th>\n",
       "      <td>MARRIAGE</td>\n",
       "      <td>0.000170</td>\n",
       "    </tr>\n",
       "  </tbody>\n",
       "</table>\n",
       "</div>"
      ],
      "text/plain": [
       "   Feature_name  Importance\n",
       "4         PAY_1    0.609609\n",
       "11     PAY_AMT1    0.094123\n",
       "0     LIMIT_BAL    0.079265\n",
       "13     PAY_AMT3    0.047067\n",
       "12     PAY_AMT2    0.035393\n",
       "6     BILL_AMT2    0.022422\n",
       "14     PAY_AMT4    0.021164\n",
       "15     PAY_AMT5    0.015962\n",
       "10    BILL_AMT6    0.014293\n",
       "8     BILL_AMT4    0.013454\n",
       "7     BILL_AMT3    0.013321\n",
       "16     PAY_AMT6    0.011831\n",
       "9     BILL_AMT5    0.011264\n",
       "5     BILL_AMT1    0.008574\n",
       "1     EDUCATION    0.001630\n",
       "3           AGE    0.000459\n",
       "2      MARRIAGE    0.000170"
      ]
     },
     "execution_count": 143,
     "metadata": {},
     "output_type": "execute_result"
    }
   ],
   "source": [
    "feat_imp_df = pd.DataFrame({'Feature_name':features_response[:-1],\n",
    "                            'Importance':cv_rf_ex.best_estimator_.feature_importances_})\n",
    "feat_imp_df.sort_values(by='Importance', ascending=False)"
   ]
  },
  {
   "cell_type": "markdown",
   "metadata": {},
   "source": [
    "The feature importance came from the best_estimator_ method of the fitted crossvalidation\n",
    "object. This is a way to access the random forest model object, that was\n",
    "trained on all the training data, using the best hyperparameters we viewed in the\n",
    "previous step. feature_importances_ is a method that can be used on fitted random\n",
    "forest models"
   ]
  },
  {
   "cell_type": "markdown",
   "metadata": {},
   "source": [
    "## Checkerboard Graph for visualisation of GridSearchCV\n"
   ]
  },
  {
   "cell_type": "markdown",
   "metadata": {},
   "source": [
    "In our case it is used to visualize model testing scores over a grid of two hyperparameters.\n",
    "\n",
    "\n",
    "USE:\n",
    "Plotting a two-dimensional grid with colored squares or other shapes on it, can be\n",
    "useful when you want to show three dimensions of data. Here, color illustrates the third\n",
    "dimension."
   ]
  },
  {
   "cell_type": "markdown",
   "metadata": {},
   "source": [
    "Goal : will conduct a grid search over the ***number of trees in the forest\n",
    "(n_estimators)*** and the ***maximum depth of a tree (max_depth)*** for a random forest model\n",
    "and then create a visualization showing the average testing\n",
    "score for the grid of hyperparameters that you searched over."
   ]
  },
  {
   "cell_type": "code",
   "execution_count": 144,
   "metadata": {},
   "outputs": [],
   "source": [
    "# rf_params = {'max_depths':[3,6,9,12],'n_estimators':[10, 50, 100, 200]}\n",
    "\n",
    "rf_param = {'max_depth':[3, 6, 9, 12],\n",
    "             'n_estimators':[10, 50, 100, 200]}"
   ]
  },
  {
   "cell_type": "code",
   "execution_count": 145,
   "metadata": {},
   "outputs": [],
   "source": [
    "\n",
    "cv_rf = GridSearchCV(rf, param_grid=rf_param, scoring='roc_auc',\n",
    "                  n_jobs=-1, refit=True, cv=4, verbose=2,\n",
    "                  error_score=np.nan, return_train_score=True)\n"
   ]
  },
  {
   "cell_type": "code",
   "execution_count": 146,
   "metadata": {},
   "outputs": [
    {
     "name": "stdout",
     "output_type": "stream",
     "text": [
      "Fitting 4 folds for each of 16 candidates, totalling 64 fits\n"
     ]
    },
    {
     "name": "stderr",
     "output_type": "stream",
     "text": [
      "[Parallel(n_jobs=-1)]: Using backend LokyBackend with 4 concurrent workers.\n",
      "[Parallel(n_jobs=-1)]: Done  33 tasks      | elapsed:   32.6s\n",
      "[Parallel(n_jobs=-1)]: Done  64 out of  64 | elapsed:  1.4min finished\n"
     ]
    },
    {
     "data": {
      "text/plain": [
       "GridSearchCV(cv=4, error_score=nan,\n",
       "             estimator=RandomForestClassifier(bootstrap=True, ccp_alpha=0.0,\n",
       "                                              class_weight=None,\n",
       "                                              criterion='gini', max_depth=3,\n",
       "                                              max_features='auto',\n",
       "                                              max_leaf_nodes=None,\n",
       "                                              max_samples=None,\n",
       "                                              min_impurity_decrease=0.0,\n",
       "                                              min_impurity_split=None,\n",
       "                                              min_samples_leaf=1,\n",
       "                                              min_samples_split=2,\n",
       "                                              min_weight_fraction_leaf=0.0,\n",
       "                                              n_estimators=10, n_jobs=None,\n",
       "                                              oob_score=True, random_state=4,\n",
       "                                              verbose=0, warm_start=False),\n",
       "             iid='deprecated', n_jobs=-1,\n",
       "             param_grid={'max_depth': [3, 6, 9, 12],\n",
       "                         'n_estimators': [10, 50, 100, 200]},\n",
       "             pre_dispatch='2*n_jobs', refit=True, return_train_score=True,\n",
       "             scoring='roc_auc', verbose=2)"
      ]
     },
     "execution_count": 146,
     "metadata": {},
     "output_type": "execute_result"
    }
   ],
   "source": [
    "cv_rf.fit(X_train, y_train)"
   ]
  },
  {
   "cell_type": "code",
   "execution_count": 147,
   "metadata": {},
   "outputs": [
    {
     "data": {
      "text/html": [
       "<div>\n",
       "<style scoped>\n",
       "    .dataframe tbody tr th:only-of-type {\n",
       "        vertical-align: middle;\n",
       "    }\n",
       "\n",
       "    .dataframe tbody tr th {\n",
       "        vertical-align: top;\n",
       "    }\n",
       "\n",
       "    .dataframe thead th {\n",
       "        text-align: right;\n",
       "    }\n",
       "</style>\n",
       "<table border=\"1\" class=\"dataframe\">\n",
       "  <thead>\n",
       "    <tr style=\"text-align: right;\">\n",
       "      <th></th>\n",
       "      <th>mean_fit_time</th>\n",
       "      <th>std_fit_time</th>\n",
       "      <th>mean_score_time</th>\n",
       "      <th>std_score_time</th>\n",
       "      <th>param_max_depth</th>\n",
       "      <th>param_n_estimators</th>\n",
       "      <th>params</th>\n",
       "      <th>split0_test_score</th>\n",
       "      <th>split1_test_score</th>\n",
       "      <th>split2_test_score</th>\n",
       "      <th>split3_test_score</th>\n",
       "      <th>mean_test_score</th>\n",
       "      <th>std_test_score</th>\n",
       "      <th>rank_test_score</th>\n",
       "      <th>split0_train_score</th>\n",
       "      <th>split1_train_score</th>\n",
       "      <th>split2_train_score</th>\n",
       "      <th>split3_train_score</th>\n",
       "      <th>mean_train_score</th>\n",
       "      <th>std_train_score</th>\n",
       "    </tr>\n",
       "  </thead>\n",
       "  <tbody>\n",
       "    <tr>\n",
       "      <th>0</th>\n",
       "      <td>0.416001</td>\n",
       "      <td>0.033347</td>\n",
       "      <td>0.018000</td>\n",
       "      <td>0.004473</td>\n",
       "      <td>3</td>\n",
       "      <td>10</td>\n",
       "      <td>{'max_depth': 3, 'n_estimators': 10}</td>\n",
       "      <td>0.739183</td>\n",
       "      <td>0.746599</td>\n",
       "      <td>0.772127</td>\n",
       "      <td>0.771322</td>\n",
       "      <td>0.757308</td>\n",
       "      <td>0.014656</td>\n",
       "      <td>15</td>\n",
       "      <td>0.767973</td>\n",
       "      <td>0.767158</td>\n",
       "      <td>0.760550</td>\n",
       "      <td>0.763683</td>\n",
       "      <td>0.764841</td>\n",
       "      <td>0.002955</td>\n",
       "    </tr>\n",
       "    <tr>\n",
       "      <th>1</th>\n",
       "      <td>1.860001</td>\n",
       "      <td>0.066513</td>\n",
       "      <td>0.073000</td>\n",
       "      <td>0.015589</td>\n",
       "      <td>3</td>\n",
       "      <td>50</td>\n",
       "      <td>{'max_depth': 3, 'n_estimators': 50}</td>\n",
       "      <td>0.748009</td>\n",
       "      <td>0.755878</td>\n",
       "      <td>0.779465</td>\n",
       "      <td>0.771250</td>\n",
       "      <td>0.763651</td>\n",
       "      <td>0.012379</td>\n",
       "      <td>12</td>\n",
       "      <td>0.775241</td>\n",
       "      <td>0.774025</td>\n",
       "      <td>0.765732</td>\n",
       "      <td>0.766947</td>\n",
       "      <td>0.770486</td>\n",
       "      <td>0.004191</td>\n",
       "    </tr>\n",
       "    <tr>\n",
       "      <th>2</th>\n",
       "      <td>3.652005</td>\n",
       "      <td>0.090376</td>\n",
       "      <td>0.126995</td>\n",
       "      <td>0.011094</td>\n",
       "      <td>3</td>\n",
       "      <td>100</td>\n",
       "      <td>{'max_depth': 3, 'n_estimators': 100}</td>\n",
       "      <td>0.747221</td>\n",
       "      <td>0.753924</td>\n",
       "      <td>0.779195</td>\n",
       "      <td>0.770937</td>\n",
       "      <td>0.762819</td>\n",
       "      <td>0.012811</td>\n",
       "      <td>13</td>\n",
       "      <td>0.774340</td>\n",
       "      <td>0.773598</td>\n",
       "      <td>0.766103</td>\n",
       "      <td>0.766914</td>\n",
       "      <td>0.770238</td>\n",
       "      <td>0.003750</td>\n",
       "    </tr>\n",
       "    <tr>\n",
       "      <th>3</th>\n",
       "      <td>5.266003</td>\n",
       "      <td>0.048784</td>\n",
       "      <td>0.163998</td>\n",
       "      <td>0.007482</td>\n",
       "      <td>3</td>\n",
       "      <td>200</td>\n",
       "      <td>{'max_depth': 3, 'n_estimators': 200}</td>\n",
       "      <td>0.747454</td>\n",
       "      <td>0.753057</td>\n",
       "      <td>0.777644</td>\n",
       "      <td>0.771729</td>\n",
       "      <td>0.762471</td>\n",
       "      <td>0.012550</td>\n",
       "      <td>14</td>\n",
       "      <td>0.774453</td>\n",
       "      <td>0.773534</td>\n",
       "      <td>0.766139</td>\n",
       "      <td>0.767404</td>\n",
       "      <td>0.770382</td>\n",
       "      <td>0.003653</td>\n",
       "    </tr>\n",
       "    <tr>\n",
       "      <th>4</th>\n",
       "      <td>0.408001</td>\n",
       "      <td>0.012649</td>\n",
       "      <td>0.014000</td>\n",
       "      <td>0.002000</td>\n",
       "      <td>6</td>\n",
       "      <td>10</td>\n",
       "      <td>{'max_depth': 6, 'n_estimators': 10}</td>\n",
       "      <td>0.752905</td>\n",
       "      <td>0.758904</td>\n",
       "      <td>0.780036</td>\n",
       "      <td>0.774017</td>\n",
       "      <td>0.766466</td>\n",
       "      <td>0.010980</td>\n",
       "      <td>11</td>\n",
       "      <td>0.795911</td>\n",
       "      <td>0.796476</td>\n",
       "      <td>0.793695</td>\n",
       "      <td>0.796446</td>\n",
       "      <td>0.795632</td>\n",
       "      <td>0.001141</td>\n",
       "    </tr>\n",
       "    <tr>\n",
       "      <th>5</th>\n",
       "      <td>2.022002</td>\n",
       "      <td>0.033165</td>\n",
       "      <td>0.050000</td>\n",
       "      <td>0.004472</td>\n",
       "      <td>6</td>\n",
       "      <td>50</td>\n",
       "      <td>{'max_depth': 6, 'n_estimators': 50}</td>\n",
       "      <td>0.760089</td>\n",
       "      <td>0.765251</td>\n",
       "      <td>0.788567</td>\n",
       "      <td>0.778669</td>\n",
       "      <td>0.773144</td>\n",
       "      <td>0.011193</td>\n",
       "      <td>8</td>\n",
       "      <td>0.807081</td>\n",
       "      <td>0.805109</td>\n",
       "      <td>0.799176</td>\n",
       "      <td>0.801229</td>\n",
       "      <td>0.803149</td>\n",
       "      <td>0.003113</td>\n",
       "    </tr>\n",
       "    <tr>\n",
       "      <th>6</th>\n",
       "      <td>3.902997</td>\n",
       "      <td>0.049106</td>\n",
       "      <td>0.089001</td>\n",
       "      <td>0.001732</td>\n",
       "      <td>6</td>\n",
       "      <td>100</td>\n",
       "      <td>{'max_depth': 6, 'n_estimators': 100}</td>\n",
       "      <td>0.760964</td>\n",
       "      <td>0.765515</td>\n",
       "      <td>0.788793</td>\n",
       "      <td>0.778936</td>\n",
       "      <td>0.773552</td>\n",
       "      <td>0.011004</td>\n",
       "      <td>7</td>\n",
       "      <td>0.808194</td>\n",
       "      <td>0.806130</td>\n",
       "      <td>0.800846</td>\n",
       "      <td>0.803123</td>\n",
       "      <td>0.804573</td>\n",
       "      <td>0.002808</td>\n",
       "    </tr>\n",
       "    <tr>\n",
       "      <th>7</th>\n",
       "      <td>7.497002</td>\n",
       "      <td>0.059153</td>\n",
       "      <td>0.197000</td>\n",
       "      <td>0.014249</td>\n",
       "      <td>6</td>\n",
       "      <td>200</td>\n",
       "      <td>{'max_depth': 6, 'n_estimators': 200}</td>\n",
       "      <td>0.761481</td>\n",
       "      <td>0.765319</td>\n",
       "      <td>0.787854</td>\n",
       "      <td>0.779745</td>\n",
       "      <td>0.773600</td>\n",
       "      <td>0.010682</td>\n",
       "      <td>6</td>\n",
       "      <td>0.808276</td>\n",
       "      <td>0.806853</td>\n",
       "      <td>0.800682</td>\n",
       "      <td>0.804006</td>\n",
       "      <td>0.804954</td>\n",
       "      <td>0.002906</td>\n",
       "    </tr>\n",
       "    <tr>\n",
       "      <th>8</th>\n",
       "      <td>0.554001</td>\n",
       "      <td>0.021633</td>\n",
       "      <td>0.018000</td>\n",
       "      <td>0.004473</td>\n",
       "      <td>9</td>\n",
       "      <td>10</td>\n",
       "      <td>{'max_depth': 9, 'n_estimators': 10}</td>\n",
       "      <td>0.757853</td>\n",
       "      <td>0.755444</td>\n",
       "      <td>0.781544</td>\n",
       "      <td>0.773823</td>\n",
       "      <td>0.767166</td>\n",
       "      <td>0.010899</td>\n",
       "      <td>10</td>\n",
       "      <td>0.854161</td>\n",
       "      <td>0.856197</td>\n",
       "      <td>0.850317</td>\n",
       "      <td>0.852039</td>\n",
       "      <td>0.853178</td>\n",
       "      <td>0.002211</td>\n",
       "    </tr>\n",
       "    <tr>\n",
       "      <th>9</th>\n",
       "      <td>2.557002</td>\n",
       "      <td>0.015066</td>\n",
       "      <td>0.060000</td>\n",
       "      <td>0.006324</td>\n",
       "      <td>9</td>\n",
       "      <td>50</td>\n",
       "      <td>{'max_depth': 9, 'n_estimators': 50}</td>\n",
       "      <td>0.763956</td>\n",
       "      <td>0.764420</td>\n",
       "      <td>0.786690</td>\n",
       "      <td>0.780255</td>\n",
       "      <td>0.773830</td>\n",
       "      <td>0.009908</td>\n",
       "      <td>4</td>\n",
       "      <td>0.867242</td>\n",
       "      <td>0.871380</td>\n",
       "      <td>0.868213</td>\n",
       "      <td>0.867390</td>\n",
       "      <td>0.868557</td>\n",
       "      <td>0.001672</td>\n",
       "    </tr>\n",
       "    <tr>\n",
       "      <th>10</th>\n",
       "      <td>5.159003</td>\n",
       "      <td>0.030249</td>\n",
       "      <td>0.115999</td>\n",
       "      <td>0.002830</td>\n",
       "      <td>9</td>\n",
       "      <td>100</td>\n",
       "      <td>{'max_depth': 9, 'n_estimators': 100}</td>\n",
       "      <td>0.763872</td>\n",
       "      <td>0.765788</td>\n",
       "      <td>0.789016</td>\n",
       "      <td>0.781199</td>\n",
       "      <td>0.774969</td>\n",
       "      <td>0.010530</td>\n",
       "      <td>3</td>\n",
       "      <td>0.872099</td>\n",
       "      <td>0.874119</td>\n",
       "      <td>0.870537</td>\n",
       "      <td>0.871196</td>\n",
       "      <td>0.871988</td>\n",
       "      <td>0.001350</td>\n",
       "    </tr>\n",
       "    <tr>\n",
       "      <th>11</th>\n",
       "      <td>11.021003</td>\n",
       "      <td>0.040829</td>\n",
       "      <td>0.224000</td>\n",
       "      <td>0.011999</td>\n",
       "      <td>9</td>\n",
       "      <td>200</td>\n",
       "      <td>{'max_depth': 9, 'n_estimators': 200}</td>\n",
       "      <td>0.764963</td>\n",
       "      <td>0.767541</td>\n",
       "      <td>0.790255</td>\n",
       "      <td>0.782034</td>\n",
       "      <td>0.776199</td>\n",
       "      <td>0.010402</td>\n",
       "      <td>1</td>\n",
       "      <td>0.873807</td>\n",
       "      <td>0.874909</td>\n",
       "      <td>0.871185</td>\n",
       "      <td>0.871246</td>\n",
       "      <td>0.872787</td>\n",
       "      <td>0.001619</td>\n",
       "    </tr>\n",
       "    <tr>\n",
       "      <th>12</th>\n",
       "      <td>0.655001</td>\n",
       "      <td>0.023386</td>\n",
       "      <td>0.017999</td>\n",
       "      <td>0.002000</td>\n",
       "      <td>12</td>\n",
       "      <td>10</td>\n",
       "      <td>{'max_depth': 12, 'n_estimators': 10}</td>\n",
       "      <td>0.754513</td>\n",
       "      <td>0.751116</td>\n",
       "      <td>0.764061</td>\n",
       "      <td>0.759223</td>\n",
       "      <td>0.757228</td>\n",
       "      <td>0.004884</td>\n",
       "      <td>16</td>\n",
       "      <td>0.922544</td>\n",
       "      <td>0.919157</td>\n",
       "      <td>0.926191</td>\n",
       "      <td>0.914636</td>\n",
       "      <td>0.920632</td>\n",
       "      <td>0.004263</td>\n",
       "    </tr>\n",
       "    <tr>\n",
       "      <th>13</th>\n",
       "      <td>3.091000</td>\n",
       "      <td>0.019673</td>\n",
       "      <td>0.071001</td>\n",
       "      <td>0.008186</td>\n",
       "      <td>12</td>\n",
       "      <td>50</td>\n",
       "      <td>{'max_depth': 12, 'n_estimators': 50}</td>\n",
       "      <td>0.763750</td>\n",
       "      <td>0.763663</td>\n",
       "      <td>0.780781</td>\n",
       "      <td>0.778086</td>\n",
       "      <td>0.771570</td>\n",
       "      <td>0.007921</td>\n",
       "      <td>9</td>\n",
       "      <td>0.940170</td>\n",
       "      <td>0.943000</td>\n",
       "      <td>0.942297</td>\n",
       "      <td>0.937049</td>\n",
       "      <td>0.940629</td>\n",
       "      <td>0.002315</td>\n",
       "    </tr>\n",
       "    <tr>\n",
       "      <th>14</th>\n",
       "      <td>6.698006</td>\n",
       "      <td>0.158738</td>\n",
       "      <td>0.148997</td>\n",
       "      <td>0.017054</td>\n",
       "      <td>12</td>\n",
       "      <td>100</td>\n",
       "      <td>{'max_depth': 12, 'n_estimators': 100}</td>\n",
       "      <td>0.765665</td>\n",
       "      <td>0.765061</td>\n",
       "      <td>0.783413</td>\n",
       "      <td>0.781119</td>\n",
       "      <td>0.773815</td>\n",
       "      <td>0.008493</td>\n",
       "      <td>5</td>\n",
       "      <td>0.942902</td>\n",
       "      <td>0.946968</td>\n",
       "      <td>0.946109</td>\n",
       "      <td>0.942448</td>\n",
       "      <td>0.944607</td>\n",
       "      <td>0.001962</td>\n",
       "    </tr>\n",
       "    <tr>\n",
       "      <th>15</th>\n",
       "      <td>16.861518</td>\n",
       "      <td>0.109595</td>\n",
       "      <td>0.262999</td>\n",
       "      <td>0.004359</td>\n",
       "      <td>12</td>\n",
       "      <td>200</td>\n",
       "      <td>{'max_depth': 12, 'n_estimators': 200}</td>\n",
       "      <td>0.765910</td>\n",
       "      <td>0.766963</td>\n",
       "      <td>0.785611</td>\n",
       "      <td>0.783513</td>\n",
       "      <td>0.775499</td>\n",
       "      <td>0.009101</td>\n",
       "      <td>2</td>\n",
       "      <td>0.945018</td>\n",
       "      <td>0.949378</td>\n",
       "      <td>0.946415</td>\n",
       "      <td>0.944689</td>\n",
       "      <td>0.946375</td>\n",
       "      <td>0.001851</td>\n",
       "    </tr>\n",
       "  </tbody>\n",
       "</table>\n",
       "</div>"
      ],
      "text/plain": [
       "    mean_fit_time  std_fit_time  mean_score_time  std_score_time  \\\n",
       "0        0.416001      0.033347         0.018000        0.004473   \n",
       "1        1.860001      0.066513         0.073000        0.015589   \n",
       "2        3.652005      0.090376         0.126995        0.011094   \n",
       "3        5.266003      0.048784         0.163998        0.007482   \n",
       "4        0.408001      0.012649         0.014000        0.002000   \n",
       "5        2.022002      0.033165         0.050000        0.004472   \n",
       "6        3.902997      0.049106         0.089001        0.001732   \n",
       "7        7.497002      0.059153         0.197000        0.014249   \n",
       "8        0.554001      0.021633         0.018000        0.004473   \n",
       "9        2.557002      0.015066         0.060000        0.006324   \n",
       "10       5.159003      0.030249         0.115999        0.002830   \n",
       "11      11.021003      0.040829         0.224000        0.011999   \n",
       "12       0.655001      0.023386         0.017999        0.002000   \n",
       "13       3.091000      0.019673         0.071001        0.008186   \n",
       "14       6.698006      0.158738         0.148997        0.017054   \n",
       "15      16.861518      0.109595         0.262999        0.004359   \n",
       "\n",
       "   param_max_depth param_n_estimators                                  params  \\\n",
       "0                3                 10    {'max_depth': 3, 'n_estimators': 10}   \n",
       "1                3                 50    {'max_depth': 3, 'n_estimators': 50}   \n",
       "2                3                100   {'max_depth': 3, 'n_estimators': 100}   \n",
       "3                3                200   {'max_depth': 3, 'n_estimators': 200}   \n",
       "4                6                 10    {'max_depth': 6, 'n_estimators': 10}   \n",
       "5                6                 50    {'max_depth': 6, 'n_estimators': 50}   \n",
       "6                6                100   {'max_depth': 6, 'n_estimators': 100}   \n",
       "7                6                200   {'max_depth': 6, 'n_estimators': 200}   \n",
       "8                9                 10    {'max_depth': 9, 'n_estimators': 10}   \n",
       "9                9                 50    {'max_depth': 9, 'n_estimators': 50}   \n",
       "10               9                100   {'max_depth': 9, 'n_estimators': 100}   \n",
       "11               9                200   {'max_depth': 9, 'n_estimators': 200}   \n",
       "12              12                 10   {'max_depth': 12, 'n_estimators': 10}   \n",
       "13              12                 50   {'max_depth': 12, 'n_estimators': 50}   \n",
       "14              12                100  {'max_depth': 12, 'n_estimators': 100}   \n",
       "15              12                200  {'max_depth': 12, 'n_estimators': 200}   \n",
       "\n",
       "    split0_test_score  split1_test_score  split2_test_score  \\\n",
       "0            0.739183           0.746599           0.772127   \n",
       "1            0.748009           0.755878           0.779465   \n",
       "2            0.747221           0.753924           0.779195   \n",
       "3            0.747454           0.753057           0.777644   \n",
       "4            0.752905           0.758904           0.780036   \n",
       "5            0.760089           0.765251           0.788567   \n",
       "6            0.760964           0.765515           0.788793   \n",
       "7            0.761481           0.765319           0.787854   \n",
       "8            0.757853           0.755444           0.781544   \n",
       "9            0.763956           0.764420           0.786690   \n",
       "10           0.763872           0.765788           0.789016   \n",
       "11           0.764963           0.767541           0.790255   \n",
       "12           0.754513           0.751116           0.764061   \n",
       "13           0.763750           0.763663           0.780781   \n",
       "14           0.765665           0.765061           0.783413   \n",
       "15           0.765910           0.766963           0.785611   \n",
       "\n",
       "    split3_test_score  mean_test_score  std_test_score  rank_test_score  \\\n",
       "0            0.771322         0.757308        0.014656               15   \n",
       "1            0.771250         0.763651        0.012379               12   \n",
       "2            0.770937         0.762819        0.012811               13   \n",
       "3            0.771729         0.762471        0.012550               14   \n",
       "4            0.774017         0.766466        0.010980               11   \n",
       "5            0.778669         0.773144        0.011193                8   \n",
       "6            0.778936         0.773552        0.011004                7   \n",
       "7            0.779745         0.773600        0.010682                6   \n",
       "8            0.773823         0.767166        0.010899               10   \n",
       "9            0.780255         0.773830        0.009908                4   \n",
       "10           0.781199         0.774969        0.010530                3   \n",
       "11           0.782034         0.776199        0.010402                1   \n",
       "12           0.759223         0.757228        0.004884               16   \n",
       "13           0.778086         0.771570        0.007921                9   \n",
       "14           0.781119         0.773815        0.008493                5   \n",
       "15           0.783513         0.775499        0.009101                2   \n",
       "\n",
       "    split0_train_score  split1_train_score  split2_train_score  \\\n",
       "0             0.767973            0.767158            0.760550   \n",
       "1             0.775241            0.774025            0.765732   \n",
       "2             0.774340            0.773598            0.766103   \n",
       "3             0.774453            0.773534            0.766139   \n",
       "4             0.795911            0.796476            0.793695   \n",
       "5             0.807081            0.805109            0.799176   \n",
       "6             0.808194            0.806130            0.800846   \n",
       "7             0.808276            0.806853            0.800682   \n",
       "8             0.854161            0.856197            0.850317   \n",
       "9             0.867242            0.871380            0.868213   \n",
       "10            0.872099            0.874119            0.870537   \n",
       "11            0.873807            0.874909            0.871185   \n",
       "12            0.922544            0.919157            0.926191   \n",
       "13            0.940170            0.943000            0.942297   \n",
       "14            0.942902            0.946968            0.946109   \n",
       "15            0.945018            0.949378            0.946415   \n",
       "\n",
       "    split3_train_score  mean_train_score  std_train_score  \n",
       "0             0.763683          0.764841         0.002955  \n",
       "1             0.766947          0.770486         0.004191  \n",
       "2             0.766914          0.770238         0.003750  \n",
       "3             0.767404          0.770382         0.003653  \n",
       "4             0.796446          0.795632         0.001141  \n",
       "5             0.801229          0.803149         0.003113  \n",
       "6             0.803123          0.804573         0.002808  \n",
       "7             0.804006          0.804954         0.002906  \n",
       "8             0.852039          0.853178         0.002211  \n",
       "9             0.867390          0.868557         0.001672  \n",
       "10            0.871196          0.871988         0.001350  \n",
       "11            0.871246          0.872787         0.001619  \n",
       "12            0.914636          0.920632         0.004263  \n",
       "13            0.937049          0.940629         0.002315  \n",
       "14            0.942448          0.944607         0.001962  \n",
       "15            0.944689          0.946375         0.001851  "
      ]
     },
     "execution_count": 147,
     "metadata": {},
     "output_type": "execute_result"
    }
   ],
   "source": [
    "cv_rf_results_df = pd.DataFrame(cv_rf.cv_results_)\n",
    "cv_rf_results_df"
   ]
  },
  {
   "cell_type": "code",
   "execution_count": null,
   "metadata": {},
   "outputs": [],
   "source": []
  },
  {
   "cell_type": "code",
   "execution_count": 148,
   "metadata": {},
   "outputs": [
    {
     "name": "stdout",
     "output_type": "stream",
     "text": [
      "[[0 1 2 3 4]\n",
      " [0 1 2 3 4]\n",
      " [0 1 2 3 4]\n",
      " [0 1 2 3 4]\n",
      " [0 1 2 3 4]]\n",
      "[[0 0 0 0 0]\n",
      " [1 1 1 1 1]\n",
      " [2 2 2 2 2]\n",
      " [3 3 3 3 3]\n",
      " [4 4 4 4 4]]\n"
     ]
    }
   ],
   "source": [
    "xx_rf, yy_rf = np.meshgrid(range(5), range(5))\n",
    "print(xx_rf)\n",
    "print(yy_rf)"
   ]
  },
  {
   "cell_type": "code",
   "execution_count": 149,
   "metadata": {},
   "outputs": [],
   "source": [
    "cm_rf = plt.cm.jet"
   ]
  },
  {
   "cell_type": "code",
   "execution_count": 217,
   "metadata": {},
   "outputs": [
    {
     "data": {
      "image/png": "[encoded data removed]",
      "text/plain": [
       "<Figure size 480x320 with 2 Axes>"
      ]
     },
     "metadata": {
      "needs_background": "light"
     },
     "output_type": "display_data"
    }
   ],
   "source": [
    "ax_rf = plt.axes()\n",
    "pcolor_graph = ax_rf.pcolormesh(xx_rf, yy_rf, cv_rf_results_df['mean_test_score'].values.reshape((4,4)),cmap = cm_rf)\n",
    "plt.colorbar(pcolor_graph, label=\"Average testing ROC AUC\")\n",
    "ax_rf.set_aspect('equal')\n",
    "ax_rf.set_xticks([0.5, 1.5, 2.5, 3.5])\n",
    "ax_rf.set_yticks([0.5, 1.5, 2.5, 3.5])\n",
    "ax_rf.set_xlabel('Number of trees')\n",
    "ax_rf.set_ylabel('Maximum depth')\n",
    "ax_rf.set_xticklabels([str(tick_label) for tick_label in rf_param['n_estimators']])\n",
    "ax_rf.set_yticklabels([str(tick_label) for tick_label in rf_param['max_depth']]);"
   ]
  },
  {
   "cell_type": "code",
   "execution_count": null,
   "metadata": {},
   "outputs": [],
   "source": [
    "cv_rf.best_params_"
   ]
  },
  {
   "cell_type": "code",
   "execution_count": null,
   "metadata": {},
   "outputs": [],
   "source": [
    "feat_imp_df = pd.DataFrame({'Feature_Name':features_response[:-1],\n",
    "                            'Importance': cv_rf.best_estimator_.feature_importances_})\n"
   ]
  },
  {
   "cell_type": "code",
   "execution_count": null,
   "metadata": {},
   "outputs": [],
   "source": [
    "feat_imp_df.sort_values('Importance', ascending=False)"
   ]
  },
  {
   "cell_type": "markdown",
   "metadata": {},
   "source": [
    "# Dealing with Missing Data: Imputation Strategies"
   ]
  },
  {
   "cell_type": "markdown",
   "metadata": {},
   "source": [
    "Instead of ignoring the samples with\n",
    "missing data, another option is to use some method to fill in missing values of affected\n",
    "features. This filling in is known as imputation."
   ]
  },
  {
   "cell_type": "markdown",
   "metadata": {},
   "source": [
    "### Cleaning the dataset"
   ]
  },
  {
   "cell_type": "code",
   "execution_count": 151,
   "metadata": {},
   "outputs": [
    {
     "data": {
      "text/html": [
       "<div>\n",
       "<style scoped>\n",
       "    .dataframe tbody tr th:only-of-type {\n",
       "        vertical-align: middle;\n",
       "    }\n",
       "\n",
       "    .dataframe tbody tr th {\n",
       "        vertical-align: top;\n",
       "    }\n",
       "\n",
       "    .dataframe thead th {\n",
       "        text-align: right;\n",
       "    }\n",
       "</style>\n",
       "<table border=\"1\" class=\"dataframe\">\n",
       "  <thead>\n",
       "    <tr style=\"text-align: right;\">\n",
       "      <th></th>\n",
       "      <th>ID</th>\n",
       "      <th>LIMIT_BAL</th>\n",
       "      <th>SEX</th>\n",
       "      <th>EDUCATION</th>\n",
       "      <th>MARRIAGE</th>\n",
       "      <th>AGE</th>\n",
       "      <th>PAY_1</th>\n",
       "      <th>PAY_2</th>\n",
       "      <th>PAY_3</th>\n",
       "      <th>PAY_4</th>\n",
       "      <th>...</th>\n",
       "      <th>BILL_AMT4</th>\n",
       "      <th>BILL_AMT5</th>\n",
       "      <th>BILL_AMT6</th>\n",
       "      <th>PAY_AMT1</th>\n",
       "      <th>PAY_AMT2</th>\n",
       "      <th>PAY_AMT3</th>\n",
       "      <th>PAY_AMT4</th>\n",
       "      <th>PAY_AMT5</th>\n",
       "      <th>PAY_AMT6</th>\n",
       "      <th>default_payment_next_month</th>\n",
       "    </tr>\n",
       "  </thead>\n",
       "  <tbody>\n",
       "    <tr>\n",
       "      <th>0</th>\n",
       "      <td>798fc410-45c1</td>\n",
       "      <td>20000</td>\n",
       "      <td>2</td>\n",
       "      <td>2</td>\n",
       "      <td>1</td>\n",
       "      <td>24</td>\n",
       "      <td>2</td>\n",
       "      <td>2</td>\n",
       "      <td>-1</td>\n",
       "      <td>-1</td>\n",
       "      <td>...</td>\n",
       "      <td>0</td>\n",
       "      <td>0</td>\n",
       "      <td>0</td>\n",
       "      <td>0</td>\n",
       "      <td>689</td>\n",
       "      <td>0</td>\n",
       "      <td>0</td>\n",
       "      <td>0</td>\n",
       "      <td>0</td>\n",
       "      <td>1</td>\n",
       "    </tr>\n",
       "    <tr>\n",
       "      <th>1</th>\n",
       "      <td>8a8c8f3b-8eb4</td>\n",
       "      <td>120000</td>\n",
       "      <td>2</td>\n",
       "      <td>2</td>\n",
       "      <td>2</td>\n",
       "      <td>26</td>\n",
       "      <td>-1</td>\n",
       "      <td>2</td>\n",
       "      <td>0</td>\n",
       "      <td>0</td>\n",
       "      <td>...</td>\n",
       "      <td>3272</td>\n",
       "      <td>3455</td>\n",
       "      <td>3261</td>\n",
       "      <td>0</td>\n",
       "      <td>1000</td>\n",
       "      <td>1000</td>\n",
       "      <td>1000</td>\n",
       "      <td>0</td>\n",
       "      <td>2000</td>\n",
       "      <td>1</td>\n",
       "    </tr>\n",
       "    <tr>\n",
       "      <th>2</th>\n",
       "      <td>85698822-43f5</td>\n",
       "      <td>90000</td>\n",
       "      <td>2</td>\n",
       "      <td>2</td>\n",
       "      <td>2</td>\n",
       "      <td>34</td>\n",
       "      <td>0</td>\n",
       "      <td>0</td>\n",
       "      <td>0</td>\n",
       "      <td>0</td>\n",
       "      <td>...</td>\n",
       "      <td>14331</td>\n",
       "      <td>14948</td>\n",
       "      <td>15549</td>\n",
       "      <td>1518</td>\n",
       "      <td>1500</td>\n",
       "      <td>1000</td>\n",
       "      <td>1000</td>\n",
       "      <td>1000</td>\n",
       "      <td>5000</td>\n",
       "      <td>0</td>\n",
       "    </tr>\n",
       "    <tr>\n",
       "      <th>3</th>\n",
       "      <td>0737c11b-be42</td>\n",
       "      <td>50000</td>\n",
       "      <td>2</td>\n",
       "      <td>2</td>\n",
       "      <td>1</td>\n",
       "      <td>37</td>\n",
       "      <td>0</td>\n",
       "      <td>0</td>\n",
       "      <td>0</td>\n",
       "      <td>0</td>\n",
       "      <td>...</td>\n",
       "      <td>28314</td>\n",
       "      <td>28959</td>\n",
       "      <td>29547</td>\n",
       "      <td>2000</td>\n",
       "      <td>2019</td>\n",
       "      <td>1200</td>\n",
       "      <td>1100</td>\n",
       "      <td>1069</td>\n",
       "      <td>1000</td>\n",
       "      <td>0</td>\n",
       "    </tr>\n",
       "    <tr>\n",
       "      <th>4</th>\n",
       "      <td>3b7f77cc-dbc0</td>\n",
       "      <td>50000</td>\n",
       "      <td>1</td>\n",
       "      <td>2</td>\n",
       "      <td>1</td>\n",
       "      <td>57</td>\n",
       "      <td>-1</td>\n",
       "      <td>0</td>\n",
       "      <td>-1</td>\n",
       "      <td>0</td>\n",
       "      <td>...</td>\n",
       "      <td>20940</td>\n",
       "      <td>19146</td>\n",
       "      <td>19131</td>\n",
       "      <td>2000</td>\n",
       "      <td>36681</td>\n",
       "      <td>10000</td>\n",
       "      <td>9000</td>\n",
       "      <td>689</td>\n",
       "      <td>679</td>\n",
       "      <td>0</td>\n",
       "    </tr>\n",
       "  </tbody>\n",
       "</table>\n",
       "<p>5 rows × 25 columns</p>\n",
       "</div>"
      ],
      "text/plain": [
       "              ID  LIMIT_BAL  SEX  EDUCATION  MARRIAGE  AGE PAY_1  PAY_2  \\\n",
       "0  798fc410-45c1      20000    2          2         1   24     2      2   \n",
       "1  8a8c8f3b-8eb4     120000    2          2         2   26    -1      2   \n",
       "2  85698822-43f5      90000    2          2         2   34     0      0   \n",
       "3  0737c11b-be42      50000    2          2         1   37     0      0   \n",
       "4  3b7f77cc-dbc0      50000    1          2         1   57    -1      0   \n",
       "\n",
       "   PAY_3  PAY_4  ...  BILL_AMT4  BILL_AMT5  BILL_AMT6  PAY_AMT1  PAY_AMT2  \\\n",
       "0     -1     -1  ...          0          0          0         0       689   \n",
       "1      0      0  ...       3272       3455       3261         0      1000   \n",
       "2      0      0  ...      14331      14948      15549      1518      1500   \n",
       "3      0      0  ...      28314      28959      29547      2000      2019   \n",
       "4     -1      0  ...      20940      19146      19131      2000     36681   \n",
       "\n",
       "   PAY_AMT3  PAY_AMT4  PAY_AMT5  PAY_AMT6  default_payment_next_month  \n",
       "0         0         0         0         0                           1  \n",
       "1      1000      1000         0      2000                           1  \n",
       "2      1000      1000      1000      5000                           0  \n",
       "3      1200      1100      1069      1000                           0  \n",
       "4     10000      9000       689       679                           0  \n",
       "\n",
       "[5 rows x 25 columns]"
      ]
     },
     "execution_count": 151,
     "metadata": {},
     "output_type": "execute_result"
    }
   ],
   "source": [
    "df1 = pd.read_excel('default_of_credit_card_clients__courseware_version_1_21_19.xls')\n",
    "\n",
    "df1.rename({'default payment next month':'default_payment_next_month'},axis=1,inplace=True)\n",
    "df1.head()\n"
   ]
  },
  {
   "cell_type": "code",
   "execution_count": 152,
   "metadata": {},
   "outputs": [
    {
     "data": {
      "text/plain": [
       "315"
      ]
     },
     "execution_count": 152,
     "metadata": {},
     "output_type": "execute_result"
    }
   ],
   "source": [
    "# identify and drop all the samples whose all features are zero\n",
    "\n",
    "df_zero_mask = df1==0\n",
    "feature_mask = df_zero_mask.iloc[:,1:].all(axis=1)\n",
    "sum(feature_mask)\n"
   ]
  },
  {
   "cell_type": "code",
   "execution_count": 153,
   "metadata": {},
   "outputs": [
    {
     "data": {
      "text/plain": [
       "(26664, 29)"
      ]
     },
     "execution_count": 153,
     "metadata": {},
     "output_type": "execute_result"
    }
   ],
   "source": [
    "df_clean1 = df1.loc[~feature_mask, :].copy()\n",
    "df_clean1.shape\n",
    "clean_df.shape"
   ]
  },
  {
   "cell_type": "code",
   "execution_count": 154,
   "metadata": {},
   "outputs": [],
   "source": [
    "df_clean1['EDUCATION'].replace(to_replace=[0, 5, 6], value=4, inplace=True)\n",
    "df_clean1['MARRIAGE'].replace(to_replace=0, value=3, inplace=True)"
   ]
  },
  {
   "cell_type": "code",
   "execution_count": 155,
   "metadata": {},
   "outputs": [
    {
     "data": {
      "text/plain": [
       "0                13087\n",
       "-1                5047\n",
       "1                 3261\n",
       "Not available     3021\n",
       "-2                2476\n",
       "2                 2378\n",
       "3                  292\n",
       "4                   63\n",
       "5                   23\n",
       "8                   17\n",
       "6                   11\n",
       "7                    9\n",
       "Name: PAY_1, dtype: int64"
      ]
     },
     "execution_count": 155,
     "metadata": {},
     "output_type": "execute_result"
    }
   ],
   "source": [
    "df_clean1['PAY_1'].value_counts()"
   ]
  },
  {
   "cell_type": "code",
   "execution_count": 156,
   "metadata": {},
   "outputs": [],
   "source": [
    "# using  a boolean mask to identify \"Not available\" values\n",
    "\n",
    "missing_pay1_mask = df_clean1['PAY_1'] == 'Not available'\n",
    "\n",
    "# convert numbers in EDUCATION column to their respective category\n",
    "mapping = {1: 'graduate_school', 2 :'university', 3 : 'high_school', 4: 'others'}\n",
    "ss = df_clean1['EDUCATION'].map(mapping)\n",
    "set1 = pd.get_dummies(ss)  # using one hot encoding \n",
    "#concatenate set1 with clean_df dataset\n",
    "df_clean1 = pd.concat([df_clean1,set1], axis=1)\n",
    "\n",
    "# making a copy of these rows in a new dataframe and we will add these later\n",
    "df_missing_pay1 = df_clean1.loc[missing_pay1_mask,:].copy()\n"
   ]
  },
  {
   "cell_type": "markdown",
   "metadata": {},
   "source": [
    "# Method 1: Mode and Random Imputation of PAY_1"
   ]
  },
  {
   "cell_type": "markdown",
   "metadata": {},
   "source": [
    "we will try some of the simpler imputation strategies available for PAY_1\n",
    "and see their effects on cross-validation performance"
   ]
  },
  {
   "cell_type": "code",
   "execution_count": 157,
   "metadata": {},
   "outputs": [
    {
     "data": {
      "text/html": [
       "<div>\n",
       "<style scoped>\n",
       "    .dataframe tbody tr th:only-of-type {\n",
       "        vertical-align: middle;\n",
       "    }\n",
       "\n",
       "    .dataframe tbody tr th {\n",
       "        vertical-align: top;\n",
       "    }\n",
       "\n",
       "    .dataframe thead th {\n",
       "        text-align: right;\n",
       "    }\n",
       "</style>\n",
       "<table border=\"1\" class=\"dataframe\">\n",
       "  <thead>\n",
       "    <tr style=\"text-align: right;\">\n",
       "      <th></th>\n",
       "      <th>ID</th>\n",
       "      <th>LIMIT_BAL</th>\n",
       "      <th>SEX</th>\n",
       "      <th>EDUCATION</th>\n",
       "      <th>MARRIAGE</th>\n",
       "      <th>AGE</th>\n",
       "      <th>PAY_1</th>\n",
       "      <th>PAY_2</th>\n",
       "      <th>PAY_3</th>\n",
       "      <th>PAY_4</th>\n",
       "      <th>...</th>\n",
       "      <th>PAY_AMT2</th>\n",
       "      <th>PAY_AMT3</th>\n",
       "      <th>PAY_AMT4</th>\n",
       "      <th>PAY_AMT5</th>\n",
       "      <th>PAY_AMT6</th>\n",
       "      <th>default_payment_next_month</th>\n",
       "      <th>graduate_school</th>\n",
       "      <th>high_school</th>\n",
       "      <th>others</th>\n",
       "      <th>university</th>\n",
       "    </tr>\n",
       "  </thead>\n",
       "  <tbody>\n",
       "    <tr>\n",
       "      <th>0</th>\n",
       "      <td>798fc410-45c1</td>\n",
       "      <td>20000</td>\n",
       "      <td>2</td>\n",
       "      <td>2</td>\n",
       "      <td>1</td>\n",
       "      <td>24</td>\n",
       "      <td>2</td>\n",
       "      <td>2</td>\n",
       "      <td>-1</td>\n",
       "      <td>-1</td>\n",
       "      <td>...</td>\n",
       "      <td>689</td>\n",
       "      <td>0</td>\n",
       "      <td>0</td>\n",
       "      <td>0</td>\n",
       "      <td>0</td>\n",
       "      <td>1</td>\n",
       "      <td>0</td>\n",
       "      <td>0</td>\n",
       "      <td>0</td>\n",
       "      <td>1</td>\n",
       "    </tr>\n",
       "    <tr>\n",
       "      <th>1</th>\n",
       "      <td>8a8c8f3b-8eb4</td>\n",
       "      <td>120000</td>\n",
       "      <td>2</td>\n",
       "      <td>2</td>\n",
       "      <td>2</td>\n",
       "      <td>26</td>\n",
       "      <td>-1</td>\n",
       "      <td>2</td>\n",
       "      <td>0</td>\n",
       "      <td>0</td>\n",
       "      <td>...</td>\n",
       "      <td>1000</td>\n",
       "      <td>1000</td>\n",
       "      <td>1000</td>\n",
       "      <td>0</td>\n",
       "      <td>2000</td>\n",
       "      <td>1</td>\n",
       "      <td>0</td>\n",
       "      <td>0</td>\n",
       "      <td>0</td>\n",
       "      <td>1</td>\n",
       "    </tr>\n",
       "    <tr>\n",
       "      <th>2</th>\n",
       "      <td>85698822-43f5</td>\n",
       "      <td>90000</td>\n",
       "      <td>2</td>\n",
       "      <td>2</td>\n",
       "      <td>2</td>\n",
       "      <td>34</td>\n",
       "      <td>0</td>\n",
       "      <td>0</td>\n",
       "      <td>0</td>\n",
       "      <td>0</td>\n",
       "      <td>...</td>\n",
       "      <td>1500</td>\n",
       "      <td>1000</td>\n",
       "      <td>1000</td>\n",
       "      <td>1000</td>\n",
       "      <td>5000</td>\n",
       "      <td>0</td>\n",
       "      <td>0</td>\n",
       "      <td>0</td>\n",
       "      <td>0</td>\n",
       "      <td>1</td>\n",
       "    </tr>\n",
       "    <tr>\n",
       "      <th>3</th>\n",
       "      <td>0737c11b-be42</td>\n",
       "      <td>50000</td>\n",
       "      <td>2</td>\n",
       "      <td>2</td>\n",
       "      <td>1</td>\n",
       "      <td>37</td>\n",
       "      <td>0</td>\n",
       "      <td>0</td>\n",
       "      <td>0</td>\n",
       "      <td>0</td>\n",
       "      <td>...</td>\n",
       "      <td>2019</td>\n",
       "      <td>1200</td>\n",
       "      <td>1100</td>\n",
       "      <td>1069</td>\n",
       "      <td>1000</td>\n",
       "      <td>0</td>\n",
       "      <td>0</td>\n",
       "      <td>0</td>\n",
       "      <td>0</td>\n",
       "      <td>1</td>\n",
       "    </tr>\n",
       "    <tr>\n",
       "      <th>4</th>\n",
       "      <td>3b7f77cc-dbc0</td>\n",
       "      <td>50000</td>\n",
       "      <td>1</td>\n",
       "      <td>2</td>\n",
       "      <td>1</td>\n",
       "      <td>57</td>\n",
       "      <td>-1</td>\n",
       "      <td>0</td>\n",
       "      <td>-1</td>\n",
       "      <td>0</td>\n",
       "      <td>...</td>\n",
       "      <td>36681</td>\n",
       "      <td>10000</td>\n",
       "      <td>9000</td>\n",
       "      <td>689</td>\n",
       "      <td>679</td>\n",
       "      <td>0</td>\n",
       "      <td>0</td>\n",
       "      <td>0</td>\n",
       "      <td>0</td>\n",
       "      <td>1</td>\n",
       "    </tr>\n",
       "  </tbody>\n",
       "</table>\n",
       "<p>5 rows × 29 columns</p>\n",
       "</div>"
      ],
      "text/plain": [
       "              ID  LIMIT_BAL  SEX  EDUCATION  MARRIAGE  AGE  PAY_1  PAY_2  \\\n",
       "0  798fc410-45c1      20000    2          2         1   24      2      2   \n",
       "1  8a8c8f3b-8eb4     120000    2          2         2   26     -1      2   \n",
       "2  85698822-43f5      90000    2          2         2   34      0      0   \n",
       "3  0737c11b-be42      50000    2          2         1   37      0      0   \n",
       "4  3b7f77cc-dbc0      50000    1          2         1   57     -1      0   \n",
       "\n",
       "   PAY_3  PAY_4  ...  PAY_AMT2  PAY_AMT3  PAY_AMT4  PAY_AMT5  PAY_AMT6  \\\n",
       "0     -1     -1  ...       689         0         0         0         0   \n",
       "1      0      0  ...      1000      1000      1000         0      2000   \n",
       "2      0      0  ...      1500      1000      1000      1000      5000   \n",
       "3      0      0  ...      2019      1200      1100      1069      1000   \n",
       "4     -1      0  ...     36681     10000      9000       689       679   \n",
       "\n",
       "   default_payment_next_month  graduate_school  high_school  others  \\\n",
       "0                           1                0            0       0   \n",
       "1                           1                0            0       0   \n",
       "2                           0                0            0       0   \n",
       "3                           0                0            0       0   \n",
       "4                           0                0            0       0   \n",
       "\n",
       "   university  \n",
       "0           1  \n",
       "1           1  \n",
       "2           1  \n",
       "3           1  \n",
       "4           1  \n",
       "\n",
       "[5 rows x 29 columns]"
      ]
     },
     "execution_count": 157,
     "metadata": {},
     "output_type": "execute_result"
    }
   ],
   "source": [
    "# loading the cleaned dataset again with PAY_1 missign values removed (clean_df)\n",
    "\n",
    "clean_df.head()  # dataframe with PAY_1 missing values removed\n"
   ]
  },
  {
   "cell_type": "code",
   "execution_count": 158,
   "metadata": {},
   "outputs": [],
   "source": [
    "from sklearn.model_selection import train_test_split"
   ]
  },
  {
   "cell_type": "code",
   "execution_count": 159,
   "metadata": {},
   "outputs": [],
   "source": [
    "X_train, X_test, y_train, y_test = train_test_split(clean_df[features_response[:-1]].values,\n",
    "                                                    clean_df['default_payment_next_month'].values,\n",
    "                                                    test_size=0.2, random_state=24)"
   ]
  },
  {
   "cell_type": "code",
   "execution_count": 160,
   "metadata": {},
   "outputs": [
    {
     "data": {
      "text/plain": [
       "'PAY_1'"
      ]
     },
     "execution_count": 160,
     "metadata": {},
     "output_type": "execute_result"
    }
   ],
   "source": [
    "#Noting down the column number of PAY_1\n",
    "features_response[4]"
   ]
  },
  {
   "cell_type": "code",
   "execution_count": 161,
   "metadata": {},
   "outputs": [
    {
     "data": {
      "text/plain": [
       "0.0"
      ]
     },
     "execution_count": 161,
     "metadata": {},
     "output_type": "execute_result"
    }
   ],
   "source": [
    "# finding the mode and median of PAY_1\n",
    "np.median(X_train[:,4])"
   ]
  },
  {
   "cell_type": "code",
   "execution_count": 162,
   "metadata": {},
   "outputs": [
    {
     "data": {
      "text/html": [
       "<div>\n",
       "<style scoped>\n",
       "    .dataframe tbody tr th:only-of-type {\n",
       "        vertical-align: middle;\n",
       "    }\n",
       "\n",
       "    .dataframe tbody tr th {\n",
       "        vertical-align: top;\n",
       "    }\n",
       "\n",
       "    .dataframe thead th {\n",
       "        text-align: right;\n",
       "    }\n",
       "</style>\n",
       "<table border=\"1\" class=\"dataframe\">\n",
       "  <thead>\n",
       "    <tr style=\"text-align: right;\">\n",
       "      <th></th>\n",
       "      <th>0</th>\n",
       "    </tr>\n",
       "  </thead>\n",
       "  <tbody>\n",
       "    <tr>\n",
       "      <th>0</th>\n",
       "      <td>0</td>\n",
       "    </tr>\n",
       "  </tbody>\n",
       "</table>\n",
       "</div>"
      ],
      "text/plain": [
       "   0\n",
       "0  0"
      ]
     },
     "execution_count": 162,
     "metadata": {},
     "output_type": "execute_result"
    }
   ],
   "source": [
    "pd.DataFrame(X_train[:,4]).mode()"
   ]
  },
  {
   "cell_type": "markdown",
   "metadata": {},
   "source": [
    "Since the median and mode are the same, we only have two imputation strategies\n",
    "to test: ***the mode/median and a random selection of non-missing***"
   ]
  },
  {
   "cell_type": "code",
   "execution_count": 163,
   "metadata": {},
   "outputs": [
    {
     "data": {
      "text/plain": [
       "[0, array([ 0,  0,  0, ...,  2,  0, -2], dtype=int64)]"
      ]
     },
     "execution_count": 163,
     "metadata": {},
     "output_type": "execute_result"
    }
   ],
   "source": [
    "np.random.seed(1)\n",
    "fill_values = [0, np.random.choice(X_train[:,4], size=(3021,),replace=True)]\n",
    "\n",
    "fill_values"
   ]
  },
  {
   "cell_type": "code",
   "execution_count": 164,
   "metadata": {},
   "outputs": [],
   "source": [
    "#Create a list of names for the imputation strategies to help keep track of them:\n",
    "fill_strategy = ['mode', 'random']"
   ]
  },
  {
   "cell_type": "code",
   "execution_count": 165,
   "metadata": {},
   "outputs": [
    {
     "data": {
      "text/plain": [
       "array([ 0,  0,  0, ...,  2,  0, -2], dtype=int64)"
      ]
     },
     "execution_count": 165,
     "metadata": {},
     "output_type": "execute_result"
    }
   ],
   "source": [
    "#Examine the second element of the fill_values list, which is the array of random selections of PAY_1\n",
    "\n",
    "fill_values[-1]"
   ]
  },
  {
   "cell_type": "markdown",
   "metadata": {},
   "source": [
    "The output looks as expected; these values are integers in the range [-2, 8] as we\n",
    "know PAY_1 is. However, it would be better to view a summary graphic of all the\n",
    "imputed values, to compare them to the distribution of PAY_1. This would allow us\n",
    "to confirm the distributions are the same, as is intended by random imputation\n",
    "done in this way."
   ]
  },
  {
   "cell_type": "code",
   "execution_count": 166,
   "metadata": {},
   "outputs": [
    {
     "data": {
      "image/png": "[encoded data removed]",
      "text/plain": [
       "<Figure size 640x240 with 2 Axes>"
      ]
     },
     "metadata": {
      "needs_background": "light"
     },
     "output_type": "display_data"
    }
   ],
   "source": [
    "fig , axes = plt.subplots(1,2,figsize=(8,3))\n",
    "bin_edges  = np.arange(-2,9)\n",
    "axes[0].hist(X_train[:,4], bins=bin_edges)\n",
    "axes[0].set_xticks(bin_edges)\n",
    "axes[0].set_title('Non- missing vales of PAY_1')\n",
    "axes[1].hist(fill_values[-1],bins=bin_edges)\n",
    "axes[1].set_title('Random selection for imputation')\n",
    "axes[1].set_xticks(bin_edges)\n",
    "plt.tight_layout()"
   ]
  },
  {
   "cell_type": "markdown",
   "metadata": {},
   "source": [
    "To do cross-validation on the training set, now we need to shuffle since all the samples with missing PAY_1 were concatenated on to the end."
   ]
  },
  {
   "cell_type": "markdown",
   "metadata": {},
   "source": [
    "now we will use simpler class called ***cross_validate***, in combination with the ***KFold class***. These classes can help us carry\n",
    "out cross-validation like GridSearchCV, but do not involve a search over a grid of\n",
    "hyperparameters."
   ]
  },
  {
   "cell_type": "code",
   "execution_count": 167,
   "metadata": {},
   "outputs": [],
   "source": [
    "from sklearn.model_selection import KFold"
   ]
  },
  {
   "cell_type": "code",
   "execution_count": 168,
   "metadata": {},
   "outputs": [],
   "source": [
    "k_folds = KFold(n_splits=4, shuffle=True,random_state=1 )"
   ]
  },
  {
   "cell_type": "code",
   "execution_count": 169,
   "metadata": {},
   "outputs": [],
   "source": [
    "from sklearn.model_selection import cross_validate\n",
    "from sklearn.ensemble import RandomForestClassifier"
   ]
  },
  {
   "cell_type": "code",
   "execution_count": 170,
   "metadata": {},
   "outputs": [],
   "source": [
    "# using best hyper parameter in random forest : 200 trees with maximum depth 9\n",
    "rf = RandomForestClassifier(n_estimators=200, criterion='gini',max_depth=9,min_samples_split=2,\n",
    "                            min_samples_leaf=1, min_weight_fraction_leaf=0.0,max_features='auto',\n",
    "                            max_leaf_nodes=None, min_impurity_decrease=0.0,min_impurity_split=None,                         \n",
    "                            bootstrap=True,oob_score=False, n_jobs=None, random_state=None,verbose=0,\n",
    "                            warm_start=False, class_weight=None)"
   ]
  },
  {
   "cell_type": "code",
   "execution_count": 171,
   "metadata": {},
   "outputs": [
    {
     "name": "stderr",
     "output_type": "stream",
     "text": [
      "[Parallel(n_jobs=-1)]: Using backend LokyBackend with 4 concurrent workers.\n",
      "C:\\Users\\nehat4\\Anaconda3\\lib\\site-packages\\joblib\\externals\\loky\\process_executor.py:706: UserWarning: A worker stopped while some jobs were given to the executor. This can be caused by a too short worker timeout or by a memory leak.\n",
      "  \"timeout or by a memory leak.\", UserWarning\n",
      "[Parallel(n_jobs=-1)]: Done   2 out of   4 | elapsed:   17.8s remaining:   17.8s\n",
      "[Parallel(n_jobs=-1)]: Done   4 out of   4 | elapsed:   18.7s finished\n",
      "[Parallel(n_jobs=-1)]: Using backend LokyBackend with 4 concurrent workers.\n"
     ]
    },
    {
     "name": "stdout",
     "output_type": "stream",
     "text": [
      "mode imputation: mean testing score 0.7710087101988695, std 0.011766811380260065\n",
      "random imputation: mean testing score 0.7675941403123431, std 0.0163235745799424\n"
     ]
    },
    {
     "name": "stderr",
     "output_type": "stream",
     "text": [
      "[Parallel(n_jobs=-1)]: Done   2 out of   4 | elapsed:   15.5s remaining:   15.5s\n",
      "[Parallel(n_jobs=-1)]: Done   4 out of   4 | elapsed:   15.6s finished\n"
     ]
    }
   ],
   "source": [
    "for counter in range(len(fill_values)):\n",
    "    #Copy the data frame with missing PAY_1 and assign imputed values\n",
    "    df_fill_pay_1_filled = df_missing_pay1.copy()\n",
    "    df_fill_pay_1_filled['PAY_1'] = fill_values[counter]\n",
    "    \n",
    "    \n",
    "    #Split imputed data in to training and testing, using the same\n",
    "    #80/20 split we have used for the data with non-missing PAY_1\n",
    "    X_fill_pay_1_train, X_fill_pay_1_test, y_fill_pay_1_train, y_fill_pay_1_test = \\\n",
    "                train_test_split( df_fill_pay_1_filled[features_response[:-1]].values,\n",
    "                df_fill_pay_1_filled['default_payment_next_month'].values,\n",
    "                test_size=0.2, random_state=24)\n",
    "    \n",
    "    # concatenate the imputed data with the array of non-missing data\n",
    "    \n",
    "    X_train_all = np.concatenate((X_train, X_fill_pay_1_train ), axis=0)\n",
    "    y_train_all = np.concatenate((y_train, y_fill_pay_1_train ), axis=0)\n",
    "    \n",
    "    #Use the KFolds splitter and the random forest model to get\n",
    "    #4-fold cross-validation scores for both imputation methods\n",
    "    \n",
    "    imputation_compare_cv = cross_validate(rf, X_train_all, y_train_all, scoring='roc_auc',\n",
    "                                          cv=4, n_jobs= -1 ,verbose = 1, return_train_score=True,\n",
    "                                          return_estimator=True, error_score='raise-deprecating')\n",
    "    test_score = imputation_compare_cv['test_score']\n",
    "    print(fill_strategy[counter] + ' imputation: ' +\n",
    "          'mean testing score ' + str(np.mean(test_score)) +\n",
    "          ', std ' + str(np.std(test_score)))\n",
    "    "
   ]
  },
  {
   "cell_type": "markdown",
   "metadata": {},
   "source": [
    "This is the step where the model fitting and testing of cross-validation is\n",
    "conducted, behind the scenes and abstracted away from our view by the cross_\n",
    "validation class.\n",
    "\n",
    "\n",
    "n_jobs=-1, indicating to run\n",
    "jobs in parallel to make things go more quickly.\n",
    "\n",
    "***The average testing score (ROC AUC) across the four\n",
    "folds is 0.773 for mode imputation, versus 0.769 using random imputation***\n"
   ]
  },
  {
   "cell_type": "markdown",
   "metadata": {},
   "source": [
    "The average testing score with missing values (using random forest) was 0.776. \n",
    "So, we have experienced a little degradation in the estimate of out-of-sample model testing\n",
    "performance. This is to be expected, as we are now including data that has issues and\n",
    "uncertainties. However, this is still within ```0.006 ROC AUC units of the best score ```we\n",
    "observed when working with the non-missing data, so it's not too much lower"
   ]
  },
  {
   "cell_type": "markdown",
   "metadata": {},
   "source": [
    "# Method 2 :A Predictive Model for PAY_1  (model based imputation)"
   ]
  },
  {
   "cell_type": "markdown",
   "metadata": {},
   "source": [
    "Complex methods like interpolation use additional information\n",
    "about how \"close\" a given sample is to other samples, in the spatial or temporal\n",
    "context, and leverage this for more accurate imputation.\n",
    "\n",
    "model-based imputation additionally uses all features without missing\n",
    "values, to predict the missing values of the affected feature. Therefore, model based\n",
    "imputation is similar to any other predictive model, where ***we consider the\n",
    "feature with missing values to be the response variable***."
   ]
  },
  {
   "cell_type": "markdown",
   "metadata": {},
   "source": [
    "* we would not consider PAY_1 to be a numerical\n",
    "    feature. Taking an average for imputation, which may lead to a decimal value, will not\n",
    "    make sense according to the definition of this feature.\n",
    "\n",
    "* Therefore, when considering what kind of supervised learning model to use\n",
    "    for PAY_1, we know it should be a classification model.\n",
    "    However, the classification model for PAY_1 will be multiclass classification problem (include all the levels\n",
    "    of this variable from -2 through 8)"
   ]
  },
  {
   "cell_type": "markdown",
   "metadata": {},
   "source": [
    "Goal : predict the PAY_1 missing values based available values for PAY_1\n",
    "    \n",
    "steps: \n",
    "1. Split the dataframe consisting of missing values of PAY_1 into test and train\n",
    "2. use the gridCV search on imputed PAY_1 train dataframe\n",
    "3. interpret the accuracy for train and test\n",
    "4. if the accuracy of model based trained imputation is higher that mode and random imputation\n",
    "   predict the values for PAY_1 based on model imputation using random forest model"
   ]
  },
  {
   "cell_type": "code",
   "execution_count": 172,
   "metadata": {},
   "outputs": [],
   "source": [
    "#create a copy of the cleaned DataFrame with non-missing values of PAY_1.\n",
    "pay_1_df = clean_df.copy()\n",
    "\n",
    "# This represents the data available for training and testing, since we know the value of the response variable, PAY_1"
   ]
  },
  {
   "cell_type": "code",
   "execution_count": 173,
   "metadata": {},
   "outputs": [
    {
     "data": {
      "text/plain": [
       "['LIMIT_BAL',\n",
       " 'EDUCATION',\n",
       " 'MARRIAGE',\n",
       " 'AGE',\n",
       " 'BILL_AMT1',\n",
       " 'BILL_AMT2',\n",
       " 'BILL_AMT3',\n",
       " 'BILL_AMT4',\n",
       " 'BILL_AMT5',\n",
       " 'BILL_AMT6',\n",
       " 'PAY_AMT1',\n",
       " 'PAY_AMT2',\n",
       " 'PAY_AMT3',\n",
       " 'PAY_AMT4',\n",
       " 'PAY_AMT5',\n",
       " 'PAY_AMT6',\n",
       " 'graduate_school',\n",
       " 'high_school']"
      ]
     },
     "execution_count": 173,
     "metadata": {},
     "output_type": "execute_result"
    }
   ],
   "source": [
    "# preparing features list for imputation\n",
    "features_for_imputation = pay_1_df.columns.tolist()\n",
    "items_to_remove = ['ID', 'SEX', 'PAY_2', 'PAY_3', 'PAY_4', 'PAY_5', 'PAY_6','EDUCATION_CAT',\n",
    "                   'graduate school', 'high school','others', 'university', \n",
    "                   'default_payment_next_month', 'PAY_1']\n",
    "features_for_imputation = [item for item in features_for_imputation if item not in items_to_remove]\n",
    "features_for_imputation"
   ]
  },
  {
   "cell_type": "code",
   "execution_count": 174,
   "metadata": {},
   "outputs": [],
   "source": [
    "X_impute_train, X_impute_test, y_impute_train, y_impute_test = \\\n",
    "                                    train_test_split(pay_1_df[features_for_imputation].values,\n",
    "                                    pay_1_df['PAY_1'].values,\n",
    "                                    test_size=0.2, random_state=24)"
   ]
  },
  {
   "cell_type": "code",
   "execution_count": 175,
   "metadata": {},
   "outputs": [],
   "source": [
    "rf_impute_params = {'max_depth':[3, 6, 9, 12],'n_estimators':[10, 50, 100, 200]}"
   ]
  },
  {
   "cell_type": "code",
   "execution_count": 176,
   "metadata": {},
   "outputs": [
    {
     "data": {
      "text/plain": [
       "RandomForestClassifier(bootstrap=True, ccp_alpha=0.0, class_weight=None,\n",
       "                       criterion='gini', max_depth=9, max_features='auto',\n",
       "                       max_leaf_nodes=None, max_samples=None,\n",
       "                       min_impurity_decrease=0.0, min_impurity_split=None,\n",
       "                       min_samples_leaf=1, min_samples_split=2,\n",
       "                       min_weight_fraction_leaf=0.0, n_estimators=200,\n",
       "                       n_jobs=None, oob_score=False, random_state=None,\n",
       "                       verbose=0, warm_start=False)"
      ]
     },
     "execution_count": 176,
     "metadata": {},
     "output_type": "execute_result"
    }
   ],
   "source": [
    "rf"
   ]
  },
  {
   "cell_type": "code",
   "execution_count": 177,
   "metadata": {},
   "outputs": [],
   "source": [
    "cv_rf_impute = GridSearchCV(rf, param_grid=rf_impute_params, scoring = 'accuracy', refit=True,\n",
    "                           cv = 4 , verbose=2, error_score=np.nan, return_train_score=True,\n",
    "                            n_jobs=-1)\n",
    "#this time we used scoring = accuracy \n",
    "\n",
    "#Notice here that we are re-using the random forest model instance 'rf' from the  credit account default model"
   ]
  },
  {
   "cell_type": "code",
   "execution_count": 178,
   "metadata": {},
   "outputs": [
    {
     "name": "stdout",
     "output_type": "stream",
     "text": [
      "Fitting 4 folds for each of 16 candidates, totalling 64 fits\n"
     ]
    },
    {
     "name": "stderr",
     "output_type": "stream",
     "text": [
      "[Parallel(n_jobs=-1)]: Using backend LokyBackend with 4 concurrent workers.\n",
      "[Parallel(n_jobs=-1)]: Done  33 tasks      | elapsed:   30.7s\n",
      "[Parallel(n_jobs=-1)]: Done  64 out of  64 | elapsed:  1.5min finished\n"
     ]
    },
    {
     "data": {
      "text/plain": [
       "GridSearchCV(cv=4, error_score=nan,\n",
       "             estimator=RandomForestClassifier(bootstrap=True, ccp_alpha=0.0,\n",
       "                                              class_weight=None,\n",
       "                                              criterion='gini', max_depth=9,\n",
       "                                              max_features='auto',\n",
       "                                              max_leaf_nodes=None,\n",
       "                                              max_samples=None,\n",
       "                                              min_impurity_decrease=0.0,\n",
       "                                              min_impurity_split=None,\n",
       "                                              min_samples_leaf=1,\n",
       "                                              min_samples_split=2,\n",
       "                                              min_weight_fraction_leaf=0.0,\n",
       "                                              n_estimators=200, n_jobs=None,\n",
       "                                              oob_score=False,\n",
       "                                              random_state=None, verbose=0,\n",
       "                                              warm_start=False),\n",
       "             iid='deprecated', n_jobs=-1,\n",
       "             param_grid={'max_depth': [3, 6, 9, 12],\n",
       "                         'n_estimators': [10, 50, 100, 200]},\n",
       "             pre_dispatch='2*n_jobs', refit=True, return_train_score=True,\n",
       "             scoring='accuracy', verbose=2)"
      ]
     },
     "execution_count": 178,
     "metadata": {},
     "output_type": "execute_result"
    }
   ],
   "source": [
    "cv_rf_impute.fit(X_impute_train, y_impute_train)"
   ]
  },
  {
   "cell_type": "code",
   "execution_count": 179,
   "metadata": {},
   "outputs": [
    {
     "data": {
      "text/plain": [
       "{'max_depth': 12, 'n_estimators': 200}"
      ]
     },
     "execution_count": 179,
     "metadata": {},
     "output_type": "execute_result"
    }
   ],
   "source": [
    "cv_rf_impute.best_params_"
   ]
  },
  {
   "cell_type": "code",
   "execution_count": 180,
   "metadata": {},
   "outputs": [
    {
     "data": {
      "text/plain": [
       "0.7323614052069177"
      ]
     },
     "execution_count": 180,
     "metadata": {},
     "output_type": "execute_result"
    }
   ],
   "source": [
    "cv_rf_impute.best_score_"
   ]
  },
  {
   "cell_type": "markdown",
   "metadata": {},
   "source": [
    "#### Interpretation of the Accuracy score"
   ]
  },
  {
   "cell_type": "code",
   "execution_count": 181,
   "metadata": {},
   "outputs": [
    {
     "data": {
      "text/plain": [
       "-2     2476\n",
       "-1     5047\n",
       " 0    13087\n",
       " 1     3261\n",
       " 2     2378\n",
       " 3      292\n",
       " 4       63\n",
       " 5       23\n",
       " 6       11\n",
       " 7        9\n",
       " 8       17\n",
       "Name: PAY_1, dtype: int64"
      ]
     },
     "execution_count": 181,
     "metadata": {},
     "output_type": "execute_result"
    }
   ],
   "source": [
    "pay_1_value_counts = pay_1_df['PAY_1'].value_counts().sort_index()\n",
    "pay_1_value_counts"
   ]
  },
  {
   "cell_type": "code",
   "execution_count": 182,
   "metadata": {},
   "outputs": [
    {
     "data": {
      "text/plain": [
       "-2    0.092859\n",
       "-1    0.189281\n",
       " 0    0.490812\n",
       " 1    0.122300\n",
       " 2    0.089184\n",
       " 3    0.010951\n",
       " 4    0.002363\n",
       " 5    0.000863\n",
       " 6    0.000413\n",
       " 7    0.000338\n",
       " 8    0.000638\n",
       "Name: PAY_1, dtype: float64"
      ]
     },
     "execution_count": 182,
     "metadata": {},
     "output_type": "execute_result"
    }
   ],
   "source": [
    "pay_1_value_counts / (pay_1_value_counts.sum())"
   ]
  },
  {
   "cell_type": "markdown",
   "metadata": {},
   "source": [
    "from this we can see that '0' consists of 49 % of the whole dataset. hence if we use the mode imputation (0)\n",
    "for filling missing values we can be correct 49% of the time. \n",
    "\n",
    "However, using a model to impute the values of PAY_1, we can be correct 73% ofthe time. \n",
    "\n",
    "So, one ***benefit of using model-based imputation is that we can make more accurate fill\n",
    "values for the unknown values of a feature***."
   ]
  },
  {
   "cell_type": "code",
   "execution_count": 183,
   "metadata": {},
   "outputs": [],
   "source": [
    "# predicting  on test set\n",
    "\n",
    "y_impute_predict = cv_rf_impute.predict (X_impute_test)"
   ]
  },
  {
   "cell_type": "code",
   "execution_count": 184,
   "metadata": {},
   "outputs": [
    {
     "data": {
      "text/plain": [
       "0.738983686480405"
      ]
     },
     "execution_count": 184,
     "metadata": {},
     "output_type": "execute_result"
    }
   ],
   "source": [
    "from sklearn import metrics \n",
    "metrics.accuracy_score(y_impute_test, y_impute_predict)"
   ]
  },
  {
   "cell_type": "code",
   "execution_count": 185,
   "metadata": {},
   "outputs": [
    {
     "data": {
      "text/plain": [
       "Text(0.5, 1.0, 'model based prediction of PAY_1')"
      ]
     },
     "execution_count": 185,
     "metadata": {},
     "output_type": "execute_result"
    },
    {
     "data": {
      "image/png": "[encoded data removed]",
      "text/plain": [
       "<Figure size 1200x480 with 2 Axes>"
      ]
     },
     "metadata": {
      "needs_background": "light"
     },
     "output_type": "display_data"
    }
   ],
   "source": [
    "# visualisation of predicted test model results and comparing it with actual values of test model\n",
    "\n",
    "fig, axes = plt.subplots(1,2,figsize=(15,6))\n",
    "bin_edges = np.arange(-2,9)\n",
    "axes[0].hist(y_impute_test, bins = bin_edges)\n",
    "axes[0].set_xticks(bin_edges)\n",
    "axes[0].set_title('Non missing values of PAY_1')\n",
    "axes[1].hist(y_impute_predict,bins=bin_edges)\n",
    "axes[0].set_xticks(bin_edges)\n",
    "axes[0].set_title('model based prediction of PAY_1')\n",
    "\n"
   ]
  },
  {
   "cell_type": "markdown",
   "metadata": {},
   "source": [
    "This shows that the imputation model is more likely to predict a value of 0\n",
    "for PAY_1 than it should be. However, it does predict other values and consequently\n",
    "is more accurate than the mode imputation"
   ]
  },
  {
   "cell_type": "markdown",
   "metadata": {},
   "source": [
    "# Using the imputation model for PAY_1"
   ]
  },
  {
   "cell_type": "code",
   "execution_count": 186,
   "metadata": {},
   "outputs": [],
   "source": [
    "#Collect all the values with known PAY_1 to train the final version of the imputation model\n",
    "\n",
    "X_impute_all = pay_1_df[features_for_imputation].values\n",
    "\n",
    "y_impute_all =  pay_1_df['PAY_1'].values\n"
   ]
  },
  {
   "cell_type": "code",
   "execution_count": 187,
   "metadata": {},
   "outputs": [],
   "source": [
    "rf_impute = RandomForestClassifier(n_estimators=200, max_depth=12)"
   ]
  },
  {
   "cell_type": "code",
   "execution_count": 188,
   "metadata": {},
   "outputs": [
    {
     "data": {
      "text/plain": [
       "RandomForestClassifier(bootstrap=True, ccp_alpha=0.0, class_weight=None,\n",
       "                       criterion='gini', max_depth=12, max_features='auto',\n",
       "                       max_leaf_nodes=None, max_samples=None,\n",
       "                       min_impurity_decrease=0.0, min_impurity_split=None,\n",
       "                       min_samples_leaf=1, min_samples_split=2,\n",
       "                       min_weight_fraction_leaf=0.0, n_estimators=200,\n",
       "                       n_jobs=None, oob_score=False, random_state=None,\n",
       "                       verbose=0, warm_start=False)"
      ]
     },
     "execution_count": 188,
     "metadata": {},
     "output_type": "execute_result"
    }
   ],
   "source": [
    "rf_impute.fit(X_impute_all, y_impute_all)"
   ]
  },
  {
   "cell_type": "code",
   "execution_count": 189,
   "metadata": {},
   "outputs": [
    {
     "data": {
      "text/plain": [
       "(3021, 29)"
      ]
     },
     "execution_count": 189,
     "metadata": {},
     "output_type": "execute_result"
    }
   ],
   "source": [
    "# make a copy of the DataFrame with missing PAY_1\n",
    "df_fill_pay_1_model = df_missing_pay1.copy()\n",
    "df_fill_pay_1_model.shape"
   ]
  },
  {
   "cell_type": "code",
   "execution_count": 190,
   "metadata": {},
   "outputs": [
    {
     "data": {
      "text/plain": [
       "17       Not available\n",
       "28       Not available\n",
       "29       Not available\n",
       "54       Not available\n",
       "60       Not available\n",
       "             ...      \n",
       "29949    Not available\n",
       "29956    Not available\n",
       "29967    Not available\n",
       "29973    Not available\n",
       "29984    Not available\n",
       "Name: PAY_1, Length: 3021, dtype: object"
      ]
     },
     "execution_count": 190,
     "metadata": {},
     "output_type": "execute_result"
    }
   ],
   "source": [
    "#Examine the values of PAY_1, to confirm they represent missing data\n",
    "df_fill_pay_1_model['PAY_1']"
   ]
  },
  {
   "cell_type": "code",
   "execution_count": 191,
   "metadata": {},
   "outputs": [],
   "source": [
    "df_fill_pay_1_model['PAY_1'] = rf_impute.predict(df_fill_pay_1_model[features_for_imputation].values)"
   ]
  },
  {
   "cell_type": "code",
   "execution_count": 192,
   "metadata": {},
   "outputs": [
    {
     "data": {
      "text/plain": [
       "-2      29\n",
       "-1     762\n",
       " 0    1730\n",
       " 1     442\n",
       " 2      48\n",
       " 3       7\n",
       " 5       1\n",
       " 6       1\n",
       " 8       1\n",
       "Name: PAY_1, dtype: int64"
      ]
     },
     "execution_count": 192,
     "metadata": {},
     "output_type": "execute_result"
    }
   ],
   "source": [
    "df_fill_pay_1_model['PAY_1'].value_counts().sort_index()"
   ]
  },
  {
   "cell_type": "markdown",
   "metadata": {},
   "source": [
    "we need\n",
    "to take an 80% sample of these to combine with the model training data for the case\n",
    "study, to examine how this imputation method affects model performance, as we did for\n",
    "mode and random imputation."
   ]
  },
  {
   "cell_type": "code",
   "execution_count": 193,
   "metadata": {},
   "outputs": [],
   "source": [
    "# Split the model-imputed data :\n",
    "X_fill_pay_1_train, X_fill_pay_1_test, y_fill_pay_1_train, y_fill_pay_1_test = \\\n",
    "                                    train_test_split ( df_fill_pay_1_model[features_response[:-1]].values,\n",
    "                                                    df_fill_pay_1_model['default_payment_next_month'].values,\n",
    "                                                    test_size=0.2, random_state=24 ) "
   ]
  },
  {
   "cell_type": "code",
   "execution_count": 194,
   "metadata": {},
   "outputs": [
    {
     "data": {
      "text/plain": [
       "RandomForestClassifier(bootstrap=True, ccp_alpha=0.0, class_weight=None,\n",
       "                       criterion='gini', max_depth=9, max_features='auto',\n",
       "                       max_leaf_nodes=None, max_samples=None,\n",
       "                       min_impurity_decrease=0.0, min_impurity_split=None,\n",
       "                       min_samples_leaf=1, min_samples_split=2,\n",
       "                       min_weight_fraction_leaf=0.0, n_estimators=200,\n",
       "                       n_jobs=None, oob_score=False, random_state=None,\n",
       "                       verbose=0, warm_start=False)"
      ]
     },
     "execution_count": 194,
     "metadata": {},
     "output_type": "execute_result"
    }
   ],
   "source": [
    "#Combine this with the data with known PAY_1:\n",
    "\n",
    "X_train_all = np.concatenate((X_train, X_fill_pay_1_train), axis=0)\n",
    "y_train_all = np.concatenate((y_train, y_fill_pay_1_train), axis=0)\n",
    "rf #Confirm that the rf object still holds the model with optimal hyperparameters"
   ]
  },
  {
   "cell_type": "code",
   "execution_count": 195,
   "metadata": {},
   "outputs": [
    {
     "name": "stderr",
     "output_type": "stream",
     "text": [
      "[Parallel(n_jobs=-1)]: Using backend LokyBackend with 4 concurrent workers.\n",
      "[Parallel(n_jobs=-1)]: Done   2 out of   4 | elapsed:   15.5s remaining:   15.5s\n",
      "[Parallel(n_jobs=-1)]: Done   4 out of   4 | elapsed:   15.7s finished\n"
     ]
    }
   ],
   "source": [
    "# use this model with the combined imputed and non-missing training data in \n",
    "# cross-validation as we did with the other imputation methods, to test modelbased\n",
    "# imputation:\n",
    "\n",
    "imputation_compare_cv = cross_validate(rf, X_train_all, y_train_all,scoring='roc_auc',\n",
    "                                      cv=4, n_jobs=-1, verbose=1,\n",
    "                                      return_train_score=True, return_estimator=True,\n",
    "                                      error_score='raise-deprecating')"
   ]
  },
  {
   "cell_type": "code",
   "execution_count": 196,
   "metadata": {},
   "outputs": [
    {
     "data": {
      "text/plain": [
       "0.7723527525740674"
      ]
     },
     "execution_count": 196,
     "metadata": {},
     "output_type": "execute_result"
    }
   ],
   "source": [
    "np.mean(imputation_compare_cv['test_score'])"
   ]
  },
  {
   "cell_type": "markdown",
   "metadata": {},
   "source": [
    "Note:  model and mode imputation perform similarly, and a simple approach is usually advisable unless a more complicated approach clearly gets better results. hence we will use mode based approach for imputation."
   ]
  },
  {
   "cell_type": "code",
   "execution_count": 197,
   "metadata": {},
   "outputs": [],
   "source": [
    "# using mode value[0] to fill the PAY_1 values\n",
    "df_fill_pay_1_model['PAY_1'] = np.zeros_like(df_fill_pay_1_model['PAY_1'].values)\n",
    "\n",
    "#The zeros_like function of Numpy creates an array of zeros in the same shape as the input array."
   ]
  },
  {
   "cell_type": "code",
   "execution_count": 198,
   "metadata": {},
   "outputs": [],
   "source": [
    "# repeat the splitting of imputed data \n",
    "\n",
    "X_fill_pay_1_train, X_fill_pay_1_test, y_fill_pay_1_train, y_fill_pay_1_test = \\\n",
    "                                                    train_test_split(df_fill_pay_1_model[features_response[:-1]].values,\n",
    "                                                    df_fill_pay_1_model['default_payment_next_month'].values,\n",
    "                                                    test_size=0.2, random_state=24)\n",
    "\n",
    "# combine with the non-missing data, this time including the unseen test set\n",
    "X_train_all = np.concatenate((X_train, X_fill_pay_1_train), axis=0)\n",
    "X_test_all = np.concatenate((X_test, X_fill_pay_1_test), axis=0)\n",
    "y_train_all = np.concatenate((y_train, y_fill_pay_1_train), axis=0)\n",
    "y_test_all = np.concatenate((y_test, y_fill_pay_1_test), axis=0)"
   ]
  },
  {
   "cell_type": "code",
   "execution_count": 199,
   "metadata": {},
   "outputs": [
    {
     "name": "stderr",
     "output_type": "stream",
     "text": [
      "[Parallel(n_jobs=-1)]: Using backend LokyBackend with 4 concurrent workers.\n",
      "[Parallel(n_jobs=-1)]: Done   2 out of   4 | elapsed:   13.5s remaining:   13.5s\n",
      "[Parallel(n_jobs=-1)]: Done   4 out of   4 | elapsed:   13.6s finished\n"
     ]
    }
   ],
   "source": [
    "# Just to confirm that the data has been restored to the state it was in when we tested\n",
    "# mode-based imputation earlier, we run the cross-validation to confirm that we get the\n",
    "# same score\n",
    "\n",
    "\n",
    "imputation_compare_cv = cross_validate(rf, X_train_all, y_train_all, scoring='roc_auc',\n",
    "                                          cv=4, n_jobs= -1 ,verbose = 1, return_train_score=True,\n",
    "                                          return_estimator=True, error_score='raise-deprecating')\n"
   ]
  },
  {
   "cell_type": "code",
   "execution_count": 200,
   "metadata": {},
   "outputs": [
    {
     "data": {
      "text/plain": [
       "0.7706805728063374"
      ]
     },
     "execution_count": 200,
     "metadata": {},
     "output_type": "execute_result"
    }
   ],
   "source": [
    "np.mean(imputation_compare_cv['test_score'])"
   ]
  },
  {
   "cell_type": "markdown",
   "metadata": {},
   "source": [
    "# Confirming Model Performance on the Unseen Test Set"
   ]
  },
  {
   "cell_type": "code",
   "execution_count": 201,
   "metadata": {},
   "outputs": [
    {
     "data": {
      "text/plain": [
       "RandomForestClassifier(bootstrap=True, ccp_alpha=0.0, class_weight=None,\n",
       "                       criterion='gini', max_depth=9, max_features='auto',\n",
       "                       max_leaf_nodes=None, max_samples=None,\n",
       "                       min_impurity_decrease=0.0, min_impurity_split=None,\n",
       "                       min_samples_leaf=1, min_samples_split=2,\n",
       "                       min_weight_fraction_leaf=0.0, n_estimators=200,\n",
       "                       n_jobs=None, oob_score=False, random_state=None,\n",
       "                       verbose=0, warm_start=False)"
      ]
     },
     "execution_count": 201,
     "metadata": {},
     "output_type": "execute_result"
    }
   ],
   "source": [
    "rf.fit(X_train_all, y_train_all)"
   ]
  },
  {
   "cell_type": "code",
   "execution_count": 202,
   "metadata": {},
   "outputs": [],
   "source": [
    "y_test_all_predict_proba = rf.predict_proba(X_test_all)"
   ]
  },
  {
   "cell_type": "code",
   "execution_count": 203,
   "metadata": {},
   "outputs": [
    {
     "data": {
      "text/plain": [
       "0.76838464954203"
      ]
     },
     "execution_count": 203,
     "metadata": {},
     "output_type": "execute_result"
    }
   ],
   "source": [
    "from sklearn.metrics import roc_auc_score\n",
    "roc_auc_score(y_test_all, y_test_all_predict_proba[:,1])"
   ]
  },
  {
   "cell_type": "code",
   "execution_count": null,
   "metadata": {},
   "outputs": [],
   "source": []
  },
  {
   "cell_type": "markdown",
   "metadata": {},
   "source": [
    "# Characterizing Costs and Savings"
   ]
  },
  {
   "cell_type": "code",
   "execution_count": 206,
   "metadata": {},
   "outputs": [],
   "source": [
    "thresholds = np.linspace(0,1, 101)"
   ]
  },
  {
   "cell_type": "code",
   "execution_count": 207,
   "metadata": {},
   "outputs": [
    {
     "data": {
      "text/plain": [
       "51601.7433479286"
      ]
     },
     "execution_count": 207,
     "metadata": {},
     "output_type": "execute_result"
    }
   ],
   "source": [
    "savings_per_default = np.mean(X_test_all[:,5])\n",
    "savings_per_default"
   ]
  },
  {
   "cell_type": "code",
   "execution_count": 208,
   "metadata": {},
   "outputs": [],
   "source": [
    "cost_per_counseling = 7500"
   ]
  },
  {
   "cell_type": "code",
   "execution_count": 209,
   "metadata": {},
   "outputs": [],
   "source": [
    "effectiveness = 0.70"
   ]
  },
  {
   "cell_type": "code",
   "execution_count": 213,
   "metadata": {},
   "outputs": [],
   "source": [
    "n_pos_pred = np.empty_like(thresholds)  # no of positive thresholds\n",
    "cost_of_all_counselings = np.empty_like(thresholds)\n",
    "n_true_pos = np.empty_like(thresholds)\n",
    "savings_of_all_counselings = np.empty_like(thresholds)\n",
    "savings_based_on_balances = np.empty_like(thresholds)"
   ]
  },
  {
   "cell_type": "code",
   "execution_count": 214,
   "metadata": {},
   "outputs": [],
   "source": [
    "counter=0\n",
    "for threshold in thresholds:\n",
    "    #For each threshold, there will a different number of positive predictions, according \n",
    "    # to how many predicted probabilities are above that threshold. These correspond\n",
    "    # to accounts that are predicted to default. Each account that is predicted to\n",
    "    # default, will receive a counseling phone call, which has a cost associated with it.\n",
    "    \n",
    "    \n",
    "    #Determine which accounts get positive predictions, at this threshold :\n",
    "    pos_pred = y_test_all_predict_proba[:,1] > threshold\n",
    "    # pos_pred is a Boolean array. The sum of pos_pred indicates the number of predicted\n",
    "    #defaults, at this threshold\n",
    "    \n",
    "    # calculate the no of positive predictions, at this threshold\n",
    "    n_pos_pred[counter] = sum(pos_pred)\n",
    "    \n",
    "    cost_of_all_counselings[counter] = n_pos_pred[counter] * cost_per_counseling \n",
    "    \n",
    "    true_pos = pos_pred & y_test_all.astype(bool)\n",
    "    n_true_pos[counter] = sum(true_pos)\n",
    "    \n",
    "    #Calculate the anticipated savings at this threshold using the number of true\n",
    "    # positives, the savings per prevented default, and the effectiveness rate of\n",
    "    # counseling\n",
    "    savings_of_all_counselings[counter] = n_true_pos[counter] * savings_per_default *effectiveness\n",
    "    \n",
    "    counter +=1\n",
    "    \n",
    "    \n",
    "    "
   ]
  },
  {
   "cell_type": "code",
   "execution_count": 218,
   "metadata": {},
   "outputs": [],
   "source": [
    "# Calculate net savings for all the thresholds by subtracting the savings and cost\n",
    "# arrays:\n",
    "\n",
    "net_savings = savings_of_all_counselings-cost_of_all_counselings\n"
   ]
  },
  {
   "cell_type": "code",
   "execution_count": 219,
   "metadata": {},
   "outputs": [
    {
     "data": {
      "image/png": "[encoded data removed]",
      "text/plain": [
       "<Figure size 480x320 with 1 Axes>"
      ]
     },
     "metadata": {
      "needs_background": "light"
     },
     "output_type": "display_data"
    }
   ],
   "source": [
    "plt.plot(thresholds,net_savings )\n",
    "plt.xlabel('Threshold')\n",
    "plt.ylabel('Net savings (NT$)')\n",
    "plt.xticks(np.linspace(0,1,11))\n",
    "plt.grid(True)"
   ]
  },
  {
   "cell_type": "code",
   "execution_count": null,
   "metadata": {},
   "outputs": [],
   "source": []
  },
  {
   "cell_type": "code",
   "execution_count": null,
   "metadata": {},
   "outputs": [],
   "source": []
  },
  {
   "cell_type": "code",
   "execution_count": null,
   "metadata": {},
   "outputs": [],
   "source": []
  },
  {
   "cell_type": "code",
   "execution_count": null,
   "metadata": {},
   "outputs": [],
   "source": []
  },
  {
   "cell_type": "code",
   "execution_count": null,
   "metadata": {},
   "outputs": [],
   "source": []
  },
  {
   "cell_type": "code",
   "execution_count": null,
   "metadata": {},
   "outputs": [],
   "source": []
  },
  {
   "cell_type": "code",
   "execution_count": null,
   "metadata": {},
   "outputs": [],
   "source": []
  },
  {
   "cell_type": "code",
   "execution_count": null,
   "metadata": {},
   "outputs": [],
   "source": []
  }
 ],
 "metadata": {
  "kernelspec": {
   "display_name": "Python 3",
   "language": "python",
   "name": "python3"
  },
  "language_info": {
   "codemirror_mode": {
    "name": "ipython",
    "version": 3
   },
   "file_extension": ".py",
   "mimetype": "text/x-python",
   "name": "python",
   "nbconvert_exporter": "python",
   "pygments_lexer": "ipython3",
   "version": "3.7.6"
  }
 },
 "nbformat": 4,
 "nbformat_minor": 4
}
